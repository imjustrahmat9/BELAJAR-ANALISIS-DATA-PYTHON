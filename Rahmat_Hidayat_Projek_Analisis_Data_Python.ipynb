{
  "cells": [
    {
      "cell_type": "markdown",
      "id": "a5bc6bed-45fd-42a9-bfdf-196fce9c0b44",
      "metadata": {
        "id": "a5bc6bed-45fd-42a9-bfdf-196fce9c0b44"
      },
      "source": [
        "# Proyek Analisis Data: [E-Commerce Public Dataset]"
      ]
    },
    {
      "cell_type": "markdown",
      "id": "8b5303b6-71da-4a18-b232-c589e862a92b",
      "metadata": {
        "id": "8b5303b6-71da-4a18-b232-c589e862a92b"
      },
      "source": [
        "- Nama: Rahmat Hidayat\n",
        "- Email: mc013d5y1559@student.devacademy.id\n",
        "- ID Dicoding: MC013D5Y1559"
      ]
    },
    {
      "cell_type": "markdown",
      "id": "7e4b2b19-2350-4943-9405-81810a318d0b",
      "metadata": {
        "id": "7e4b2b19-2350-4943-9405-81810a318d0b"
      },
      "source": [
        "## Menentukan Pertanyaan Bisnis"
      ]
    },
    {
      "cell_type": "markdown",
      "id": "9a67187a-f50f-45c8-87c1-fe7136240d33",
      "metadata": {
        "id": "9a67187a-f50f-45c8-87c1-fe7136240d33"
      },
      "source": []
    },
    {
      "cell_type": "markdown",
      "metadata": {
        "id": "GmQeQ5YF8DC0"
      },
      "source": [
        "1.   Produk mana yang memiliki penjualan tertinggi dan terendah?\n",
        "2.   Berapa total pendapatan yang diperoleh dalam enam bulan terakhir dan selama seluruh periode?\n",
        "\n"
      ],
      "id": "GmQeQ5YF8DC0"
    },
    {
      "cell_type": "markdown",
      "id": "af43ac27-73ce-44f3-8698-af2719103d54",
      "metadata": {
        "id": "af43ac27-73ce-44f3-8698-af2719103d54"
      },
      "source": [
        "## Import Semua Packages/Library yang Digunakan"
      ]
    },
    {
      "cell_type": "code",
      "execution_count": 1,
      "id": "f80d5bf1-e4f3-4905-bd6e-dc752f85fb77",
      "metadata": {
        "id": "f80d5bf1-e4f3-4905-bd6e-dc752f85fb77"
      },
      "outputs": [],
      "source": [
        "import numpy as np\n",
        "import pandas as pd\n",
        "import matplotlib.pyplot as plt\n",
        "import seaborn as sns"
      ]
    },
    {
      "cell_type": "markdown",
      "id": "0c265c79-cabb-489f-a0de-8af3c7d3ee30",
      "metadata": {
        "id": "0c265c79-cabb-489f-a0de-8af3c7d3ee30"
      },
      "source": [
        "## Data Wrangling"
      ]
    },
    {
      "cell_type": "markdown",
      "id": "e18e74d3-c0ce-4b9b-ac81-9a8fa86f430e",
      "metadata": {
        "id": "e18e74d3-c0ce-4b9b-ac81-9a8fa86f430e"
      },
      "source": [
        "### Gathering data"
      ]
    },
    {
      "cell_type": "markdown",
      "source": [],
      "metadata": {
        "id": "R0jrBui_olVC"
      },
      "id": "R0jrBui_olVC"
    },
    {
      "cell_type": "markdown",
      "id": "68f47acc-297e-49a1-ab43-c41992a71110",
      "metadata": {
        "id": "68f47acc-297e-49a1-ab43-c41992a71110"
      },
      "source": [
        "**1. Memuat tabel orders**"
      ]
    },
    {
      "cell_type": "code",
      "execution_count": 4,
      "id": "b5e98007-3bd1-4631-939a-83aa52310735",
      "metadata": {
        "id": "b5e98007-3bd1-4631-939a-83aa52310735",
        "outputId": "7cb1e7f6-c144-43da-bfc6-9f26364f1643",
        "colab": {
          "base_uri": "https://localhost:8080/",
          "height": 226
        }
      },
      "outputs": [
        {
          "output_type": "execute_result",
          "data": {
            "text/plain": [
              "                           order_id                       customer_id  \\\n",
              "0  e481f51cbdc54678b7cc49136f2d6af7  9ef432eb6251297304e76186b10a928d   \n",
              "1  53cdb2fc8bc7dce0b6741e2150273451  b0830fb4747a6c6d20dea0b8c802d7ef   \n",
              "2  47770eb9100c2d0c44946d9cf07ec65d  41ce2a54c0b03bf3443c3d931a367089   \n",
              "3  949d5b44dbf5de918fe9c16f97b45f8a  f88197465ea7920adcdbec7375364d82   \n",
              "4  ad21c59c0840e6cb83a9ceb5573f8159  8ab97904e6daea8866dbdbc4fb7aad2c   \n",
              "\n",
              "  order_status order_purchase_timestamp    order_approved_at  \\\n",
              "0    delivered      2017-10-02 10:56:33  2017-10-02 11:07:15   \n",
              "1    delivered      2018-07-24 20:41:37  2018-07-26 03:24:27   \n",
              "2    delivered      2018-08-08 08:38:49  2018-08-08 08:55:23   \n",
              "3    delivered      2017-11-18 19:28:06  2017-11-18 19:45:59   \n",
              "4    delivered      2018-02-13 21:18:39  2018-02-13 22:20:29   \n",
              "\n",
              "  order_delivered_carrier_date order_delivered_customer_date  \\\n",
              "0          2017-10-04 19:55:00           2017-10-10 21:25:13   \n",
              "1          2018-07-26 14:31:00           2018-08-07 15:27:45   \n",
              "2          2018-08-08 13:50:00           2018-08-17 18:06:29   \n",
              "3          2017-11-22 13:39:59           2017-12-02 00:28:42   \n",
              "4          2018-02-14 19:46:34           2018-02-16 18:17:02   \n",
              "\n",
              "  order_estimated_delivery_date  \n",
              "0           2017-10-18 00:00:00  \n",
              "1           2018-08-13 00:00:00  \n",
              "2           2018-09-04 00:00:00  \n",
              "3           2017-12-15 00:00:00  \n",
              "4           2018-02-26 00:00:00  "
            ],
            "text/html": [
              "\n",
              "  <div id=\"df-265e7f9f-f45d-4566-9915-97f5b6c9aea4\" class=\"colab-df-container\">\n",
              "    <div>\n",
              "<style scoped>\n",
              "    .dataframe tbody tr th:only-of-type {\n",
              "        vertical-align: middle;\n",
              "    }\n",
              "\n",
              "    .dataframe tbody tr th {\n",
              "        vertical-align: top;\n",
              "    }\n",
              "\n",
              "    .dataframe thead th {\n",
              "        text-align: right;\n",
              "    }\n",
              "</style>\n",
              "<table border=\"1\" class=\"dataframe\">\n",
              "  <thead>\n",
              "    <tr style=\"text-align: right;\">\n",
              "      <th></th>\n",
              "      <th>order_id</th>\n",
              "      <th>customer_id</th>\n",
              "      <th>order_status</th>\n",
              "      <th>order_purchase_timestamp</th>\n",
              "      <th>order_approved_at</th>\n",
              "      <th>order_delivered_carrier_date</th>\n",
              "      <th>order_delivered_customer_date</th>\n",
              "      <th>order_estimated_delivery_date</th>\n",
              "    </tr>\n",
              "  </thead>\n",
              "  <tbody>\n",
              "    <tr>\n",
              "      <th>0</th>\n",
              "      <td>e481f51cbdc54678b7cc49136f2d6af7</td>\n",
              "      <td>9ef432eb6251297304e76186b10a928d</td>\n",
              "      <td>delivered</td>\n",
              "      <td>2017-10-02 10:56:33</td>\n",
              "      <td>2017-10-02 11:07:15</td>\n",
              "      <td>2017-10-04 19:55:00</td>\n",
              "      <td>2017-10-10 21:25:13</td>\n",
              "      <td>2017-10-18 00:00:00</td>\n",
              "    </tr>\n",
              "    <tr>\n",
              "      <th>1</th>\n",
              "      <td>53cdb2fc8bc7dce0b6741e2150273451</td>\n",
              "      <td>b0830fb4747a6c6d20dea0b8c802d7ef</td>\n",
              "      <td>delivered</td>\n",
              "      <td>2018-07-24 20:41:37</td>\n",
              "      <td>2018-07-26 03:24:27</td>\n",
              "      <td>2018-07-26 14:31:00</td>\n",
              "      <td>2018-08-07 15:27:45</td>\n",
              "      <td>2018-08-13 00:00:00</td>\n",
              "    </tr>\n",
              "    <tr>\n",
              "      <th>2</th>\n",
              "      <td>47770eb9100c2d0c44946d9cf07ec65d</td>\n",
              "      <td>41ce2a54c0b03bf3443c3d931a367089</td>\n",
              "      <td>delivered</td>\n",
              "      <td>2018-08-08 08:38:49</td>\n",
              "      <td>2018-08-08 08:55:23</td>\n",
              "      <td>2018-08-08 13:50:00</td>\n",
              "      <td>2018-08-17 18:06:29</td>\n",
              "      <td>2018-09-04 00:00:00</td>\n",
              "    </tr>\n",
              "    <tr>\n",
              "      <th>3</th>\n",
              "      <td>949d5b44dbf5de918fe9c16f97b45f8a</td>\n",
              "      <td>f88197465ea7920adcdbec7375364d82</td>\n",
              "      <td>delivered</td>\n",
              "      <td>2017-11-18 19:28:06</td>\n",
              "      <td>2017-11-18 19:45:59</td>\n",
              "      <td>2017-11-22 13:39:59</td>\n",
              "      <td>2017-12-02 00:28:42</td>\n",
              "      <td>2017-12-15 00:00:00</td>\n",
              "    </tr>\n",
              "    <tr>\n",
              "      <th>4</th>\n",
              "      <td>ad21c59c0840e6cb83a9ceb5573f8159</td>\n",
              "      <td>8ab97904e6daea8866dbdbc4fb7aad2c</td>\n",
              "      <td>delivered</td>\n",
              "      <td>2018-02-13 21:18:39</td>\n",
              "      <td>2018-02-13 22:20:29</td>\n",
              "      <td>2018-02-14 19:46:34</td>\n",
              "      <td>2018-02-16 18:17:02</td>\n",
              "      <td>2018-02-26 00:00:00</td>\n",
              "    </tr>\n",
              "  </tbody>\n",
              "</table>\n",
              "</div>\n",
              "    <div class=\"colab-df-buttons\">\n",
              "\n",
              "  <div class=\"colab-df-container\">\n",
              "    <button class=\"colab-df-convert\" onclick=\"convertToInteractive('df-265e7f9f-f45d-4566-9915-97f5b6c9aea4')\"\n",
              "            title=\"Convert this dataframe to an interactive table.\"\n",
              "            style=\"display:none;\">\n",
              "\n",
              "  <svg xmlns=\"http://www.w3.org/2000/svg\" height=\"24px\" viewBox=\"0 -960 960 960\">\n",
              "    <path d=\"M120-120v-720h720v720H120Zm60-500h600v-160H180v160Zm220 220h160v-160H400v160Zm0 220h160v-160H400v160ZM180-400h160v-160H180v160Zm440 0h160v-160H620v160ZM180-180h160v-160H180v160Zm440 0h160v-160H620v160Z\"/>\n",
              "  </svg>\n",
              "    </button>\n",
              "\n",
              "  <style>\n",
              "    .colab-df-container {\n",
              "      display:flex;\n",
              "      gap: 12px;\n",
              "    }\n",
              "\n",
              "    .colab-df-convert {\n",
              "      background-color: #E8F0FE;\n",
              "      border: none;\n",
              "      border-radius: 50%;\n",
              "      cursor: pointer;\n",
              "      display: none;\n",
              "      fill: #1967D2;\n",
              "      height: 32px;\n",
              "      padding: 0 0 0 0;\n",
              "      width: 32px;\n",
              "    }\n",
              "\n",
              "    .colab-df-convert:hover {\n",
              "      background-color: #E2EBFA;\n",
              "      box-shadow: 0px 1px 2px rgba(60, 64, 67, 0.3), 0px 1px 3px 1px rgba(60, 64, 67, 0.15);\n",
              "      fill: #174EA6;\n",
              "    }\n",
              "\n",
              "    .colab-df-buttons div {\n",
              "      margin-bottom: 4px;\n",
              "    }\n",
              "\n",
              "    [theme=dark] .colab-df-convert {\n",
              "      background-color: #3B4455;\n",
              "      fill: #D2E3FC;\n",
              "    }\n",
              "\n",
              "    [theme=dark] .colab-df-convert:hover {\n",
              "      background-color: #434B5C;\n",
              "      box-shadow: 0px 1px 3px 1px rgba(0, 0, 0, 0.15);\n",
              "      filter: drop-shadow(0px 1px 2px rgba(0, 0, 0, 0.3));\n",
              "      fill: #FFFFFF;\n",
              "    }\n",
              "  </style>\n",
              "\n",
              "    <script>\n",
              "      const buttonEl =\n",
              "        document.querySelector('#df-265e7f9f-f45d-4566-9915-97f5b6c9aea4 button.colab-df-convert');\n",
              "      buttonEl.style.display =\n",
              "        google.colab.kernel.accessAllowed ? 'block' : 'none';\n",
              "\n",
              "      async function convertToInteractive(key) {\n",
              "        const element = document.querySelector('#df-265e7f9f-f45d-4566-9915-97f5b6c9aea4');\n",
              "        const dataTable =\n",
              "          await google.colab.kernel.invokeFunction('convertToInteractive',\n",
              "                                                    [key], {});\n",
              "        if (!dataTable) return;\n",
              "\n",
              "        const docLinkHtml = 'Like what you see? Visit the ' +\n",
              "          '<a target=\"_blank\" href=https://colab.research.google.com/notebooks/data_table.ipynb>data table notebook</a>'\n",
              "          + ' to learn more about interactive tables.';\n",
              "        element.innerHTML = '';\n",
              "        dataTable['output_type'] = 'display_data';\n",
              "        await google.colab.output.renderOutput(dataTable, element);\n",
              "        const docLink = document.createElement('div');\n",
              "        docLink.innerHTML = docLinkHtml;\n",
              "        element.appendChild(docLink);\n",
              "      }\n",
              "    </script>\n",
              "  </div>\n",
              "\n",
              "\n",
              "<div id=\"df-1b7506ef-badd-4a04-ade8-008b301b68ff\">\n",
              "  <button class=\"colab-df-quickchart\" onclick=\"quickchart('df-1b7506ef-badd-4a04-ade8-008b301b68ff')\"\n",
              "            title=\"Suggest charts\"\n",
              "            style=\"display:none;\">\n",
              "\n",
              "<svg xmlns=\"http://www.w3.org/2000/svg\" height=\"24px\"viewBox=\"0 0 24 24\"\n",
              "     width=\"24px\">\n",
              "    <g>\n",
              "        <path d=\"M19 3H5c-1.1 0-2 .9-2 2v14c0 1.1.9 2 2 2h14c1.1 0 2-.9 2-2V5c0-1.1-.9-2-2-2zM9 17H7v-7h2v7zm4 0h-2V7h2v10zm4 0h-2v-4h2v4z\"/>\n",
              "    </g>\n",
              "</svg>\n",
              "  </button>\n",
              "\n",
              "<style>\n",
              "  .colab-df-quickchart {\n",
              "      --bg-color: #E8F0FE;\n",
              "      --fill-color: #1967D2;\n",
              "      --hover-bg-color: #E2EBFA;\n",
              "      --hover-fill-color: #174EA6;\n",
              "      --disabled-fill-color: #AAA;\n",
              "      --disabled-bg-color: #DDD;\n",
              "  }\n",
              "\n",
              "  [theme=dark] .colab-df-quickchart {\n",
              "      --bg-color: #3B4455;\n",
              "      --fill-color: #D2E3FC;\n",
              "      --hover-bg-color: #434B5C;\n",
              "      --hover-fill-color: #FFFFFF;\n",
              "      --disabled-bg-color: #3B4455;\n",
              "      --disabled-fill-color: #666;\n",
              "  }\n",
              "\n",
              "  .colab-df-quickchart {\n",
              "    background-color: var(--bg-color);\n",
              "    border: none;\n",
              "    border-radius: 50%;\n",
              "    cursor: pointer;\n",
              "    display: none;\n",
              "    fill: var(--fill-color);\n",
              "    height: 32px;\n",
              "    padding: 0;\n",
              "    width: 32px;\n",
              "  }\n",
              "\n",
              "  .colab-df-quickchart:hover {\n",
              "    background-color: var(--hover-bg-color);\n",
              "    box-shadow: 0 1px 2px rgba(60, 64, 67, 0.3), 0 1px 3px 1px rgba(60, 64, 67, 0.15);\n",
              "    fill: var(--button-hover-fill-color);\n",
              "  }\n",
              "\n",
              "  .colab-df-quickchart-complete:disabled,\n",
              "  .colab-df-quickchart-complete:disabled:hover {\n",
              "    background-color: var(--disabled-bg-color);\n",
              "    fill: var(--disabled-fill-color);\n",
              "    box-shadow: none;\n",
              "  }\n",
              "\n",
              "  .colab-df-spinner {\n",
              "    border: 2px solid var(--fill-color);\n",
              "    border-color: transparent;\n",
              "    border-bottom-color: var(--fill-color);\n",
              "    animation:\n",
              "      spin 1s steps(1) infinite;\n",
              "  }\n",
              "\n",
              "  @keyframes spin {\n",
              "    0% {\n",
              "      border-color: transparent;\n",
              "      border-bottom-color: var(--fill-color);\n",
              "      border-left-color: var(--fill-color);\n",
              "    }\n",
              "    20% {\n",
              "      border-color: transparent;\n",
              "      border-left-color: var(--fill-color);\n",
              "      border-top-color: var(--fill-color);\n",
              "    }\n",
              "    30% {\n",
              "      border-color: transparent;\n",
              "      border-left-color: var(--fill-color);\n",
              "      border-top-color: var(--fill-color);\n",
              "      border-right-color: var(--fill-color);\n",
              "    }\n",
              "    40% {\n",
              "      border-color: transparent;\n",
              "      border-right-color: var(--fill-color);\n",
              "      border-top-color: var(--fill-color);\n",
              "    }\n",
              "    60% {\n",
              "      border-color: transparent;\n",
              "      border-right-color: var(--fill-color);\n",
              "    }\n",
              "    80% {\n",
              "      border-color: transparent;\n",
              "      border-right-color: var(--fill-color);\n",
              "      border-bottom-color: var(--fill-color);\n",
              "    }\n",
              "    90% {\n",
              "      border-color: transparent;\n",
              "      border-bottom-color: var(--fill-color);\n",
              "    }\n",
              "  }\n",
              "</style>\n",
              "\n",
              "  <script>\n",
              "    async function quickchart(key) {\n",
              "      const quickchartButtonEl =\n",
              "        document.querySelector('#' + key + ' button');\n",
              "      quickchartButtonEl.disabled = true;  // To prevent multiple clicks.\n",
              "      quickchartButtonEl.classList.add('colab-df-spinner');\n",
              "      try {\n",
              "        const charts = await google.colab.kernel.invokeFunction(\n",
              "            'suggestCharts', [key], {});\n",
              "      } catch (error) {\n",
              "        console.error('Error during call to suggestCharts:', error);\n",
              "      }\n",
              "      quickchartButtonEl.classList.remove('colab-df-spinner');\n",
              "      quickchartButtonEl.classList.add('colab-df-quickchart-complete');\n",
              "    }\n",
              "    (() => {\n",
              "      let quickchartButtonEl =\n",
              "        document.querySelector('#df-1b7506ef-badd-4a04-ade8-008b301b68ff button');\n",
              "      quickchartButtonEl.style.display =\n",
              "        google.colab.kernel.accessAllowed ? 'block' : 'none';\n",
              "    })();\n",
              "  </script>\n",
              "</div>\n",
              "\n",
              "    </div>\n",
              "  </div>\n"
            ],
            "application/vnd.google.colaboratory.intrinsic+json": {
              "type": "dataframe",
              "variable_name": "orders_df",
              "summary": "{\n  \"name\": \"orders_df\",\n  \"rows\": 99441,\n  \"fields\": [\n    {\n      \"column\": \"order_id\",\n      \"properties\": {\n        \"dtype\": \"string\",\n        \"num_unique_values\": 99441,\n        \"samples\": [\n          \"b9a6c5f5df52c7226ac85aee7524c27f\",\n          \"261e71d2349c713eafa9f3df5972b95d\",\n          \"67b50899f52995848c427e361e10dde3\"\n        ],\n        \"semantic_type\": \"\",\n        \"description\": \"\"\n      }\n    },\n    {\n      \"column\": \"customer_id\",\n      \"properties\": {\n        \"dtype\": \"string\",\n        \"num_unique_values\": 99441,\n        \"samples\": [\n          \"f160aaf480efdfa7268f0fa535f73e76\",\n          \"d6708bbbd2d419475869a84e41f620a1\",\n          \"1b353c00c71689afba44554e43cc5a76\"\n        ],\n        \"semantic_type\": \"\",\n        \"description\": \"\"\n      }\n    },\n    {\n      \"column\": \"order_status\",\n      \"properties\": {\n        \"dtype\": \"category\",\n        \"num_unique_values\": 8,\n        \"samples\": [\n          \"invoiced\",\n          \"canceled\",\n          \"delivered\"\n        ],\n        \"semantic_type\": \"\",\n        \"description\": \"\"\n      }\n    },\n    {\n      \"column\": \"order_purchase_timestamp\",\n      \"properties\": {\n        \"dtype\": \"object\",\n        \"num_unique_values\": 98875,\n        \"samples\": [\n          \"2017-12-03 02:01:18\",\n          \"2018-05-15 22:52:30\",\n          \"2018-08-22 21:56:07\"\n        ],\n        \"semantic_type\": \"\",\n        \"description\": \"\"\n      }\n    },\n    {\n      \"column\": \"order_approved_at\",\n      \"properties\": {\n        \"dtype\": \"object\",\n        \"num_unique_values\": 90733,\n        \"samples\": [\n          \"2017-05-17 03:55:26\",\n          \"2018-03-04 10:55:33\",\n          \"2017-10-05 02:49:39\"\n        ],\n        \"semantic_type\": \"\",\n        \"description\": \"\"\n      }\n    },\n    {\n      \"column\": \"order_delivered_carrier_date\",\n      \"properties\": {\n        \"dtype\": \"object\",\n        \"num_unique_values\": 81018,\n        \"samples\": [\n          \"2018-04-24 14:38:40\",\n          \"2017-03-18 10:37:00\",\n          \"2017-12-29 17:22:42\"\n        ],\n        \"semantic_type\": \"\",\n        \"description\": \"\"\n      }\n    },\n    {\n      \"column\": \"order_delivered_customer_date\",\n      \"properties\": {\n        \"dtype\": \"object\",\n        \"num_unique_values\": 95664,\n        \"samples\": [\n          \"2017-03-27 12:43:40\",\n          \"2018-02-23 16:39:23\",\n          \"2017-10-09 22:16:39\"\n        ],\n        \"semantic_type\": \"\",\n        \"description\": \"\"\n      }\n    },\n    {\n      \"column\": \"order_estimated_delivery_date\",\n      \"properties\": {\n        \"dtype\": \"object\",\n        \"num_unique_values\": 459,\n        \"samples\": [\n          \"2018-07-27 00:00:00\",\n          \"2018-08-06 00:00:00\",\n          \"2017-09-13 00:00:00\"\n        ],\n        \"semantic_type\": \"\",\n        \"description\": \"\"\n      }\n    }\n  ]\n}"
            }
          },
          "metadata": {},
          "execution_count": 4
        }
      ],
      "source": [
        "orders_df = pd.read_csv(\"/content/drive/MyDrive/Analisis Data Python/orders_dataset.csv\")\n",
        "orders_df.head()"
      ]
    },
    {
      "cell_type": "code",
      "source": [
        "from google.colab import drive\n",
        "drive.mount('/content/drive')"
      ],
      "metadata": {
        "colab": {
          "base_uri": "https://localhost:8080/"
        },
        "id": "gebGzFc3sIRt",
        "outputId": "b1c007e8-fa9a-4409-a4a6-0b0e139e92d6"
      },
      "id": "gebGzFc3sIRt",
      "execution_count": 3,
      "outputs": [
        {
          "output_type": "stream",
          "name": "stdout",
          "text": [
            "Mounted at /content/drive\n"
          ]
        }
      ]
    },
    {
      "cell_type": "markdown",
      "id": "33f2c33d-a281-4622-9aaf-e6ec268abf3e",
      "metadata": {
        "id": "33f2c33d-a281-4622-9aaf-e6ec268abf3e"
      },
      "source": [
        "**Insight :**\n",
        "- **orders_dataset:**\n",
        "\n",
        "a. Distribusi Penjual: Mengevaluasi sebaran geografis penjual serta peran mereka dalam total penjualan.\n",
        "\n",
        "b. Kinerja Penjual: Menganalisis performa penjual berdasarkan volume penjualan dan ulasan pelanggan."
      ]
    },
    {
      "cell_type": "markdown",
      "id": "12feebff-8173-44ab-93e9-d0ac1b60e055",
      "metadata": {
        "id": "12feebff-8173-44ab-93e9-d0ac1b60e055"
      },
      "source": [
        "**2. Memuat tabel produk**"
      ]
    },
    {
      "cell_type": "code",
      "execution_count": null,
      "id": "4d111a8e-d6e5-458f-954d-e2a48d50d63e",
      "metadata": {
        "id": "4d111a8e-d6e5-458f-954d-e2a48d50d63e"
      },
      "outputs": [],
      "source": [
        "produk_df = pd.read_csv(\"C:/Users/USER/Project_Python/Dicoding/proyek_analisis_data/E-Commerce Public Dataset/olist_products_dataset.csv\")\n",
        "produk_df.head()"
      ]
    },
    {
      "cell_type": "markdown",
      "id": "ad7a2929-7772-40da-89d0-88abadc8151b",
      "metadata": {
        "id": "ad7a2929-7772-40da-89d0-88abadc8151b"
      },
      "source": [
        "**Insight :**\n",
        "- **products_dataset:**\n",
        "  - Menentukan kategori produk dengan tingkat popularitas tertinggi dan terendah."
      ]
    },
    {
      "cell_type": "markdown",
      "source": [],
      "metadata": {
        "id": "Pu5FL1iIrBiq"
      },
      "id": "Pu5FL1iIrBiq"
    },
    {
      "cell_type": "markdown",
      "id": "05b2a9a1-c063-433e-9635-ff6bc49f0867",
      "metadata": {
        "id": "05b2a9a1-c063-433e-9635-ff6bc49f0867"
      },
      "source": [
        "**3. Memuat tabel seller**"
      ]
    },
    {
      "cell_type": "code",
      "execution_count": null,
      "id": "8be27eba-85c9-410c-9046-ddb1d86b963e",
      "metadata": {
        "id": "8be27eba-85c9-410c-9046-ddb1d86b963e"
      },
      "outputs": [],
      "source": [
        "seller_df = pd.read_csv(\"C:/Users/USER/Project_Python/Dicoding/proyek_analisis_data/E-Commerce Public Dataset/olist_sellers_dataset.csv\")\n",
        "seller_df.head()"
      ]
    },
    {
      "cell_type": "markdown",
      "id": "8913a552-f1ea-4a4b-b9ac-dab75dd7ea25",
      "metadata": {
        "id": "8913a552-f1ea-4a4b-b9ac-dab75dd7ea25"
      },
      "source": [
        "**Insight :**\n",
        "- **sellers_dataset:**\n",
        "\n",
        "a. Distribusi Penjual: Menganalisis sebaran geografis penjual serta kontribusi mereka terhadap total penjualan.\n",
        "\n",
        "b. Kinerja Penjual: Mengevaluasi performa penjual berdasarkan jumlah penjualan dan ulasan pelanggan."
      ]
    },
    {
      "cell_type": "markdown",
      "id": "92234bc5-76c7-4408-a3cc-8612de0938d8",
      "metadata": {
        "id": "92234bc5-76c7-4408-a3cc-8612de0938d8"
      },
      "source": [
        "**4. Memuat tabel kategori_produk**"
      ]
    },
    {
      "cell_type": "code",
      "execution_count": null,
      "id": "f2198ef8-64f0-442f-ad5b-7e91240d3f5f",
      "metadata": {
        "id": "f2198ef8-64f0-442f-ad5b-7e91240d3f5f"
      },
      "outputs": [],
      "source": [
        "kategori_produk_df = pd.read_csv(\"C:/Users/USER/Project_Python/Dicoding/proyek_analisis_data/E-Commerce Public Dataset/product_category_name_translation.csv\")\n",
        "kategori_produk_df.head()"
      ]
    },
    {
      "cell_type": "markdown",
      "id": "b24883fd-9209-4e28-bee2-fc037640bd63",
      "metadata": {
        "id": "b24883fd-9209-4e28-bee2-fc037640bd63"
      },
      "source": [
        "**Insight :**\n",
        "- **product_category_name_translation_dataset :**\n",
        "  - Kategori Produk: Menghubungkan nama kategori produk dalam bahasa asli dengan terjemahannya untuk analisis lebih lanjut.\n",
        "  - Analisis Kategori: Mengidentifikasi kategori produk yang paling banyak terjual dan kontribusi mereka terhadap pendapatan total.\n",
        "  "
      ]
    },
    {
      "cell_type": "markdown",
      "id": "9424ddfa-edbb-4c2e-8f82-e3e3d1eddfb3",
      "metadata": {
        "id": "9424ddfa-edbb-4c2e-8f82-e3e3d1eddfb3"
      },
      "source": [
        "**5. Memuat tabel order_item**"
      ]
    },
    {
      "cell_type": "code",
      "execution_count": null,
      "id": "934560d1-3d73-49ce-81a6-0d2ee1d2b472",
      "metadata": {
        "id": "934560d1-3d73-49ce-81a6-0d2ee1d2b472"
      },
      "outputs": [],
      "source": [
        "order_item_df = pd.read_csv(\"C:/Users/USER/Project_Python/Dicoding/proyek_analisis_data/E-Commerce Public Dataset/olist_order_items_dataset.csv\")\n",
        "order_item_df.head()"
      ]
    },
    {
      "cell_type": "markdown",
      "id": "2ae86d61-522e-40ce-bd9a-7645f35d0bad",
      "metadata": {
        "id": "2ae86d61-522e-40ce-bd9a-7645f35d0bad"
      },
      "source": [
        "**Insight :**\n",
        "- **order_items_dataset:**\n",
        "  - Produk Terlaris: Mengidentifikasi produk yang paling banyak terjual dan kontribusi mereka terhadap pendapatan total.\n",
        "  - Kinerja Penjual: Menilai performa penjual berdasarkan jumlah penjualan dan ulasan pelanggan."
      ]
    },
    {
      "cell_type": "markdown",
      "id": "b1952e5c-18b0-4471-be6d-9a157816ce1d",
      "metadata": {
        "id": "b1952e5c-18b0-4471-be6d-9a157816ce1d"
      },
      "source": [
        "**6. Memuat tabel payment**"
      ]
    },
    {
      "cell_type": "code",
      "execution_count": null,
      "id": "9109cab7-9c65-4007-87e8-f9f2d7ea451e",
      "metadata": {
        "id": "9109cab7-9c65-4007-87e8-f9f2d7ea451e"
      },
      "outputs": [],
      "source": [
        "payment_df = pd.read_csv(\"C:/Users/USER/Project_Python/Dicoding/proyek_analisis_data/E-Commerce Public Dataset/olist_order_payments_dataset.csv\")\n",
        "payment_df.head()"
      ]
    },
    {
      "cell_type": "markdown",
      "id": "b6782c27-e402-4c59-b3b0-171cc0ed7d0d",
      "metadata": {
        "id": "b6782c27-e402-4c59-b3b0-171cc0ed7d0d"
      },
      "source": [
        "**Insight :**\n",
        "- **payments_dataset:**\n",
        "  - Metode Pembayaran: Menilai metode pembayaran yang paling sering digunakan oleh pelanggan.\n",
        "  - Nilai Transaksi: Menganalisis nilai transaksi rata-rata dan total untuk memahami perilaku pembelian pelanggan."
      ]
    },
    {
      "cell_type": "markdown",
      "id": "27c2e0f7-873c-46f4-85bf-7dcd72dc09c2",
      "metadata": {
        "id": "27c2e0f7-873c-46f4-85bf-7dcd72dc09c2"
      },
      "source": [
        "**7. Memuat tabel review**"
      ]
    },
    {
      "cell_type": "code",
      "execution_count": null,
      "id": "cadcc11b-e3aa-4e57-b27b-61149b580304",
      "metadata": {
        "id": "cadcc11b-e3aa-4e57-b27b-61149b580304"
      },
      "outputs": [],
      "source": [
        "review_df = pd.read_csv(\"C:/Users/USER/Project_Python/Dicoding/proyek_analisis_data/E-Commerce Public Dataset/olist_order_reviews_dataset.csv\")\n",
        "review_df.head()"
      ]
    },
    {
      "cell_type": "markdown",
      "id": "d138bce3-5fb5-45c3-8cf2-f42f374af864",
      "metadata": {
        "id": "d138bce3-5fb5-45c3-8cf2-f42f374af864"
      },
      "source": [
        "**Insight :**\n",
        "- **reviews_dataset:**\n",
        "  - Kepuasan Pelanggan: Menilai ulasan pelanggan untuk memahami tingkat kepuasan."
      ]
    },
    {
      "cell_type": "markdown",
      "id": "6336c700-fb6a-4880-9ca6-7654edfeb894",
      "metadata": {
        "id": "6336c700-fb6a-4880-9ca6-7654edfeb894"
      },
      "source": [
        "**8. Memuat tabel geolokasi**"
      ]
    },
    {
      "cell_type": "code",
      "execution_count": null,
      "id": "c40ace53-7341-4df9-b562-7ec0ad0debd0",
      "metadata": {
        "id": "c40ace53-7341-4df9-b562-7ec0ad0debd0"
      },
      "outputs": [],
      "source": [
        "geolokasi_df = pd.read_csv(\"C:/Users/USER/Project_Python/Dicoding/proyek_analisis_data/E-Commerce Public Dataset/olist_geolocation_dataset.csv\")\n",
        "geolokasi_df.head()"
      ]
    },
    {
      "cell_type": "markdown",
      "id": "b0f201c0-96bb-424a-be4b-546a349cf066",
      "metadata": {
        "id": "b0f201c0-96bb-424a-be4b-546a349cf066"
      },
      "source": [
        "**Insight :**\n",
        "- **geolocation_dataset :**\n",
        "  - Lokasi Pengiriman: Menghubungkan kode pos dengan koordinat geografis untuk analisis lebih lanjut tentang waktu dan biaya pengiriman."
      ]
    },
    {
      "cell_type": "markdown",
      "id": "8935c421-abfc-4fb7-a8f6-12463801490d",
      "metadata": {
        "id": "8935c421-abfc-4fb7-a8f6-12463801490d"
      },
      "source": [
        "**9. Memuat tabel customer**"
      ]
    },
    {
      "cell_type": "code",
      "execution_count": null,
      "id": "37a8a88d-6457-411a-9a75-c8ea32b08c00",
      "metadata": {
        "id": "37a8a88d-6457-411a-9a75-c8ea32b08c00"
      },
      "outputs": [],
      "source": [
        "customer_df = pd.read_csv(\"C:/Users/USER/Project_Python/Dicoding/proyek_analisis_data/E-Commerce Public Dataset/olist_customers_dataset.csv\")\n",
        "customer_df.head()"
      ]
    },
    {
      "cell_type": "markdown",
      "id": "a97ac85a-c585-4396-8614-36624f976da7",
      "metadata": {
        "id": "a97ac85a-c585-4396-8614-36624f976da7"
      },
      "source": [
        "**Insight :**\n",
        "- **customers_dataset:**\n",
        "  - Distribusi Pelanggan: Menilai distribusi geografis pelanggan berdasarkan kota dan negara    bagian. Ini dapat membantu dalam memahami area dengan permintaan tertinggi dan terendah.\n",
        "  - Pelanggan Unik: Mengidentifikasi pelanggan yang melakukan pembelian berulang di toko."
      ]
    },
    {
      "cell_type": "markdown",
      "id": "783a822b-a902-4f29-bc59-312ad6265306",
      "metadata": {
        "id": "783a822b-a902-4f29-bc59-312ad6265306"
      },
      "source": [
        "### Assessing data"
      ]
    },
    {
      "cell_type": "markdown",
      "id": "70627bc3-8453-4879-8411-815bcd03da55",
      "metadata": {
        "id": "70627bc3-8453-4879-8411-815bcd03da55"
      },
      "source": [
        "**1. Menilai data orders_df**"
      ]
    },
    {
      "cell_type": "markdown",
      "id": "95586020-3478-4b5d-a4bb-a2f9e158defb",
      "metadata": {
        "id": "95586020-3478-4b5d-a4bb-a2f9e158defb"
      },
      "source": [
        "**1.1. memeriksa tipe data dan missing value**"
      ]
    },
    {
      "cell_type": "code",
      "execution_count": null,
      "id": "aa6754d1-4cc8-451a-97cf-c20d11dc1034",
      "metadata": {
        "id": "aa6754d1-4cc8-451a-97cf-c20d11dc1034"
      },
      "outputs": [],
      "source": [
        "orders_df.info()"
      ]
    },
    {
      "cell_type": "markdown",
      "id": "ca130816-cbfb-4a5e-8296-2a4008faa7b4",
      "metadata": {
        "id": "ca130816-cbfb-4a5e-8296-2a4008faa7b4"
      },
      "source": [
        "**Insight :**\n",
        "\n",
        "- Terdapat kesalahan tipe data di kolom :\n",
        "\n",
        "      - order_purchase_timestamp\n",
        "      - order_approved_at\n",
        "      - order_delivered_carrier_date\n",
        "      - order_delivered_customer_date\n",
        "      - order_estimated_delivery_date.\n",
        "  \n",
        "  kolom-kolom tersebut harusnya direpresentasikan sebagai tipe data datetime.\n",
        "  \n",
        "- Terdapat juga sedikit perbedaan pada jumlah data pada kolom :\n",
        "  \n",
        "      - order_approved_at   \n",
        "      - order_delivered_carrier_date\n",
        "      - order_delivered_customer_date.\n",
        "  \n",
        "  Hal ini menunjukkan adanya missing values pada kedua kolom tersebut."
      ]
    },
    {
      "cell_type": "markdown",
      "id": "af5997e7-4856-4a6e-bbc1-09a58d846efe",
      "metadata": {
        "id": "af5997e7-4856-4a6e-bbc1-09a58d846efe"
      },
      "source": [
        "**1.2. menampilkan informasi terkait jumlah missing values yang terdapat dalam setiap kolom**"
      ]
    },
    {
      "cell_type": "code",
      "execution_count": null,
      "id": "9f6b4860-6815-443d-b9fe-5404d1368e11",
      "metadata": {
        "id": "9f6b4860-6815-443d-b9fe-5404d1368e11"
      },
      "outputs": [],
      "source": [
        "orders_df.isna().sum()"
      ]
    },
    {
      "cell_type": "markdown",
      "id": "4e03bee6-6f62-4769-8016-ea6617906187",
      "metadata": {
        "id": "4e03bee6-6f62-4769-8016-ea6617906187"
      },
      "source": [
        "**Insight :**\n",
        "\n",
        "terdapat jumlah missing value yang cukup banyak. untuk menganalisa lebih lanjut, kita dapat memeriksa lebih lanjut melalui kolom order_status"
      ]
    },
    {
      "cell_type": "markdown",
      "id": "70969d93-b250-46cd-b476-768ed9202042",
      "metadata": {
        "id": "70969d93-b250-46cd-b476-768ed9202042"
      },
      "source": [
        "**1.3. memeriksa duplikasi data**"
      ]
    },
    {
      "cell_type": "code",
      "execution_count": null,
      "id": "a3c4437f-4957-4b86-977d-29284fca704e",
      "metadata": {
        "id": "a3c4437f-4957-4b86-977d-29284fca704e"
      },
      "outputs": [],
      "source": [
        "print(\"Jumlah duplikasi: \",orders_df.duplicated().sum())"
      ]
    },
    {
      "cell_type": "markdown",
      "id": "515bdba0-2c0f-48a6-a7c2-9562832fec84",
      "metadata": {
        "id": "515bdba0-2c0f-48a6-a7c2-9562832fec84"
      },
      "source": [
        "**Insight :**\n",
        "\n",
        "Ini menunjukkan tidak terdapat duplikasi pada orders_df."
      ]
    },
    {
      "cell_type": "markdown",
      "id": "76c0068c-a676-462e-904a-1b0f55c4fdc9",
      "metadata": {
        "id": "76c0068c-a676-462e-904a-1b0f55c4fdc9"
      },
      "source": [
        "**1.4. memeriksa parameter statistik dari kolom numerik**"
      ]
    },
    {
      "cell_type": "code",
      "execution_count": null,
      "id": "97ed4050-3b6c-4710-ba01-9ab0fb444dae",
      "metadata": {
        "id": "97ed4050-3b6c-4710-ba01-9ab0fb444dae"
      },
      "outputs": [],
      "source": [
        "orders_df.describe()"
      ]
    },
    {
      "cell_type": "markdown",
      "id": "fcef24a8-3e11-4142-b9d5-8081d1a74758",
      "metadata": {
        "id": "fcef24a8-3e11-4142-b9d5-8081d1a74758"
      },
      "source": [
        "**Insight :**\n",
        "\n",
        "Ini menunjukkan tidak terdapat keanehan nilai pada orders_df."
      ]
    },
    {
      "cell_type": "markdown",
      "id": "6b22a660-faca-4750-8ed5-92cf7858d171",
      "metadata": {
        "id": "6b22a660-faca-4750-8ed5-92cf7858d171"
      },
      "source": [
        "**2. Menilai data produk_df**"
      ]
    },
    {
      "cell_type": "markdown",
      "id": "509a4696-27e7-4d2c-8e87-06bcd1610414",
      "metadata": {
        "id": "509a4696-27e7-4d2c-8e87-06bcd1610414"
      },
      "source": [
        "**2.1. memeriksa tipe data dan missing value**"
      ]
    },
    {
      "cell_type": "code",
      "execution_count": null,
      "id": "c4f8f9a3-c37f-46a7-99ad-409947a8b675",
      "metadata": {
        "id": "c4f8f9a3-c37f-46a7-99ad-409947a8b675"
      },
      "outputs": [],
      "source": [
        "produk_df.info()"
      ]
    },
    {
      "cell_type": "markdown",
      "id": "fada7085-f4ff-41d0-8ac1-1dfb274268c4",
      "metadata": {
        "id": "fada7085-f4ff-41d0-8ac1-1dfb274268c4"
      },
      "source": [
        "**Insight :**\n",
        "\n",
        "- Terdapat missing values pada hampir semua kolom kecuali kolom product_id."
      ]
    },
    {
      "cell_type": "markdown",
      "id": "e7c187b6-efa9-410b-9b40-466e0e4eb43d",
      "metadata": {
        "id": "e7c187b6-efa9-410b-9b40-466e0e4eb43d"
      },
      "source": [
        "**2.2. menampilkan informasi terkait jumlah missing values yang terdapat dalam setiap kolom**"
      ]
    },
    {
      "cell_type": "code",
      "execution_count": null,
      "id": "5b554042-cd63-4586-a901-1ff8352d1e08",
      "metadata": {
        "id": "5b554042-cd63-4586-a901-1ff8352d1e08"
      },
      "outputs": [],
      "source": [
        "produk_df.isna().sum()"
      ]
    },
    {
      "cell_type": "markdown",
      "id": "ff33df77-ba92-40f9-b18a-ac7892aeaaad",
      "metadata": {
        "id": "ff33df77-ba92-40f9-b18a-ac7892aeaaad"
      },
      "source": [
        "**Insight :**\n",
        "\n",
        "terdapat jumlah missing value yang cukup banyak pada sebagian kolom. untuk menganalisa lebih lanjut, kita dapat memeriksa melalui kolom product_category_name."
      ]
    },
    {
      "cell_type": "markdown",
      "id": "3c7ee8e0-cd77-4710-a2f8-57d00a336c2b",
      "metadata": {
        "id": "3c7ee8e0-cd77-4710-a2f8-57d00a336c2b"
      },
      "source": [
        "**2.3. memeriksa duplikasi data**"
      ]
    },
    {
      "cell_type": "code",
      "execution_count": null,
      "id": "1d4b1596-1aa9-4754-9f95-5e8048f781b4",
      "metadata": {
        "id": "1d4b1596-1aa9-4754-9f95-5e8048f781b4"
      },
      "outputs": [],
      "source": [
        "print(\"Jumlah duplikasi: \",produk_df.duplicated().sum())"
      ]
    },
    {
      "cell_type": "markdown",
      "id": "5128800e-8a32-4753-a022-6e0ed1effc18",
      "metadata": {
        "id": "5128800e-8a32-4753-a022-6e0ed1effc18"
      },
      "source": [
        "**Insight :**\n",
        "\n",
        "Ini menunjukkan tidak terdapat duplikasi data pada produk_df."
      ]
    },
    {
      "cell_type": "markdown",
      "id": "e473b10d-9a5a-4deb-9e9e-1d2da8d5684a",
      "metadata": {
        "id": "e473b10d-9a5a-4deb-9e9e-1d2da8d5684a"
      },
      "source": [
        "**2.4. memeriksa parameter statistik dari kolom numerik**"
      ]
    },
    {
      "cell_type": "code",
      "execution_count": null,
      "id": "d0b882b4-0d00-494f-8e36-542ec4dfe2cc",
      "metadata": {
        "id": "d0b882b4-0d00-494f-8e36-542ec4dfe2cc"
      },
      "outputs": [],
      "source": [
        "produk_df.describe()"
      ]
    },
    {
      "cell_type": "markdown",
      "id": "1e8b38f9-fdfe-4e8a-bdfc-3ccf2280788f",
      "metadata": {
        "id": "1e8b38f9-fdfe-4e8a-bdfc-3ccf2280788f"
      },
      "source": [
        "**Insight :**\n",
        "\n",
        "Ini menunjukkan tidak terdapat keanehan nilai pada produk_df."
      ]
    },
    {
      "cell_type": "markdown",
      "id": "07f43ab8-4b2e-4b4f-aa35-cef2dd8997a3",
      "metadata": {
        "id": "07f43ab8-4b2e-4b4f-aa35-cef2dd8997a3"
      },
      "source": [
        "**3. Menilai data seller_df**"
      ]
    },
    {
      "cell_type": "markdown",
      "id": "71603409-7a0d-4f7e-b432-96e814f75d4b",
      "metadata": {
        "id": "71603409-7a0d-4f7e-b432-96e814f75d4b"
      },
      "source": [
        "**3.1. memeriksa tipe data dan missing value**"
      ]
    },
    {
      "cell_type": "code",
      "execution_count": null,
      "id": "529b3240-a84b-4586-9e73-4336e406f6ce",
      "metadata": {
        "id": "529b3240-a84b-4586-9e73-4336e406f6ce"
      },
      "outputs": [],
      "source": [
        "seller_df.info()"
      ]
    },
    {
      "cell_type": "markdown",
      "id": "bc4ead65-4aa9-4d2f-a387-644176b34019",
      "metadata": {
        "id": "bc4ead65-4aa9-4d2f-a387-644176b34019"
      },
      "source": [
        "**Insight :**\n",
        "\n",
        "Ini menunjukkan tidak terdapat kesalahan tipe data maupun missing value pada seller_df."
      ]
    },
    {
      "cell_type": "markdown",
      "id": "98ff35ca-42ec-47e2-bd78-d6139fc26ebb",
      "metadata": {
        "id": "98ff35ca-42ec-47e2-bd78-d6139fc26ebb"
      },
      "source": [
        "**3.2. menampilkan informasi terkait jumlah missing values yang terdapat dalam setiap kolom**"
      ]
    },
    {
      "cell_type": "code",
      "execution_count": null,
      "id": "ed2c99d2-34cd-4f5b-865e-80fc2d9af70b",
      "metadata": {
        "id": "ed2c99d2-34cd-4f5b-865e-80fc2d9af70b"
      },
      "outputs": [],
      "source": [
        "seller_df.isna().sum()"
      ]
    },
    {
      "cell_type": "markdown",
      "id": "3332f541-7dd3-4b28-879f-24315076410c",
      "metadata": {
        "id": "3332f541-7dd3-4b28-879f-24315076410c"
      },
      "source": [
        "**3.3. memeriksa duplikasi data**"
      ]
    },
    {
      "cell_type": "code",
      "execution_count": null,
      "id": "dc460530-8411-4d70-8750-dca4a7b4f4ac",
      "metadata": {
        "id": "dc460530-8411-4d70-8750-dca4a7b4f4ac"
      },
      "outputs": [],
      "source": [
        "print(\"Jumlah duplikasi: \",seller_df.duplicated().sum())"
      ]
    },
    {
      "cell_type": "markdown",
      "id": "2c29277b-8062-4db7-893e-def68e140935",
      "metadata": {
        "id": "2c29277b-8062-4db7-893e-def68e140935"
      },
      "source": [
        "**Insight :**\n",
        "\n",
        "Ini menunjukkan tidak terdapat duplikasi data pada seller_df."
      ]
    },
    {
      "cell_type": "markdown",
      "id": "a98bb6bd-a2cf-4647-befa-ef00adc1c270",
      "metadata": {
        "id": "a98bb6bd-a2cf-4647-befa-ef00adc1c270"
      },
      "source": [
        "**3.4. memeriksa parameter statistik dari kolom numerik**"
      ]
    },
    {
      "cell_type": "code",
      "execution_count": null,
      "id": "c7e513c9-c881-4bc8-8cf9-93311dea89a2",
      "metadata": {
        "id": "c7e513c9-c881-4bc8-8cf9-93311dea89a2"
      },
      "outputs": [],
      "source": [
        "seller_df.describe()"
      ]
    },
    {
      "cell_type": "markdown",
      "id": "588f3e47-a5af-4b09-b378-856eb938f47b",
      "metadata": {
        "id": "588f3e47-a5af-4b09-b378-856eb938f47b"
      },
      "source": [
        "**Insight :**\n",
        "\n",
        "Ini menunjukkan tidak terdapat keanehan nilai pada seller_df."
      ]
    },
    {
      "cell_type": "markdown",
      "id": "5600d8e1-8bb9-40bf-b5e4-6cf5b5e60675",
      "metadata": {
        "id": "5600d8e1-8bb9-40bf-b5e4-6cf5b5e60675"
      },
      "source": [
        "**4. Menilai data kategori_produk_df**"
      ]
    },
    {
      "cell_type": "markdown",
      "id": "66b9999b-0642-4531-98df-2c7a6d2736a0",
      "metadata": {
        "id": "66b9999b-0642-4531-98df-2c7a6d2736a0"
      },
      "source": [
        "**4.1. memeriksa tipe data dan missing value**"
      ]
    },
    {
      "cell_type": "code",
      "execution_count": null,
      "id": "be599f7f-5245-44bb-a51c-f33f836fceae",
      "metadata": {
        "id": "be599f7f-5245-44bb-a51c-f33f836fceae"
      },
      "outputs": [],
      "source": [
        "kategori_produk_df.info()"
      ]
    },
    {
      "cell_type": "markdown",
      "id": "179d8f66-60e9-4d2b-98b8-fde246075964",
      "metadata": {
        "id": "179d8f66-60e9-4d2b-98b8-fde246075964"
      },
      "source": [
        "**Insight :**\n",
        "\n",
        "Ini menunjukkan tidak terdapat kesalahan tipe data maupun missing value pada kategori_produk_df."
      ]
    },
    {
      "cell_type": "markdown",
      "id": "de72972c-008f-472b-9db4-f1b43ba3da7e",
      "metadata": {
        "id": "de72972c-008f-472b-9db4-f1b43ba3da7e"
      },
      "source": [
        "**4.2. menampilkan informasi terkait jumlah missing values yang terdapat dalam setiap kolom**"
      ]
    },
    {
      "cell_type": "code",
      "execution_count": null,
      "id": "efdb2908-dff7-4bff-9300-5f6a66743746",
      "metadata": {
        "id": "efdb2908-dff7-4bff-9300-5f6a66743746"
      },
      "outputs": [],
      "source": [
        "kategori_produk_df.isna().sum()"
      ]
    },
    {
      "cell_type": "markdown",
      "id": "d5679a8e-64a2-4060-aab6-facbf80f548d",
      "metadata": {
        "id": "d5679a8e-64a2-4060-aab6-facbf80f548d"
      },
      "source": [
        "**4.3. memeriksa duplikasi data**"
      ]
    },
    {
      "cell_type": "code",
      "execution_count": null,
      "id": "7ef16664-d457-4102-9aff-687c6c11f2a1",
      "metadata": {
        "id": "7ef16664-d457-4102-9aff-687c6c11f2a1"
      },
      "outputs": [],
      "source": [
        "print(\"Jumlah duplikasi: \",kategori_produk_df.duplicated().sum())"
      ]
    },
    {
      "cell_type": "markdown",
      "id": "07ff85d7-bd61-4f19-ac7a-3dbc61036ad0",
      "metadata": {
        "id": "07ff85d7-bd61-4f19-ac7a-3dbc61036ad0"
      },
      "source": [
        "**Insight :**\n",
        "\n",
        "Ini menunjukkan tidak terdapat duplikasi data pada kategori_produk_df."
      ]
    },
    {
      "cell_type": "markdown",
      "id": "4cdfbf09-44c5-4204-a61d-12fda9a58e9e",
      "metadata": {
        "id": "4cdfbf09-44c5-4204-a61d-12fda9a58e9e"
      },
      "source": [
        "**4.4. memeriksa parameter statistik dari kolom numerik**"
      ]
    },
    {
      "cell_type": "code",
      "execution_count": null,
      "id": "7b500682-b06f-4e8b-ba0e-d3c44a137a6f",
      "metadata": {
        "id": "7b500682-b06f-4e8b-ba0e-d3c44a137a6f"
      },
      "outputs": [],
      "source": [
        "kategori_produk_df.describe()"
      ]
    },
    {
      "cell_type": "markdown",
      "id": "975e8736-0f35-48cc-8111-c22eef95fe9c",
      "metadata": {
        "id": "975e8736-0f35-48cc-8111-c22eef95fe9c"
      },
      "source": [
        "**Insight :**\n",
        "\n",
        "Ini menunjukkan tidak terdapat keanehan nilai pada kategori_produk_df."
      ]
    },
    {
      "cell_type": "markdown",
      "id": "76739bab-5bff-4984-957f-5860738fe804",
      "metadata": {
        "id": "76739bab-5bff-4984-957f-5860738fe804"
      },
      "source": [
        "**5. Menilai data order_item_df**"
      ]
    },
    {
      "cell_type": "markdown",
      "id": "adc066fd-aedf-4751-b06d-bffdd41b72ff",
      "metadata": {
        "id": "adc066fd-aedf-4751-b06d-bffdd41b72ff"
      },
      "source": [
        "**5.1. memeriksa tipe data dan missing value**"
      ]
    },
    {
      "cell_type": "code",
      "execution_count": null,
      "id": "02539236-31dc-49a2-b33d-119cb29e4519",
      "metadata": {
        "id": "02539236-31dc-49a2-b33d-119cb29e4519"
      },
      "outputs": [],
      "source": [
        "order_item_df.info()"
      ]
    },
    {
      "cell_type": "markdown",
      "id": "32f1d58c-93ed-4294-9061-d29baa33be18",
      "metadata": {
        "id": "32f1d58c-93ed-4294-9061-d29baa33be18"
      },
      "source": [
        "**Insight :**\n",
        "\n",
        "- Terdapat kesalahan tipe data di kolom shipping_limit_date, kolom tersebut harusnya direpresentasikan sebagai tipe data datetime.\n",
        "- Tidak terdapat missing value pada data payment_df"
      ]
    },
    {
      "cell_type": "markdown",
      "id": "edd45ca6-27e2-4056-a1c3-a1a3e8f367bf",
      "metadata": {
        "id": "edd45ca6-27e2-4056-a1c3-a1a3e8f367bf"
      },
      "source": [
        "**5.2. menampilkan informasi terkait jumlah missing values yang terdapat dalam setiap kolom**"
      ]
    },
    {
      "cell_type": "code",
      "execution_count": null,
      "id": "49dd08fc-9722-4068-ac88-c3d11b9df4c1",
      "metadata": {
        "id": "49dd08fc-9722-4068-ac88-c3d11b9df4c1"
      },
      "outputs": [],
      "source": [
        "order_item_df.isna().sum()"
      ]
    },
    {
      "cell_type": "markdown",
      "id": "9e7d866c-ce34-4eee-91dc-7029cbb1f8b0",
      "metadata": {
        "id": "9e7d866c-ce34-4eee-91dc-7029cbb1f8b0"
      },
      "source": [
        "**5.3. menampilkan duplikasi data**"
      ]
    },
    {
      "cell_type": "code",
      "execution_count": null,
      "id": "f4eb6e92-2828-4685-9df4-8fc272d7f221",
      "metadata": {
        "id": "f4eb6e92-2828-4685-9df4-8fc272d7f221"
      },
      "outputs": [],
      "source": [
        "print(\"Jumlah duplikasi: \",order_item_df.duplicated().sum())"
      ]
    },
    {
      "cell_type": "markdown",
      "id": "284e8c28-a76e-4bff-98bf-9b86e9d5b1b7",
      "metadata": {
        "id": "284e8c28-a76e-4bff-98bf-9b86e9d5b1b7"
      },
      "source": [
        "**Insight :**\n",
        "\n",
        "Tidak terdapat duplikasi data pada order_item_df."
      ]
    },
    {
      "cell_type": "markdown",
      "id": "23587507-0ed7-4a76-a338-f9c624219a35",
      "metadata": {
        "id": "23587507-0ed7-4a76-a338-f9c624219a35"
      },
      "source": [
        "**5.4. memeriksa parameter statistik dari kolom numerik**"
      ]
    },
    {
      "cell_type": "code",
      "execution_count": null,
      "id": "c3280536-5092-4740-a9eb-cc7c750a44fc",
      "metadata": {
        "id": "c3280536-5092-4740-a9eb-cc7c750a44fc"
      },
      "outputs": [],
      "source": [
        "order_item_df.describe()"
      ]
    },
    {
      "cell_type": "markdown",
      "id": "cf6eb5ed-3548-439d-8302-d9739790cb07",
      "metadata": {
        "id": "cf6eb5ed-3548-439d-8302-d9739790cb07"
      },
      "source": [
        "**Insight :**\n",
        "\n",
        "Tidak terdapat keanehan nilai pada order_item_df."
      ]
    },
    {
      "cell_type": "markdown",
      "id": "e32c384f-fef8-421d-a3d4-7dc148e04ecc",
      "metadata": {
        "id": "e32c384f-fef8-421d-a3d4-7dc148e04ecc"
      },
      "source": [
        "**6. Menilai data payment_df**"
      ]
    },
    {
      "cell_type": "markdown",
      "id": "908a18dc-6241-4959-af9c-9b279659ccd9",
      "metadata": {
        "id": "908a18dc-6241-4959-af9c-9b279659ccd9"
      },
      "source": [
        "**6.1. memeriksa tipe data dan missing value**"
      ]
    },
    {
      "cell_type": "code",
      "execution_count": null,
      "id": "0abe443b-3f81-417c-aae3-6f71b1be90c8",
      "metadata": {
        "id": "0abe443b-3f81-417c-aae3-6f71b1be90c8"
      },
      "outputs": [],
      "source": [
        "payment_df.info()"
      ]
    },
    {
      "cell_type": "markdown",
      "id": "1d57b7ec-2260-4950-8fc2-af12965a9436",
      "metadata": {
        "id": "1d57b7ec-2260-4950-8fc2-af12965a9436"
      },
      "source": [
        "**Insight :**\n",
        "\n",
        "- Tidak terdapat kesalahan tipe data.\n",
        "- Tidak terdapat missing value pada data payment_df"
      ]
    },
    {
      "cell_type": "markdown",
      "id": "10a33eb2-716a-4ae1-ae40-e3e741896fcc",
      "metadata": {
        "id": "10a33eb2-716a-4ae1-ae40-e3e741896fcc"
      },
      "source": [
        "**6.2. menampilkan informasi terkait jumlah missing values yang terdapat dalam setiap kolom**"
      ]
    },
    {
      "cell_type": "code",
      "execution_count": null,
      "id": "f4abde51-8f7b-4057-990f-92f5b43388c7",
      "metadata": {
        "id": "f4abde51-8f7b-4057-990f-92f5b43388c7"
      },
      "outputs": [],
      "source": [
        "payment_df.isna().sum()"
      ]
    },
    {
      "cell_type": "markdown",
      "id": "2c339288-3d0a-416b-aa6d-0eaa33deaf6b",
      "metadata": {
        "id": "2c339288-3d0a-416b-aa6d-0eaa33deaf6b"
      },
      "source": [
        "**6.3. menampilkan duplikasi data**"
      ]
    },
    {
      "cell_type": "code",
      "execution_count": null,
      "id": "9caa4d41-a97a-46fe-9f8f-7de18f465688",
      "metadata": {
        "id": "9caa4d41-a97a-46fe-9f8f-7de18f465688"
      },
      "outputs": [],
      "source": [
        "print(\"Jumlah duplikasi: \",payment_df.duplicated().sum())"
      ]
    },
    {
      "cell_type": "markdown",
      "id": "423c1bb4-1383-465b-a346-9f97c2500c46",
      "metadata": {
        "id": "423c1bb4-1383-465b-a346-9f97c2500c46"
      },
      "source": [
        "**Insight :**\n",
        "\n",
        "Tidak terdapat duplikasi data pada payment_df."
      ]
    },
    {
      "cell_type": "markdown",
      "id": "fe14a788-12e5-4ee7-a380-e31dc966b7d0",
      "metadata": {
        "id": "fe14a788-12e5-4ee7-a380-e31dc966b7d0"
      },
      "source": [
        "**6.4. memeriksa parameter statistik dari kolom numerik**"
      ]
    },
    {
      "cell_type": "code",
      "execution_count": null,
      "id": "08911bdc-fc31-4eed-9215-76aa17fd2688",
      "metadata": {
        "id": "08911bdc-fc31-4eed-9215-76aa17fd2688"
      },
      "outputs": [],
      "source": [
        "payment_df.describe()"
      ]
    },
    {
      "cell_type": "markdown",
      "id": "2bc89c73-2f9d-4067-8764-bf41d18b652e",
      "metadata": {
        "id": "2bc89c73-2f9d-4067-8764-bf41d18b652e"
      },
      "source": [
        "**Insight :**\n",
        "\n",
        "Tidak terdapat keanehan nilai pada payment_df."
      ]
    },
    {
      "cell_type": "markdown",
      "id": "4333dba8-4c3b-43db-8cfe-c6a6a56a62fa",
      "metadata": {
        "id": "4333dba8-4c3b-43db-8cfe-c6a6a56a62fa"
      },
      "source": [
        "**7. Menilai data review_df**"
      ]
    },
    {
      "cell_type": "markdown",
      "id": "cd05bf61-3bb7-4429-b6cd-da1b5be54239",
      "metadata": {
        "id": "cd05bf61-3bb7-4429-b6cd-da1b5be54239"
      },
      "source": [
        "**7.1. memeriksa tipe data dan missing value**"
      ]
    },
    {
      "cell_type": "code",
      "execution_count": null,
      "id": "8ffdcfb0-439f-40b7-b4c3-5385ef6c84ea",
      "metadata": {
        "id": "8ffdcfb0-439f-40b7-b4c3-5385ef6c84ea"
      },
      "outputs": [],
      "source": [
        "review_df.info()"
      ]
    },
    {
      "cell_type": "markdown",
      "id": "99cf26a6-4c47-48a3-bbed-095f1eba5bd7",
      "metadata": {
        "id": "99cf26a6-4c47-48a3-bbed-095f1eba5bd7"
      },
      "source": [
        "**Insight :**\n",
        "\n",
        "- Terdapat kesalahan tipe data pada kolom :\n",
        "    - review_creation_date\n",
        "    - review_answer_timestamp\n",
        "\n",
        "- Terdapat missing value pada kolom :\n",
        "    - review_comment_title\n",
        "    - review_comment_message"
      ]
    },
    {
      "cell_type": "markdown",
      "id": "cc97bde3-772a-4bcb-8e36-e3ab48d7c781",
      "metadata": {
        "id": "cc97bde3-772a-4bcb-8e36-e3ab48d7c781"
      },
      "source": [
        "**7.2. menampilkan informasi terkait jumlah missing values yang terdapat dalam setiap kolom**"
      ]
    },
    {
      "cell_type": "code",
      "execution_count": null,
      "id": "a8820861-8935-494f-95d7-c498b7fb3a49",
      "metadata": {
        "id": "a8820861-8935-494f-95d7-c498b7fb3a49"
      },
      "outputs": [],
      "source": [
        "review_df.isna().sum()"
      ]
    },
    {
      "cell_type": "markdown",
      "id": "96c4304a-4469-4519-a5c8-cdf27a09d27c",
      "metadata": {
        "id": "96c4304a-4469-4519-a5c8-cdf27a09d27c"
      },
      "source": [
        "**Insight :**\n",
        "\n",
        "terdapat jumlah missing value yang cukup banyak pada kolom review_comment_title dan review_comment_message. untuk menganalisa lebih lanjut, kita dapat memeriksa melalui kolom review_score."
      ]
    },
    {
      "cell_type": "markdown",
      "id": "272008de-9edd-4de0-97b9-bb10bf0ba63b",
      "metadata": {
        "id": "272008de-9edd-4de0-97b9-bb10bf0ba63b"
      },
      "source": [
        "**7.3. menampilkan duplikasi data**"
      ]
    },
    {
      "cell_type": "code",
      "execution_count": null,
      "id": "aa0f3735-ea58-4ecf-9714-4c688e46504f",
      "metadata": {
        "id": "aa0f3735-ea58-4ecf-9714-4c688e46504f"
      },
      "outputs": [],
      "source": [
        "print(\"Jumlah duplikasi: \",review_df.duplicated().sum())"
      ]
    },
    {
      "cell_type": "markdown",
      "id": "0eac0196-52a8-4315-be35-3c7d016ebbbe",
      "metadata": {
        "id": "0eac0196-52a8-4315-be35-3c7d016ebbbe"
      },
      "source": [
        "**Insight :**\n",
        "\n",
        "Tidak terdapat duplikasi data pada review_df."
      ]
    },
    {
      "cell_type": "markdown",
      "id": "74f03b2f-79ad-4844-ab72-64406c173ede",
      "metadata": {
        "id": "74f03b2f-79ad-4844-ab72-64406c173ede"
      },
      "source": [
        "**7.4. memeriksa parameter statistik dari kolom numerik**"
      ]
    },
    {
      "cell_type": "code",
      "execution_count": null,
      "id": "8511d920-5e47-4d59-9581-54b482af6be8",
      "metadata": {
        "id": "8511d920-5e47-4d59-9581-54b482af6be8"
      },
      "outputs": [],
      "source": [
        "review_df.describe()"
      ]
    },
    {
      "cell_type": "markdown",
      "id": "cb4dfe93-c814-4372-af9f-7e5737fc31d9",
      "metadata": {
        "id": "cb4dfe93-c814-4372-af9f-7e5737fc31d9"
      },
      "source": [
        "**Insight :**\n",
        "\n",
        "Tidak terdapat keanehan nilai pada review_df."
      ]
    },
    {
      "cell_type": "markdown",
      "id": "2c49287f-d131-47ab-9995-a984ed23f425",
      "metadata": {
        "id": "2c49287f-d131-47ab-9995-a984ed23f425"
      },
      "source": [
        "**8. Menilai data geolokasi_df**"
      ]
    },
    {
      "cell_type": "markdown",
      "id": "413d093f-97b6-47bf-a799-4193f09b4d81",
      "metadata": {
        "id": "413d093f-97b6-47bf-a799-4193f09b4d81"
      },
      "source": [
        "**8.1. memeriksa tipe data dan missing value**"
      ]
    },
    {
      "cell_type": "code",
      "execution_count": null,
      "id": "2082b37e-e7ce-47b1-a88c-d0668d04b1e6",
      "metadata": {
        "id": "2082b37e-e7ce-47b1-a88c-d0668d04b1e6"
      },
      "outputs": [],
      "source": [
        "geolokasi_df.info()"
      ]
    },
    {
      "cell_type": "markdown",
      "id": "b382ce24-6dac-4332-b59e-9a7127add25a",
      "metadata": {
        "id": "b382ce24-6dac-4332-b59e-9a7127add25a"
      },
      "source": [
        "**Insight :**\n",
        "\n",
        "- Tidak terdapat kesalahan tipe data.\n",
        "- Tidak terdapat missing value."
      ]
    },
    {
      "cell_type": "markdown",
      "id": "2687e2cb-5f04-4203-b85c-a989e51b0032",
      "metadata": {
        "id": "2687e2cb-5f04-4203-b85c-a989e51b0032"
      },
      "source": [
        "**8.2. menampilkan informasi terkait jumlah missing values yang terdapat dalam setiap kolom**"
      ]
    },
    {
      "cell_type": "code",
      "execution_count": null,
      "id": "54d3d915-58bb-4d45-b453-c2fb058b224c",
      "metadata": {
        "id": "54d3d915-58bb-4d45-b453-c2fb058b224c"
      },
      "outputs": [],
      "source": [
        "geolokasi_df.isna().sum()"
      ]
    },
    {
      "cell_type": "markdown",
      "id": "bf7ea8f4-0ba1-46d6-bd4e-81989e2a9b3b",
      "metadata": {
        "id": "bf7ea8f4-0ba1-46d6-bd4e-81989e2a9b3b"
      },
      "source": [
        "**8.3. menampilkan duplikasi data**"
      ]
    },
    {
      "cell_type": "code",
      "execution_count": null,
      "id": "500b75d4-7aa9-4573-8e98-6cc1a238f16f",
      "metadata": {
        "id": "500b75d4-7aa9-4573-8e98-6cc1a238f16f"
      },
      "outputs": [],
      "source": [
        "print(\"Jumlah duplikasi: \",geolokasi_df.duplicated().sum())"
      ]
    },
    {
      "cell_type": "markdown",
      "id": "f2a24c5d-5004-465e-aed4-6b30e2aa6404",
      "metadata": {
        "id": "f2a24c5d-5004-465e-aed4-6b30e2aa6404"
      },
      "source": [
        "**Insight :**\n",
        "\n",
        "terdapat duplikasi data yang cukup banyak, akan dibersihkan pada tahap cleansing data."
      ]
    },
    {
      "cell_type": "markdown",
      "id": "f73cd0b3-ba4c-488c-8b8f-4a94bf7ac1fc",
      "metadata": {
        "id": "f73cd0b3-ba4c-488c-8b8f-4a94bf7ac1fc"
      },
      "source": [
        "**8.4. memeriksa parameter statistik dari kolom numerik**"
      ]
    },
    {
      "cell_type": "code",
      "execution_count": null,
      "id": "8bd497bd-4cdf-4e81-85ff-fc254a14aff4",
      "metadata": {
        "id": "8bd497bd-4cdf-4e81-85ff-fc254a14aff4"
      },
      "outputs": [],
      "source": [
        "geolokasi_df.describe()"
      ]
    },
    {
      "cell_type": "markdown",
      "id": "0d422d7e-5f8b-4d76-abc1-11ae2cd3b2ec",
      "metadata": {
        "id": "0d422d7e-5f8b-4d76-abc1-11ae2cd3b2ec"
      },
      "source": [
        "**Insight :**\n",
        "\n",
        "Tidak terdapat keanehan nilai pada geolokasi_df."
      ]
    },
    {
      "cell_type": "markdown",
      "id": "64eaaebc-5884-4028-83f9-d9dad9d6aaa2",
      "metadata": {
        "id": "64eaaebc-5884-4028-83f9-d9dad9d6aaa2"
      },
      "source": [
        "**9. Menilai data customer_df**"
      ]
    },
    {
      "cell_type": "markdown",
      "id": "4216b2ff-2733-4d18-843d-d1d543260039",
      "metadata": {
        "id": "4216b2ff-2733-4d18-843d-d1d543260039"
      },
      "source": [
        "**9.1. memeriksa tipe data dan missing value**"
      ]
    },
    {
      "cell_type": "code",
      "execution_count": null,
      "id": "4c8f6b34-6bb8-42b3-804c-561949e6d622",
      "metadata": {
        "id": "4c8f6b34-6bb8-42b3-804c-561949e6d622"
      },
      "outputs": [],
      "source": [
        "customer_df.info()"
      ]
    },
    {
      "cell_type": "markdown",
      "id": "c40237ae-2682-4ff3-a0ce-01c4a0f01a37",
      "metadata": {
        "id": "c40237ae-2682-4ff3-a0ce-01c4a0f01a37"
      },
      "source": [
        "**Insight :**\n",
        "\n",
        "- Tidak terdapat kesalahan tipe data.\n",
        "- Tidak terdapat missing value."
      ]
    },
    {
      "cell_type": "markdown",
      "id": "1019e958-1a3a-492a-96ff-b90541cc93d6",
      "metadata": {
        "id": "1019e958-1a3a-492a-96ff-b90541cc93d6"
      },
      "source": [
        "**9.2. menampilkan informasi terkait jumlah missing values yang terdapat dalam setiap kolom**"
      ]
    },
    {
      "cell_type": "code",
      "execution_count": null,
      "id": "26bcfc72-cb5f-4301-9aef-d0ec4be3f22b",
      "metadata": {
        "id": "26bcfc72-cb5f-4301-9aef-d0ec4be3f22b"
      },
      "outputs": [],
      "source": [
        "customer_df.isna().sum()"
      ]
    },
    {
      "cell_type": "markdown",
      "id": "8ef1ca14-b71a-4e05-8a50-ee24583df287",
      "metadata": {
        "id": "8ef1ca14-b71a-4e05-8a50-ee24583df287"
      },
      "source": [
        "**9.3. menampilkan duplikasi data**"
      ]
    },
    {
      "cell_type": "code",
      "execution_count": null,
      "id": "3746f170-9416-4f04-8c9c-67bd328be094",
      "metadata": {
        "id": "3746f170-9416-4f04-8c9c-67bd328be094"
      },
      "outputs": [],
      "source": [
        "print(\"Jumlah duplikasi: \",customer_df.duplicated().sum())"
      ]
    },
    {
      "cell_type": "markdown",
      "id": "8f29637f-e512-434b-a22b-086ed771d886",
      "metadata": {
        "id": "8f29637f-e512-434b-a22b-086ed771d886"
      },
      "source": [
        "**Insight :**\n",
        "\n",
        "Tidak terdapat duplikasi data pada customer_df."
      ]
    },
    {
      "cell_type": "markdown",
      "id": "dd686fee-5fa2-4121-8970-f095facf20cf",
      "metadata": {
        "id": "dd686fee-5fa2-4121-8970-f095facf20cf"
      },
      "source": [
        "**9.4. memeriksa parameter statistik dari kolom numerik**"
      ]
    },
    {
      "cell_type": "code",
      "execution_count": null,
      "id": "7a4e9de4-e2a3-426e-ac7c-a59fd44a1fed",
      "metadata": {
        "id": "7a4e9de4-e2a3-426e-ac7c-a59fd44a1fed"
      },
      "outputs": [],
      "source": [
        "customer_df.describe()"
      ]
    },
    {
      "cell_type": "markdown",
      "id": "ade39f73-b222-40fd-b596-e77b648aad5b",
      "metadata": {
        "id": "ade39f73-b222-40fd-b596-e77b648aad5b"
      },
      "source": [
        "**Insight :**\n",
        "\n",
        "Tidak terdapat keanehan nilai pada customer_df."
      ]
    },
    {
      "cell_type": "markdown",
      "id": "b73619f4-4a55-4c52-9d0b-7ac9853347dd",
      "metadata": {
        "id": "b73619f4-4a55-4c52-9d0b-7ac9853347dd"
      },
      "source": [
        "**Berikut rangkumannya pada tahap assessing data :**\n",
        "1. orders_df\n",
        "    - Tipe data :\n",
        "      - order_purchase_timestamp\n",
        "      - order_approved_at\n",
        "      - order_delivered_carrier_date\n",
        "      - order_delivered_customer_date\n",
        "      - order_estimated_delivery_date.\n",
        "    - Missing value :\n",
        "      - order_approved_at = 160\n",
        "      - order_delivered_carrier_date = 1783\n",
        "      - order_delivered_customer_date = 2965\n",
        "    - Duplikat data : -\n",
        "    - Inaccurate value : -\n",
        "2. produk_df\n",
        "    - Tipe data : -\n",
        "    - Missing value :\n",
        "      - product_category_name         = 610\n",
        "      - product_name_lenght           = 610\n",
        "      - product_description_lenght    = 610\n",
        "      - product_photos_qty            = 610\n",
        "      - product_weight_g              = 2\n",
        "      - product_length_cm             = 2  \n",
        "      - product_height_cm             = 2  \n",
        "      - product_width_cm              = 2\n",
        "    - Duplikat data : -\n",
        "    - Inaccurate value : -\n",
        "3. seller_df\n",
        "    - Tipe data : -\n",
        "    - Missing Value : -\n",
        "    - Duplikat data : -\n",
        "    - Inaccurate value : -\n",
        "4. kategori_produk_df\n",
        "    - Tipe data : -\n",
        "    - Missing Value : -\n",
        "    - Duplikat data : -\n",
        "    - Inaccurate value : -\n",
        "5. order_item_df\n",
        "    - Tipe data :\n",
        "        - shipping_limit_date\n",
        "    - Missing value : -\n",
        "    - Duplikat data : -\n",
        "    - Inaccurate value : -\n",
        "6. payment_df\n",
        "    - Tipe data : -\n",
        "    - Missing Value : -\n",
        "    - Duplikat data : -\n",
        "    - Inaccurate value : -\n",
        "7. review_df\n",
        "    - Tipe data :\n",
        "       - review_creation_date  \n",
        "       - review_answer_timestamp\n",
        "    - Missing value :\n",
        "       - review_comment_title   \n",
        "       - review_comment_message\n",
        "    - Duplikat data : -\n",
        "    - Inaccurate value : -\n",
        "8. geolokasi_df\n",
        "    - Tipe data : -\n",
        "    - Missing value : -\n",
        "    - Duplikat data : 261831\n",
        "    - Inaccurate value : -\n",
        "9. customer_df\n",
        "    - Tipe data : -\n",
        "    - Missing Value : -\n",
        "    - Duplikat data : -\n",
        "    - Inaccurate value : -"
      ]
    },
    {
      "cell_type": "markdown",
      "id": "18e28f78-9900-4847-b236-ef26cd1a5511",
      "metadata": {
        "id": "18e28f78-9900-4847-b236-ef26cd1a5511"
      },
      "source": [
        "### Cleaning data"
      ]
    },
    {
      "cell_type": "markdown",
      "id": "be87dc5c-8f0b-4841-a7d7-5cbdfe387824",
      "metadata": {
        "id": "be87dc5c-8f0b-4841-a7d7-5cbdfe387824"
      },
      "source": [
        "**1. Membersihkan data orders_df**"
      ]
    },
    {
      "cell_type": "markdown",
      "id": "3beb9df6-4eed-445b-99e5-7caea5126dac",
      "metadata": {
        "id": "3beb9df6-4eed-445b-99e5-7caea5126dac"
      },
      "source": [
        "Berdasarkan hasil proses assessing data, diketahui bahwa terdapat dua masalah yang dijumpai dalam orders_df, yaitu tipe data, dan missing value."
      ]
    },
    {
      "cell_type": "markdown",
      "id": "097f8521-6874-4346-b822-66fcf6cc79a6",
      "metadata": {
        "id": "097f8521-6874-4346-b822-66fcf6cc79a6"
      },
      "source": [
        "**1.1. Menangani tipe data**"
      ]
    },
    {
      "cell_type": "code",
      "execution_count": null,
      "id": "081b41b3-a7ad-480c-9445-9b16817db33a",
      "metadata": {
        "id": "081b41b3-a7ad-480c-9445-9b16817db33a"
      },
      "outputs": [],
      "source": [
        "datetime_columns = [\"order_purchase_timestamp\", \"order_approved_at\", \"order_delivered_carrier_date\", \"order_delivered_customer_date\", \"order_estimated_delivery_date\"]\n",
        "\n",
        "for column in datetime_columns:\n",
        "  orders_df[column] = pd.to_datetime(orders_df[column])"
      ]
    },
    {
      "cell_type": "markdown",
      "id": "afaa5bf1-ede3-4a83-a915-55dc4181480d",
      "metadata": {
        "id": "afaa5bf1-ede3-4a83-a915-55dc4181480d"
      },
      "source": [
        "**1.2. Menangani missing value**"
      ]
    },
    {
      "cell_type": "markdown",
      "id": "c5e469d6-c431-4399-96b2-0126a0a545bd",
      "metadata": {
        "id": "c5e469d6-c431-4399-96b2-0126a0a545bd"
      },
      "source": [
        "Kita bisa memfilter satu persatu dari ketiga kolom untuk dianalisa lebih lanjut sebelum menentukan metode yang tepat untuk menangani missing value pada ketiga kolom tersebut."
      ]
    },
    {
      "cell_type": "markdown",
      "id": "529aad4d-7a36-4921-b1e4-f9e37091931e",
      "metadata": {
        "id": "529aad4d-7a36-4921-b1e4-f9e37091931e"
      },
      "source": [
        "**1.2.1. Memfilter kolom \"order_approved_at\"**"
      ]
    },
    {
      "cell_type": "code",
      "execution_count": null,
      "id": "b1e0073b-218f-4b1a-b1a3-058130942edc",
      "metadata": {
        "id": "b1e0073b-218f-4b1a-b1a3-058130942edc"
      },
      "outputs": [],
      "source": [
        "orders_df[ orders_df.order_approved_at.isna()].head()"
      ]
    },
    {
      "cell_type": "markdown",
      "id": "ed6d485b-fd4d-4d50-85ff-3773718d6425",
      "metadata": {
        "id": "ed6d485b-fd4d-4d50-85ff-3773718d6425"
      },
      "source": [
        "**Insight :**\n",
        "\n",
        "Berdasarkan tabel data di atas, dapat dilihat bahwa baris data tersebut mengandung banyak informasi penting. Sekilas kolom yang memiliki missing value sama-sama memiliki **\"order_status = canceled\"**."
      ]
    },
    {
      "cell_type": "markdown",
      "id": "7185c1d6-3cc5-4d38-9c1a-8e25d012eee6",
      "metadata": {
        "id": "7185c1d6-3cc5-4d38-9c1a-8e25d012eee6"
      },
      "source": [
        "**1.2.2. Memfilter kolom \"order_delivered_carrier_date\"**"
      ]
    },
    {
      "cell_type": "code",
      "execution_count": null,
      "id": "ac6492f6-4e58-4215-9e69-2cf898c0e39c",
      "metadata": {
        "id": "ac6492f6-4e58-4215-9e69-2cf898c0e39c"
      },
      "outputs": [],
      "source": [
        "orders_df[ orders_df.order_delivered_carrier_date.isna()].head()"
      ]
    },
    {
      "cell_type": "markdown",
      "id": "027f71f9-e1cd-4103-b3d8-ae841ce770da",
      "metadata": {
        "id": "027f71f9-e1cd-4103-b3d8-ae841ce770da"
      },
      "source": [
        "**Insight :**\n",
        "\n",
        "Dari tabel data di atas, didapat informasi bahwa kolom **\"order_status\" terdiri dari beberapa status dan kolom \"order_approved_at\" ternyata sebagian baris memiliki value**."
      ]
    },
    {
      "cell_type": "markdown",
      "id": "e84afb7a-be80-422d-b6aa-513cb59a30f0",
      "metadata": {
        "id": "e84afb7a-be80-422d-b6aa-513cb59a30f0"
      },
      "source": [
        "**1.2.3. Memfilter kolom \"order_delivered_customer_date\"**"
      ]
    },
    {
      "cell_type": "code",
      "execution_count": null,
      "id": "70093b1e-13e4-4256-b8d6-81cdf6d107f5",
      "metadata": {
        "id": "70093b1e-13e4-4256-b8d6-81cdf6d107f5"
      },
      "outputs": [],
      "source": [
        "orders_df[ orders_df.order_delivered_customer_date.isna()].head()"
      ]
    },
    {
      "cell_type": "markdown",
      "id": "32abee4d-6ca9-4ee3-8a15-e0468e8d9825",
      "metadata": {
        "id": "32abee4d-6ca9-4ee3-8a15-e0468e8d9825"
      },
      "source": [
        "**Insight :**\n",
        "\n",
        "Jika kita membedah kolom \"order_delivered_customer_date\" didapat informasi bahwa kolom **\"order_status\" terdiri dari beberapa status, kolom \"order_approved_at\" sebagian barisnya memiliki value dan kolom \"order_delivered_carrier_date\" sebagian baris nya juga memiliki value**."
      ]
    },
    {
      "cell_type": "markdown",
      "id": "3458f956-7bc3-4791-9504-3f40ee4e4410",
      "metadata": {
        "id": "3458f956-7bc3-4791-9504-3f40ee4e4410"
      },
      "source": [
        "dari hasil filtering pada ketiga kolom dapat disimpulkan bahwa semua baris data dan kolom memiliki informasi penting yang bisa digunakan untuk analisa lebih lanjut, sehingga tidak dapat dibuang/dihilangkan. oleh karena itu, kita bisa menggunakan **metode interpolation (teknik yang sering digunakan pada data time series, di mana missing values diisi dengan nilai yang diinterpolasi dari data sebelum dan sesudahnya.)**.\n",
        "\n",
        "Untuk menentukan estimasi berdasarkan pola yang ada, kita bisa memfilter datanya nya berdasarkan kolom \"order_status\". namun sebelumnya kita harus mengidentifikasi terlebih dahulu kolom \"order_status\" untuk melihat apa saja value pada kolom tersebut."
      ]
    },
    {
      "cell_type": "code",
      "execution_count": null,
      "id": "5cad9daa-2a37-4bd0-bdba-e7e496eb4841",
      "metadata": {
        "id": "5cad9daa-2a37-4bd0-bdba-e7e496eb4841"
      },
      "outputs": [],
      "source": [
        "orders_df.order_status.value_counts()"
      ]
    },
    {
      "cell_type": "markdown",
      "id": "325eaf9e-8412-4372-8cae-cf1379d1a990",
      "metadata": {
        "id": "325eaf9e-8412-4372-8cae-cf1379d1a990"
      },
      "source": [
        "**Insight :**\n",
        "\n",
        "Berdasarkan hasil di atas, dapat diketahui bahwa kolom **\"order_status\"** terdiri dari beberapa value, mulai dari **\"approved\"** hingga **\"delivered\"**. mari kita filter satu-satu berdasarkan value pada kolom tersebut."
      ]
    },
    {
      "cell_type": "markdown",
      "id": "762b1805-0f8a-45ba-adab-97c5848b04b2",
      "metadata": {
        "id": "762b1805-0f8a-45ba-adab-97c5848b04b2"
      },
      "source": [
        "**1.2.4. Memfilter kolom \"'order_status\" == approved**"
      ]
    },
    {
      "cell_type": "code",
      "execution_count": null,
      "id": "a44af7f2-dc08-48a0-a285-ef6d96915ae2",
      "metadata": {
        "id": "a44af7f2-dc08-48a0-a285-ef6d96915ae2"
      },
      "outputs": [],
      "source": [
        "approved_df = orders_df[orders_df['order_status'] == 'approved']\n",
        "approved_df.head()"
      ]
    },
    {
      "cell_type": "markdown",
      "id": "7314f15c-1a6f-4e5e-9cff-6d5b4c952714",
      "metadata": {
        "id": "7314f15c-1a6f-4e5e-9cff-6d5b4c952714"
      },
      "source": [
        "**1.2.5. Memfilter kolom \"'order_status\" == created**"
      ]
    },
    {
      "cell_type": "code",
      "execution_count": null,
      "id": "24fd6278-472e-4f2f-b932-e5b46593b180",
      "metadata": {
        "id": "24fd6278-472e-4f2f-b932-e5b46593b180"
      },
      "outputs": [],
      "source": [
        "created_df = orders_df[orders_df['order_status'] == 'created']\n",
        "created_df.head()"
      ]
    },
    {
      "cell_type": "markdown",
      "id": "cf516a07-de80-4c25-98de-0b89aa7091ac",
      "metadata": {
        "id": "cf516a07-de80-4c25-98de-0b89aa7091ac"
      },
      "source": [
        "**1.2.6. Memfilter kolom \"'order_status\" == processing**"
      ]
    },
    {
      "cell_type": "code",
      "execution_count": null,
      "id": "4c8ff686-ae07-4da0-9e06-5d06907d1ce3",
      "metadata": {
        "id": "4c8ff686-ae07-4da0-9e06-5d06907d1ce3"
      },
      "outputs": [],
      "source": [
        "processing_df = orders_df[orders_df['order_status'] == 'processing']\n",
        "processing_df.head()"
      ]
    },
    {
      "cell_type": "markdown",
      "id": "a41274b0-7ee6-4a5a-a6df-563b90b5c355",
      "metadata": {
        "id": "a41274b0-7ee6-4a5a-a6df-563b90b5c355"
      },
      "source": [
        "**1.2.7. Memfilter kolom \"'order_status\" == invoiced**"
      ]
    },
    {
      "cell_type": "code",
      "execution_count": null,
      "id": "0ff3310c-8faf-4bd8-882d-d938097b55e6",
      "metadata": {
        "id": "0ff3310c-8faf-4bd8-882d-d938097b55e6"
      },
      "outputs": [],
      "source": [
        "invoiced_df = orders_df[orders_df['order_status'] == 'invoiced']\n",
        "invoiced_df.head()"
      ]
    },
    {
      "cell_type": "markdown",
      "id": "07c82736-a020-4244-8e8a-0c2c9c9529b5",
      "metadata": {
        "id": "07c82736-a020-4244-8e8a-0c2c9c9529b5"
      },
      "source": [
        "**1.2.8. Memfilter kolom \"'order_status\" == unavailable**"
      ]
    },
    {
      "cell_type": "code",
      "execution_count": null,
      "id": "0792317d-393e-499a-ba9d-9980502885f6",
      "metadata": {
        "id": "0792317d-393e-499a-ba9d-9980502885f6"
      },
      "outputs": [],
      "source": [
        "unavailable_df = orders_df[orders_df['order_status'] == 'unavailable']\n",
        "unavailable_df.head()"
      ]
    },
    {
      "cell_type": "markdown",
      "id": "e10af1c9-d05d-43c7-9f9a-81ba277d500e",
      "metadata": {
        "id": "e10af1c9-d05d-43c7-9f9a-81ba277d500e"
      },
      "source": [
        "**1.2.9. Memfilter kolom \"'order_status\" == canceled**"
      ]
    },
    {
      "cell_type": "code",
      "execution_count": null,
      "id": "f8aa5be5-1e15-44f8-8403-d11bfcad45a5",
      "metadata": {
        "id": "f8aa5be5-1e15-44f8-8403-d11bfcad45a5"
      },
      "outputs": [],
      "source": [
        "canceled_df = orders_df[orders_df['order_status'] == 'canceled']\n",
        "canceled_df.head()"
      ]
    },
    {
      "cell_type": "markdown",
      "id": "5f6fa7e3-f62f-45af-b9b7-d16a42c08234",
      "metadata": {
        "id": "5f6fa7e3-f62f-45af-b9b7-d16a42c08234"
      },
      "source": [
        "**1.2.10. Memfilter kolom \"'order_status\" == shipped**"
      ]
    },
    {
      "cell_type": "code",
      "execution_count": null,
      "id": "000ef516-aa58-4d32-83d1-7303b1d14adb",
      "metadata": {
        "id": "000ef516-aa58-4d32-83d1-7303b1d14adb"
      },
      "outputs": [],
      "source": [
        "shipped_df = orders_df[orders_df['order_status'] == 'shipped']\n",
        "shipped_df.head()"
      ]
    },
    {
      "cell_type": "markdown",
      "id": "f4b18a6d-adf5-4d2c-af5f-102a81ceea13",
      "metadata": {
        "id": "f4b18a6d-adf5-4d2c-af5f-102a81ceea13"
      },
      "source": [
        "**1.2.11. Memfilter kolom \"'order_status\" == delivered**"
      ]
    },
    {
      "cell_type": "code",
      "execution_count": null,
      "id": "183bfa16-0cd9-4725-a1d3-5978340cfdde",
      "metadata": {
        "id": "183bfa16-0cd9-4725-a1d3-5978340cfdde"
      },
      "outputs": [],
      "source": [
        "delivered_df = orders_df[orders_df['order_status'] == 'delivered']\n",
        "delivered_df.head()"
      ]
    },
    {
      "cell_type": "markdown",
      "id": "a3dee619-27e6-4d79-bc33-7564a9b84bfa",
      "metadata": {
        "id": "a3dee619-27e6-4d79-bc33-7564a9b84bfa"
      },
      "source": [
        "**Insight :**\n",
        "\n",
        "Berdasarkan hasil filtering pada kolom \"order_status\" di atas, dapat disimpulkan bahwa :\n",
        "1. kolom order_approved_at, order_delivered_carrier_date, dan order_delivered_customer_date **tidak semua barisnya memiliki missing value, beberapa memiliki value**.\n",
        "2. dapat dilihat pada kolom waktu terkait seperti order_purchase_timestamp, order_approved_at, order_delivered_carrier_date, order_delivered_customer_date, dan order_estimated_delivery_date, kita bisa menganalisis selisih waktu rata-rata yang dibutuhkan untuk setiap tahap proses pesanan.\n",
        "\n",
        "Contoh :\n",
        "untuk mengisi kolom \"order_approved_at\", kita bisa **menghitung selisih waktu rata-rata antara kolom \"order_approved_at\" yang tanpa nilai NaT dengan kolom \"order_purchase_timestamp\"**"
      ]
    },
    {
      "cell_type": "markdown",
      "id": "10540bc8-f31a-4685-84ed-75b5b95a999e",
      "metadata": {
        "id": "10540bc8-f31a-4685-84ed-75b5b95a999e"
      },
      "source": [
        "**1.2.12. Menghitung nilai rata-rata dari selisih waktu untuk mengisi kolom \"order_approved_at\"**"
      ]
    },
    {
      "cell_type": "code",
      "execution_count": null,
      "id": "e6cfaa9a-b609-4207-b191-2b6db63f1c0b",
      "metadata": {
        "id": "e6cfaa9a-b609-4207-b191-2b6db63f1c0b"
      },
      "outputs": [],
      "source": [
        "# Filter data dengan kondisi tanpa nilai NaT\n",
        "approve_time = orders_df[(orders_df['order_approved_at'].notna()) &\n",
        "                             (orders_df['order_purchase_timestamp'].notna())]\n",
        "\n",
        "# Menghitung selisih waktu dalam menit\n",
        "approve_time['time_difference_minutes'] = ((approve_time['order_approved_at'] - approve_time['order_purchase_timestamp']).dt.total_seconds() / 60).astype(int)\n",
        "\n",
        "# Menampilkan hasil untuk memastikan perhitungan\n",
        "print(approve_time[['order_purchase_timestamp', 'order_approved_at', 'time_difference_minutes']].head())\n"
      ]
    },
    {
      "cell_type": "markdown",
      "id": "25ec076f-92f9-4308-8720-a4502a3ddc69",
      "metadata": {
        "id": "25ec076f-92f9-4308-8720-a4502a3ddc69"
      },
      "source": [
        "**Insight :**\n",
        "\n",
        "Setelah diketahui selisih waktunya, kita bisa mengambil nilai rata-rata dari selisih waktu yang dibutuhkan."
      ]
    },
    {
      "cell_type": "code",
      "execution_count": null,
      "id": "bac55b4c-de8b-42a1-9c76-1a496aab8d5a",
      "metadata": {
        "id": "bac55b4c-de8b-42a1-9c76-1a496aab8d5a"
      },
      "outputs": [],
      "source": [
        "# Menghitung rata-rata dari time_difference_minutes\n",
        "average_time_difference_minutes = approve_time['time_difference_minutes'].mean()\n",
        "# Mengubah rata-rata menjadi bilangan bulat\n",
        "average_time_difference_minutes_int = int(average_time_difference_minutes)\n",
        "# Menampilkan hasil rata-rata\n",
        "print(\"Rata-rata selisih waktu (dalam menit):\", average_time_difference_minutes_int)"
      ]
    },
    {
      "cell_type": "code",
      "execution_count": null,
      "id": "8de694da-bf7d-42c1-b94d-d71010f33a18",
      "metadata": {
        "id": "8de694da-bf7d-42c1-b94d-d71010f33a18"
      },
      "outputs": [],
      "source": [
        "orders_df['order_approved_at'] = orders_df.apply(\n",
        "    lambda row: row['order_purchase_timestamp'] + pd.Timedelta(minutes=average_time_difference_minutes_int)\n",
        "    if pd.isna(row['order_approved_at']) else row['order_approved_at'], axis=1\n",
        ")"
      ]
    },
    {
      "cell_type": "markdown",
      "id": "47f2a02a-2e97-4b1f-bae3-ce3eda88064d",
      "metadata": {
        "id": "47f2a02a-2e97-4b1f-bae3-ce3eda88064d"
      },
      "source": [
        "**Insight :**\n",
        "\n",
        "Secara keseluruhan, perintah ini bertujuan untuk mengisi missing values pada kolom \"order_approved_at\" dengan estimasi waktu persetujuan berdasarkan waktu pembelian (order_purchase_timestamp) ditambah dengan selisih waktu rata-rata. **Jika nilai pada kolom order_approved_at sudah ada, maka nilai tersebut tidak akan diubah**.\n",
        "\n",
        "Jika proses pembersihan missing value pada kolom \"order_approved_at\" tersebut berhasil, maka akan memperoleh hasil seperti berikut."
      ]
    },
    {
      "cell_type": "code",
      "execution_count": null,
      "id": "880ed767-23bd-443c-80d4-3ac400f2db08",
      "metadata": {
        "id": "880ed767-23bd-443c-80d4-3ac400f2db08"
      },
      "outputs": [],
      "source": [
        "orders_df.isna().sum()"
      ]
    },
    {
      "cell_type": "markdown",
      "id": "6bee91e7-79b9-4a57-b7fe-2787d479940b",
      "metadata": {
        "id": "6bee91e7-79b9-4a57-b7fe-2787d479940b"
      },
      "source": [
        "Cara yang sama bisa digunakan juga untuk mengisi missing value pada kolom \"order_delivered_carrier_date\". kita bisa menghitung selisih waktu rata-rata antara kolom \"order_delivered_carrier_date\" yang tanpa nilai NaT dengan kolom \"order_approved_at\"."
      ]
    },
    {
      "cell_type": "markdown",
      "id": "4a738e69-ee3a-4c0a-8bc7-9aca40e79543",
      "metadata": {
        "id": "4a738e69-ee3a-4c0a-8bc7-9aca40e79543"
      },
      "source": [
        "**1.2.13. Menghitung nilai rata-rata dari selisih waktu untuk mengisi kolom \"order_delivered_carrier_date\"**"
      ]
    },
    {
      "cell_type": "code",
      "execution_count": null,
      "id": "c2d01f46-4b19-4cf4-aaa7-5308ffedd98a",
      "metadata": {
        "id": "c2d01f46-4b19-4cf4-aaa7-5308ffedd98a"
      },
      "outputs": [],
      "source": [
        "# Filter data dengan kondisi tanpa nilai NaT\n",
        "carrier_time = orders_df[(orders_df['order_delivered_carrier_date'].notna()) &\n",
        "                             (orders_df['order_approved_at'].notna())]\n",
        "\n",
        "# Menghitung selisih waktu dalam menit\n",
        "carrier_time['time_difference_minutes'] = ((carrier_time['order_delivered_carrier_date'] - carrier_time['order_approved_at']).dt.total_seconds() / 60).astype(int)\n",
        "\n",
        "# Menampilkan hasil untuk memastikan perhitungan\n",
        "print(carrier_time[['order_approved_at', 'order_delivered_carrier_date', 'time_difference_minutes']].head())\n"
      ]
    },
    {
      "cell_type": "code",
      "execution_count": null,
      "id": "c5c10199-ad77-47b4-848b-2c8c901d36e7",
      "metadata": {
        "id": "c5c10199-ad77-47b4-848b-2c8c901d36e7"
      },
      "outputs": [],
      "source": [
        "# Menghitung rata-rata dari time_difference_minutes\n",
        "average_time_difference_minutes = carrier_time['time_difference_minutes'].mean()\n",
        "average_time_difference_minutes_int = int(average_time_difference_minutes)\n",
        "# Menampilkan hasil rata-rata\n",
        "print(\"Rata-rata selisih waktu (dalam menit):\", average_time_difference_minutes_int)"
      ]
    },
    {
      "cell_type": "code",
      "execution_count": null,
      "id": "42e089d5-0a7f-45bd-8712-94f2f7d846f7",
      "metadata": {
        "id": "42e089d5-0a7f-45bd-8712-94f2f7d846f7"
      },
      "outputs": [],
      "source": [
        "orders_df['order_delivered_carrier_date'] = orders_df.apply(\n",
        "    lambda row: row['order_approved_at'] + pd.Timedelta(minutes=average_time_difference_minutes_int)\n",
        "    if pd.isna(row['order_delivered_carrier_date']) else row['order_delivered_carrier_date'], axis=1\n",
        ")"
      ]
    },
    {
      "cell_type": "markdown",
      "id": "315d45ac-f39a-4f8c-bbd3-e7e0c7ba5a0e",
      "metadata": {
        "id": "315d45ac-f39a-4f8c-bbd3-e7e0c7ba5a0e"
      },
      "source": [
        "Jika proses pembersihan missing value pada kolom \"order_delivered_carrier_date\" tersebut berhasil, maka akan memperoleh hasil seperti berikut."
      ]
    },
    {
      "cell_type": "code",
      "execution_count": null,
      "id": "fed8ee2c-5eb7-4ef4-b56f-efe7a014797b",
      "metadata": {
        "id": "fed8ee2c-5eb7-4ef4-b56f-efe7a014797b"
      },
      "outputs": [],
      "source": [
        "orders_df.isna().sum()"
      ]
    },
    {
      "cell_type": "markdown",
      "id": "c2af1c87-3916-4320-90c4-253f10fc3e16",
      "metadata": {
        "id": "c2af1c87-3916-4320-90c4-253f10fc3e16"
      },
      "source": [
        "**1.2.14. Menghitung nilai rata-rata dari selisih waktu untuk mengisi kolom \"order_delivered_customer_date\"**"
      ]
    },
    {
      "cell_type": "code",
      "execution_count": null,
      "id": "153ceb1d-3e7e-4369-9d2a-15d5304c5cea",
      "metadata": {
        "id": "153ceb1d-3e7e-4369-9d2a-15d5304c5cea"
      },
      "outputs": [],
      "source": [
        "# Filter data dengan kondisi tanpa nilai NaT\n",
        "customer_time = orders_df[(orders_df['order_delivered_customer_date'].notna()) &\n",
        "                             (orders_df['order_delivered_carrier_date'].notna())]\n",
        "\n",
        "# Menghitung selisih waktu dalam menit\n",
        "customer_time['time_difference_minutes'] = ((customer_time['order_delivered_customer_date'] - customer_time['order_delivered_carrier_date']).dt.total_seconds() / 60).astype(int)\n",
        "\n",
        "# Menampilkan hasil untuk memastikan perhitungan\n",
        "print(customer_time[['order_delivered_carrier_date', 'order_delivered_customer_date', 'time_difference_minutes']].head())"
      ]
    },
    {
      "cell_type": "code",
      "execution_count": null,
      "id": "51729d0b-2dfd-4bc9-a39f-65b2489d6677",
      "metadata": {
        "id": "51729d0b-2dfd-4bc9-a39f-65b2489d6677"
      },
      "outputs": [],
      "source": [
        "# Menghitung rata-rata dari time_difference_minutes\n",
        "average_time_difference_minutes = customer_time['time_difference_minutes'].mean()\n",
        "average_time_difference_minutes_int = int(average_time_difference_minutes)\n",
        "# Menampilkan hasil rata-rata\n",
        "print(\"Rata-rata selisih waktu (dalam menit):\", average_time_difference_minutes_int)"
      ]
    },
    {
      "cell_type": "code",
      "execution_count": null,
      "id": "c751da10-7789-4210-8d65-5a3fd125af5b",
      "metadata": {
        "id": "c751da10-7789-4210-8d65-5a3fd125af5b"
      },
      "outputs": [],
      "source": [
        "orders_df['order_delivered_customer_date'] = orders_df.apply(\n",
        "    lambda row: row['order_delivered_carrier_date'] + pd.Timedelta(minutes=average_time_difference_minutes_int)\n",
        "    if pd.isna(row['order_delivered_customer_date']) else row['order_delivered_customer_date'], axis=1\n",
        ")"
      ]
    },
    {
      "cell_type": "markdown",
      "id": "c62ff93e-c06f-4391-946f-a2224b48cd73",
      "metadata": {
        "id": "c62ff93e-c06f-4391-946f-a2224b48cd73"
      },
      "source": [
        "Jika proses pembersihan missing value pada kolom \"order_delivered_customer_date\" tersebut berhasil, maka akan memperoleh hasil seperti berikut."
      ]
    },
    {
      "cell_type": "code",
      "execution_count": null,
      "id": "cc3cb30f-996f-4b65-95f4-582a253d32df",
      "metadata": {
        "id": "cc3cb30f-996f-4b65-95f4-582a253d32df"
      },
      "outputs": [],
      "source": [
        "orders_df.isna().sum()"
      ]
    },
    {
      "cell_type": "markdown",
      "id": "007b9d88-b4f7-4c42-98fb-72acff5360cc",
      "metadata": {
        "id": "007b9d88-b4f7-4c42-98fb-72acff5360cc"
      },
      "source": [
        "**2. Membersihkan data geolokasi_df**"
      ]
    },
    {
      "cell_type": "markdown",
      "id": "045f021b-b902-4727-b79f-e75562af13ff",
      "metadata": {
        "id": "045f021b-b902-4727-b79f-e75562af13ff"
      },
      "source": [
        "Berdasarkan hasil proses assessing data, diketahui bahwa hanya terdapat satu masalah yang dijumpai dalam geolokasi_df, yaitu duplicate data."
      ]
    },
    {
      "cell_type": "markdown",
      "id": "22ed3f6e-8d69-4bcf-906e-43120613f15e",
      "metadata": {
        "id": "22ed3f6e-8d69-4bcf-906e-43120613f15e"
      },
      "source": [
        "**2.1. Menangani duplicate data**"
      ]
    },
    {
      "cell_type": "code",
      "execution_count": null,
      "id": "92b1bb16-0c5b-4dc5-a719-99eedd3e20ac",
      "metadata": {
        "id": "92b1bb16-0c5b-4dc5-a719-99eedd3e20ac"
      },
      "outputs": [],
      "source": [
        "geolokasi_df.drop_duplicates(inplace=True)"
      ]
    },
    {
      "cell_type": "markdown",
      "id": "d00fda5d-4d9b-4e18-92fc-5fc116a12e30",
      "metadata": {
        "id": "d00fda5d-4d9b-4e18-92fc-5fc116a12e30"
      },
      "source": [
        "kode di atas akan menghasilkan keluaran seperti berikut “Jumlah duplikasi:  0”."
      ]
    },
    {
      "cell_type": "code",
      "execution_count": null,
      "id": "514baa9d-6783-45b3-9128-f32e1e737fba",
      "metadata": {
        "id": "514baa9d-6783-45b3-9128-f32e1e737fba"
      },
      "outputs": [],
      "source": [
        "print(\"Jumlah duplikasi: \",geolokasi_df.duplicated().sum())"
      ]
    },
    {
      "cell_type": "code",
      "execution_count": null,
      "id": "b5cf2235-9b37-4399-8735-fce4870bf509",
      "metadata": {
        "id": "b5cf2235-9b37-4399-8735-fce4870bf509"
      },
      "outputs": [],
      "source": [
        "geolokasi_df.info()"
      ]
    },
    {
      "cell_type": "markdown",
      "id": "f6bdcc2d-23f2-48c8-b6ae-380d1f3e2e3a",
      "metadata": {
        "id": "f6bdcc2d-23f2-48c8-b6ae-380d1f3e2e3a"
      },
      "source": [
        "**3. Membersihkan data order_item_df**"
      ]
    },
    {
      "cell_type": "markdown",
      "id": "514aba6d-1683-49a9-a596-ce3f9ef118fb",
      "metadata": {
        "id": "514aba6d-1683-49a9-a596-ce3f9ef118fb"
      },
      "source": [
        "Berdasarkan hasil proses assessing data, diketahui bahwa hanya terdapat satu masalah yang dijumpai dalam order_item_df, yaitu tipe data."
      ]
    },
    {
      "cell_type": "markdown",
      "id": "f36f39e6-f494-48ce-ab44-0afa41f9aa3a",
      "metadata": {
        "id": "f36f39e6-f494-48ce-ab44-0afa41f9aa3a"
      },
      "source": [
        "**3.1. Menangani tipe data**"
      ]
    },
    {
      "cell_type": "code",
      "execution_count": null,
      "id": "de4ea7e0-b56e-4bea-99e6-3a4c6c46d030",
      "metadata": {
        "id": "de4ea7e0-b56e-4bea-99e6-3a4c6c46d030"
      },
      "outputs": [],
      "source": [
        "datetime_columns = [\"shipping_limit_date\"]\n",
        "\n",
        "for column in datetime_columns:\n",
        "  order_item_df[column] = pd.to_datetime(order_item_df[column])"
      ]
    },
    {
      "cell_type": "code",
      "execution_count": null,
      "id": "28fdac67-c46d-4ca4-a8cb-56df8849bf00",
      "metadata": {
        "id": "28fdac67-c46d-4ca4-a8cb-56df8849bf00"
      },
      "outputs": [],
      "source": [
        "order_item_df.info()"
      ]
    },
    {
      "cell_type": "markdown",
      "id": "cd61c951-16b2-4e21-9226-22371b5d9152",
      "metadata": {
        "id": "cd61c951-16b2-4e21-9226-22371b5d9152"
      },
      "source": [
        "**4. Membersihkan data review_df**"
      ]
    },
    {
      "cell_type": "markdown",
      "id": "72151bd3-0bb1-42e5-acb4-6456c19b0de8",
      "metadata": {
        "id": "72151bd3-0bb1-42e5-acb4-6456c19b0de8"
      },
      "source": [
        "Berdasarkan hasil proses assessing data, diketahui bahwa terdapat dua masalah yang dijumpai dalam review_df, yaitu tipe data, dan missing value."
      ]
    },
    {
      "cell_type": "markdown",
      "id": "0e215aa2-cc6f-4a01-9861-c84537181f5f",
      "metadata": {
        "id": "0e215aa2-cc6f-4a01-9861-c84537181f5f"
      },
      "source": [
        "**4.1. Menangani tipe data**"
      ]
    },
    {
      "cell_type": "code",
      "execution_count": null,
      "id": "5f544d23-c37b-4a8d-b330-c7289a629df7",
      "metadata": {
        "id": "5f544d23-c37b-4a8d-b330-c7289a629df7"
      },
      "outputs": [],
      "source": [
        "datetime_columns = [\"review_creation_date\", \"review_answer_timestamp\"]\n",
        "\n",
        "for column in datetime_columns:\n",
        "   review_df[column] = pd.to_datetime( review_df[column])"
      ]
    },
    {
      "cell_type": "markdown",
      "id": "85792cb7-c280-4dce-b0d3-26cdd44e555a",
      "metadata": {
        "id": "85792cb7-c280-4dce-b0d3-26cdd44e555a"
      },
      "source": [
        "**4.2. Menangani missing value**"
      ]
    },
    {
      "cell_type": "markdown",
      "id": "865862d7-ff75-481d-8f97-f427d68d9d22",
      "metadata": {
        "id": "865862d7-ff75-481d-8f97-f427d68d9d22"
      },
      "source": [
        "Untuk menentukan metode mana yang akan digunakan, kita perlu melihat data yang mengandung missing value tersebut menggunakan teknik filtering seperti berikut."
      ]
    },
    {
      "cell_type": "markdown",
      "id": "f8c1fae3-c3a7-45d3-a3f8-c548c456977d",
      "metadata": {
        "id": "f8c1fae3-c3a7-45d3-a3f8-c548c456977d"
      },
      "source": [
        "**4.2.1. Memfilter kolom \"review_comment_title\"**"
      ]
    },
    {
      "cell_type": "code",
      "execution_count": null,
      "id": "d334e7a2-01e9-4f69-a115-3d5d56fad886",
      "metadata": {
        "id": "d334e7a2-01e9-4f69-a115-3d5d56fad886"
      },
      "outputs": [],
      "source": [
        "review_df[review_df.review_comment_title.isna()].head()"
      ]
    },
    {
      "cell_type": "markdown",
      "id": "48691c33-4c52-442c-8def-beac7c76a6b3",
      "metadata": {
        "id": "48691c33-4c52-442c-8def-beac7c76a6b3"
      },
      "source": [
        "**Insight :**\n",
        "\n",
        "dari hasil filtering dapat disimpulkan bahwa :\n",
        "1. Banyak ulasan yang tidak memiliki judul (review_comment_title), tetapi tetap memiliki skor ulasan (review_score). Ini menunjukkan bahwa pelanggan mungkin merasa cukup puas atau tidak puas untuk memberikan skor, tetapi tidak merasa perlu untuk memberikan judul ulasan.\n",
        "2. hal yang sama juga bisa berlaku untuk kolom \"review_comment_message\".\n",
        "\n",
        "untuk lebih memastikan, bisa mengidentifikasi nilai-nilai yang terdapat pada kolom \"review_comment_title\" tersebut."
      ]
    },
    {
      "cell_type": "code",
      "execution_count": null,
      "id": "580c5ad4-f5ee-431e-9de7-9dbf3f409308",
      "metadata": {
        "id": "580c5ad4-f5ee-431e-9de7-9dbf3f409308"
      },
      "outputs": [],
      "source": [
        "review_df.review_comment_title.value_counts()"
      ]
    },
    {
      "cell_type": "markdown",
      "id": "537ec174-96fd-4f8b-a9e3-79766087445c",
      "metadata": {
        "id": "537ec174-96fd-4f8b-a9e3-79766087445c"
      },
      "source": [
        "**Insight :**\n",
        "\n",
        "dari data di atas dapat dilihat bahwa isi pada kolom \"review_comment_title\" cukup variatif. sehingga dapat dilakukan **metode menghapus kolom tersebut** dengan pertimbangan :\n",
        "1. jika dilihat dari hasil analisa sebelumnya bahwa pelanggan **mungkin merasa cukup puas atau tidak puas untuk memberikan skor, tetapi tidak merasa perlu untuk memberikan judul ulasan**.\n",
        "2. dapat menggunakan kolom \"review_score\" sebagai acuan untuk analisa lanjutan."
      ]
    },
    {
      "cell_type": "code",
      "execution_count": null,
      "id": "1ce4666c-3b84-4a67-b557-a81533bf1505",
      "metadata": {
        "id": "1ce4666c-3b84-4a67-b557-a81533bf1505"
      },
      "outputs": [],
      "source": [
        "review_df = review_df.drop(columns=['review_comment_title'])"
      ]
    },
    {
      "cell_type": "markdown",
      "id": "3bf40418-8bc2-4e38-af4d-a47183028394",
      "metadata": {
        "id": "3bf40418-8bc2-4e38-af4d-a47183028394"
      },
      "source": [
        "**4.2.2. Memfilter kolom \"review_comment_message\"**"
      ]
    },
    {
      "cell_type": "code",
      "execution_count": null,
      "id": "39e4e6c0-c6e9-4639-92f8-fa9c586c5d86",
      "metadata": {
        "id": "39e4e6c0-c6e9-4639-92f8-fa9c586c5d86"
      },
      "outputs": [],
      "source": [
        "review_df[review_df.review_comment_message.isna()].head()"
      ]
    },
    {
      "cell_type": "markdown",
      "id": "f205f26c-6d2e-498f-9760-814781955678",
      "metadata": {
        "id": "f205f26c-6d2e-498f-9760-814781955678"
      },
      "source": [
        "untuk lebih memastikan, bisa mengidentifikasi nilai-nilai yang terdapat pada kolom \"review_comment_message\" tersebut."
      ]
    },
    {
      "cell_type": "code",
      "execution_count": null,
      "id": "61b6b297-720b-4cc1-8925-727aea35beb1",
      "metadata": {
        "id": "61b6b297-720b-4cc1-8925-727aea35beb1"
      },
      "outputs": [],
      "source": [
        "review_df.review_comment_message.value_counts()"
      ]
    },
    {
      "cell_type": "markdown",
      "id": "c74c1257-c6b7-4f07-8c16-8daf5b836f1e",
      "metadata": {
        "id": "c74c1257-c6b7-4f07-8c16-8daf5b836f1e"
      },
      "source": [
        "**Insight :**\n",
        "\n",
        "dari data di atas dapat dilihat bahwa isi pada kolom \"review_comment_message\" juga cukup variatif. sehingga dapat dilakukan **metode menghapus kolom tersebut** dengan pertimbangan :\n",
        "1. jika dilihat dari hasil analisa sebelumnya bahwa pelanggan **mungkin merasa cukup puas atau tidak puas untuk memberikan skor, tetapi tidak merasa perlu untuk memberikan pesan ulasan**.\n",
        "2. dapat menggunakan kolom \"review_score\" sebagai acuan untuk analisa lanjutan."
      ]
    },
    {
      "cell_type": "code",
      "execution_count": null,
      "id": "f69369c8-31a5-4857-8c07-a2c2382047e1",
      "metadata": {
        "id": "f69369c8-31a5-4857-8c07-a2c2382047e1"
      },
      "outputs": [],
      "source": [
        "review_df = review_df.drop(columns=['review_comment_message'])"
      ]
    },
    {
      "cell_type": "markdown",
      "id": "bbb400fa-8307-4555-a80c-5d85e509df48",
      "metadata": {
        "id": "bbb400fa-8307-4555-a80c-5d85e509df48"
      },
      "source": [
        "Jika proses pembersihan missing value pada kedua kolom tersebut berhasil, maka akan memperoleh hasil seperti berikut."
      ]
    },
    {
      "cell_type": "code",
      "execution_count": null,
      "id": "cd275843-62da-4061-87b1-f247230a5e5d",
      "metadata": {
        "id": "cd275843-62da-4061-87b1-f247230a5e5d"
      },
      "outputs": [],
      "source": [
        "review_df.isna().sum()"
      ]
    },
    {
      "cell_type": "markdown",
      "id": "2c87d72c-cfa5-4f14-a224-1930f1a8cdac",
      "metadata": {
        "id": "2c87d72c-cfa5-4f14-a224-1930f1a8cdac"
      },
      "source": [
        "**5. Membersihkan data produk_df**"
      ]
    },
    {
      "cell_type": "markdown",
      "id": "bf93ad3f-07a9-48e9-8b71-6bc2cc8645ce",
      "metadata": {
        "id": "bf93ad3f-07a9-48e9-8b71-6bc2cc8645ce"
      },
      "source": [
        "Berdasarkan hasil proses assessing data, diketahui bahwa hanya terdapat satu masalah yang dijumpai dalam produk_df, yaitu missing value."
      ]
    },
    {
      "cell_type": "markdown",
      "id": "02e37efe-0b6d-4da7-9268-b5f8c089742f",
      "metadata": {
        "id": "02e37efe-0b6d-4da7-9268-b5f8c089742f"
      },
      "source": [
        "**5.1. Menangani missing value pada kolom\"product_category_name\"**"
      ]
    },
    {
      "cell_type": "code",
      "execution_count": null,
      "id": "7d88fd79-27f7-42a7-a8d4-8532aaf93e9f",
      "metadata": {
        "id": "7d88fd79-27f7-42a7-a8d4-8532aaf93e9f"
      },
      "outputs": [],
      "source": [
        "produk_df[produk_df.product_category_name.isna()].head()"
      ]
    },
    {
      "cell_type": "markdown",
      "id": "1adaa944-6658-48b3-bcf2-f0909708c4cf",
      "metadata": {
        "id": "1adaa944-6658-48b3-bcf2-f0909708c4cf"
      },
      "source": [
        "Dikarenakan kolom \"\"product_category_name\" merupakan kolom kategorik, dapat **menggunakan nilai yang dominan sebagai pengganti missing value tersebut**."
      ]
    },
    {
      "cell_type": "code",
      "execution_count": null,
      "id": "a7dcc964-4c7e-47a6-9eca-7b8181384385",
      "metadata": {
        "id": "a7dcc964-4c7e-47a6-9eca-7b8181384385"
      },
      "outputs": [],
      "source": [
        "produk_df.product_category_name.value_counts().head()"
      ]
    },
    {
      "cell_type": "markdown",
      "id": "89d91ff0-9473-40bb-a1e2-0500a497bdaf",
      "metadata": {
        "id": "89d91ff0-9473-40bb-a1e2-0500a497bdaf"
      },
      "source": [
        "**Insight :**\n",
        "\n",
        "Berdasarkan hasil di atas, dapat diketahui bahwa **nilai yang paling dominan dalam kolom \"product_category_name\" adalah “cama_mesa_banho”**. Nilai inilah yang selanjutnya akan kita gunakan sebagai pengganti missing value."
      ]
    },
    {
      "cell_type": "code",
      "execution_count": null,
      "id": "595b6609-2125-4dc5-acff-4ab093708b67",
      "metadata": {
        "id": "595b6609-2125-4dc5-acff-4ab093708b67"
      },
      "outputs": [],
      "source": [
        "produk_df['product_category_name'] = produk_df['product_category_name'].fillna('cama_mesa_banho')"
      ]
    },
    {
      "cell_type": "markdown",
      "id": "b25ce722-e47d-4695-838c-29af5a8c16e5",
      "metadata": {
        "id": "b25ce722-e47d-4695-838c-29af5a8c16e5"
      },
      "source": [
        "Jika proses pembersihan missing value pada kolom tersebut berhasil, maka akan memperoleh hasil seperti berikut."
      ]
    },
    {
      "cell_type": "code",
      "execution_count": null,
      "id": "1799ffcd-078d-40ba-9d64-8959515a045a",
      "metadata": {
        "id": "1799ffcd-078d-40ba-9d64-8959515a045a"
      },
      "outputs": [],
      "source": [
        "produk_df.isna().sum()"
      ]
    },
    {
      "cell_type": "markdown",
      "id": "ea45f47f-15fd-4b0e-9f47-9cb22b64493d",
      "metadata": {
        "id": "ea45f47f-15fd-4b0e-9f47-9cb22b64493d"
      },
      "source": [
        "**5.2. Menangani missing value pada kolom\"product_name_lenght\" dan \"product_description_lenght\"**"
      ]
    },
    {
      "cell_type": "markdown",
      "id": "0bb425bb-ccaf-439b-a518-a2a93ff11f69",
      "metadata": {
        "id": "0bb425bb-ccaf-439b-a518-a2a93ff11f69"
      },
      "source": [
        "**Insight :**\n",
        "\n",
        "Untuk kedua kolom ini, kita dapat menggunakan metode **dropping** dengan pertimbangan :\n",
        "1. Kolom \"product_name_lenght\" mengacu pada panjang nama produk. Ini biasanya diukur dalam jumlah karakter yang digunakan untuk nama produk tersebut. Misalnya, jika nama produk adalah \"Laptop Dell Inspiron 15\", panjang nama produk tersebut adalah 23 karakter. hal ini tidak terlalu penting untuk analisa.\n",
        "2. Hal tersebut berlaku juga untuk kolom \"product_description_lenght\""
      ]
    },
    {
      "cell_type": "code",
      "execution_count": null,
      "id": "d645107a-6dc2-4d66-b164-03ff4322a80f",
      "metadata": {
        "id": "d645107a-6dc2-4d66-b164-03ff4322a80f"
      },
      "outputs": [],
      "source": [
        "produk_df = produk_df.drop(columns=['product_name_lenght', 'product_description_lenght'])"
      ]
    },
    {
      "cell_type": "markdown",
      "id": "bf7f9d5d-c73f-4b5a-9717-0e54cf290e3a",
      "metadata": {
        "id": "bf7f9d5d-c73f-4b5a-9717-0e54cf290e3a"
      },
      "source": [
        "Jika proses pembersihan missing value pada kedua kolom tersebut berhasil, maka akan memperoleh hasil seperti berikut."
      ]
    },
    {
      "cell_type": "code",
      "execution_count": null,
      "id": "7d449cc3-bf89-45d2-817c-f7cfdfccfe85",
      "metadata": {
        "id": "7d449cc3-bf89-45d2-817c-f7cfdfccfe85"
      },
      "outputs": [],
      "source": [
        "produk_df.isna().sum()"
      ]
    },
    {
      "cell_type": "markdown",
      "id": "94242f5f-64d5-4f1b-8c3e-26720b2575ec",
      "metadata": {
        "id": "94242f5f-64d5-4f1b-8c3e-26720b2575ec"
      },
      "source": [
        "**5.3. Menangani missing value pada kolom\"product_photos_qty\"**"
      ]
    },
    {
      "cell_type": "code",
      "execution_count": null,
      "id": "109fff8e-6d02-49e7-9971-7c3d66d89362",
      "metadata": {
        "id": "109fff8e-6d02-49e7-9971-7c3d66d89362"
      },
      "outputs": [],
      "source": [
        "produk_df[produk_df.product_photos_qty.isna()].head()"
      ]
    },
    {
      "cell_type": "markdown",
      "id": "65553c17-b00a-4ed6-8e9d-377f1041d095",
      "metadata": {
        "id": "65553c17-b00a-4ed6-8e9d-377f1041d095"
      },
      "source": [
        "**Insight :**\n",
        "\n",
        "Untuk mengatasi missing value pada kolom berikut, dapat menggunakan 2 cara :\n",
        "1. dropping, dikarenakan kolom ini mengacu pada jumlah foto pada produk dimana data ini tidak terlalu berpengaruh dalam analisa.\n",
        "2. diganti dengan nilai yang dominan, dikarenakan nilai yang terdapat pada kolom nya tidak terlalu variatif sehingga tidak terlalu sulit untuk menentukan pengganti value nya."
      ]
    },
    {
      "cell_type": "code",
      "execution_count": null,
      "id": "43629bcb-bbb0-401d-9737-43a58aac3704",
      "metadata": {
        "id": "43629bcb-bbb0-401d-9737-43a58aac3704"
      },
      "outputs": [],
      "source": [
        "produk_df.product_photos_qty.value_counts().head()"
      ]
    },
    {
      "cell_type": "markdown",
      "id": "8f1022c4-add4-48ba-a66a-c18d2b80be14",
      "metadata": {
        "id": "8f1022c4-add4-48ba-a66a-c18d2b80be14"
      },
      "source": [
        "untuk kebutuhkan analisa saat ini, maka kolom \"product_photos_qty\" dihapuskan."
      ]
    },
    {
      "cell_type": "code",
      "execution_count": null,
      "id": "480552c3-5037-42c9-95aa-06e2854fa1aa",
      "metadata": {
        "id": "480552c3-5037-42c9-95aa-06e2854fa1aa"
      },
      "outputs": [],
      "source": [
        "produk_df = produk_df.drop(columns=['product_photos_qty'])"
      ]
    },
    {
      "cell_type": "markdown",
      "id": "9a35bc0f-da4e-4c5c-9eda-1d092bce9841",
      "metadata": {
        "id": "9a35bc0f-da4e-4c5c-9eda-1d092bce9841"
      },
      "source": [
        "Jika proses pembersihan missing value pada kolom tersebut berhasil, maka akan memperoleh hasil seperti berikut."
      ]
    },
    {
      "cell_type": "code",
      "execution_count": null,
      "id": "387058a1-fb44-4a76-9557-800367a61d19",
      "metadata": {
        "id": "387058a1-fb44-4a76-9557-800367a61d19"
      },
      "outputs": [],
      "source": [
        "produk_df.isna().sum()"
      ]
    },
    {
      "cell_type": "markdown",
      "id": "4d51cbe5-7ee1-47dd-afce-b58e60bbc8e6",
      "metadata": {
        "id": "4d51cbe5-7ee1-47dd-afce-b58e60bbc8e6"
      },
      "source": [
        "**5.4. Menangani missing value pada kolom\"product_weight_g\", \"product_length_cm\", \"product_height_cm\", dan \"product_width_cm\"**"
      ]
    },
    {
      "cell_type": "markdown",
      "id": "45dc5621-1d1c-4732-848f-6465bec0d042",
      "metadata": {
        "id": "45dc5621-1d1c-4732-848f-6465bec0d042"
      },
      "source": [
        "Untuk menangani missing value pada keempat kolom ini, dapat dilakukan filter terlebih dahulu pada masing-masing kolom"
      ]
    },
    {
      "cell_type": "code",
      "execution_count": null,
      "id": "731610aa-27d1-449c-a2ef-b50eecfd48b1",
      "metadata": {
        "id": "731610aa-27d1-449c-a2ef-b50eecfd48b1"
      },
      "outputs": [],
      "source": [
        "produk_df[produk_df.product_weight_g.isna()]"
      ]
    },
    {
      "cell_type": "code",
      "execution_count": null,
      "id": "3cbd85b6-4a9d-49f2-b83c-89d3334bea69",
      "metadata": {
        "id": "3cbd85b6-4a9d-49f2-b83c-89d3334bea69"
      },
      "outputs": [],
      "source": [
        "produk_df[produk_df.product_length_cm.isna()]"
      ]
    },
    {
      "cell_type": "code",
      "execution_count": null,
      "id": "83ebdddf-f833-4a85-a4c7-d10ed0d5ec52",
      "metadata": {
        "id": "83ebdddf-f833-4a85-a4c7-d10ed0d5ec52"
      },
      "outputs": [],
      "source": [
        "produk_df[produk_df.product_height_cm.isna()]"
      ]
    },
    {
      "cell_type": "code",
      "execution_count": null,
      "id": "af6a27d9-eb54-4e95-86f8-923565653139",
      "metadata": {
        "id": "af6a27d9-eb54-4e95-86f8-923565653139"
      },
      "outputs": [],
      "source": [
        "produk_df[produk_df.product_width_cm.isna()]"
      ]
    },
    {
      "cell_type": "markdown",
      "id": "58b6ea7e-0f86-4073-84c7-05c07128d19d",
      "metadata": {
        "id": "58b6ea7e-0f86-4073-84c7-05c07128d19d"
      },
      "source": [
        "**Insight :**\n",
        "\n",
        "dari semua hasil filtering diatas, **4 kolom yang memiliki missing value ternyata berada di baris yang sama**. untuk menangani nya kita bisa lakukan pengecekan lebih lanjut untuk memastikan metode yang akan kita gunakan nantinya."
      ]
    },
    {
      "cell_type": "markdown",
      "id": "a57c1a7f-9978-4386-b389-60e4bab2cbd6",
      "metadata": {
        "id": "a57c1a7f-9978-4386-b389-60e4bab2cbd6"
      },
      "source": [
        "**5.4.1. Pengecekan menggunakanlah method value_counts()untuk mengidentifikasi nilai yang dominan.**"
      ]
    },
    {
      "cell_type": "code",
      "execution_count": null,
      "id": "5e73d3a3-9d56-4e4e-87d9-318dd154a675",
      "metadata": {
        "id": "5e73d3a3-9d56-4e4e-87d9-318dd154a675"
      },
      "outputs": [],
      "source": [
        "produk_df.product_weight_g.value_counts()"
      ]
    },
    {
      "cell_type": "code",
      "execution_count": null,
      "id": "b6c7c75d-7131-4edd-b06c-80bf0d7f229f",
      "metadata": {
        "id": "b6c7c75d-7131-4edd-b06c-80bf0d7f229f"
      },
      "outputs": [],
      "source": [
        "produk_df.product_length_cm.value_counts()"
      ]
    },
    {
      "cell_type": "code",
      "execution_count": null,
      "id": "cabaf31f-af0a-4e54-88a8-04a05d707799",
      "metadata": {
        "id": "cabaf31f-af0a-4e54-88a8-04a05d707799"
      },
      "outputs": [],
      "source": [
        "produk_df.product_height_cm.value_counts()"
      ]
    },
    {
      "cell_type": "code",
      "execution_count": null,
      "id": "02e52759-2665-403f-93d2-c23e837e929f",
      "metadata": {
        "id": "02e52759-2665-403f-93d2-c23e837e929f"
      },
      "outputs": [],
      "source": [
        "produk_df.product_width_cm.value_counts()"
      ]
    },
    {
      "cell_type": "markdown",
      "id": "363a66b3-7f02-4410-b7a2-4923d966fe49",
      "metadata": {
        "id": "363a66b3-7f02-4410-b7a2-4923d966fe49"
      },
      "source": [
        "**Insight :**\n",
        "\n",
        "dari keempat hasil di atas, didapat kesimpulan :\n",
        "1. ternyata masing-masing kolom memiliki value yang sangat variatif, sehingga belum bisa menentukan metode apa untuk mengatasi missing value.\n",
        "2. untuk lebih memastikan lagi kita bisa memfilter berdasarkan kolom \"product_category_name\" (mengingat dari hasil filtering sebelumnya, terdapat 2 kategori produk) untuk mengetahui apakah ada pengaruhnya untuk menentukan metode yang akan digunakan untuk mengisi missing value pada keempat kolom tersebut."
      ]
    },
    {
      "cell_type": "markdown",
      "id": "6703771b-3c09-4934-8093-2d65bae29f1a",
      "metadata": {
        "id": "6703771b-3c09-4934-8093-2d65bae29f1a"
      },
      "source": [
        "**5.4.2. Pengecekan dengan memfilter berdasarkan kolom \"product_category_name**"
      ]
    },
    {
      "cell_type": "code",
      "execution_count": null,
      "id": "5f629c47-10c4-481b-9ca3-6aa3c75bec25",
      "metadata": {
        "id": "5f629c47-10c4-481b-9ca3-6aa3c75bec25"
      },
      "outputs": [],
      "source": [
        "produk_bebes_df = produk_df[produk_df['product_category_name'] == 'bebes']\n",
        "produk_bebes_df.head()"
      ]
    },
    {
      "cell_type": "code",
      "execution_count": null,
      "id": "e6bad3b4-fe53-44cb-829b-63aaa6fe848c",
      "metadata": {
        "id": "e6bad3b4-fe53-44cb-829b-63aaa6fe848c"
      },
      "outputs": [],
      "source": [
        "produk_cama_mesa_banho_df = produk_df[produk_df['product_category_name'] == 'cama_mesa_banho']\n",
        "produk_cama_mesa_banho_df.head()"
      ]
    },
    {
      "cell_type": "markdown",
      "id": "2878dee4-c452-43a6-9cf8-17abb35f8882",
      "metadata": {
        "id": "2878dee4-c452-43a6-9cf8-17abb35f8882"
      },
      "source": [
        "**Insight :**\n",
        "\n",
        "dari kedua filter di atas, didapat kesimpulan :\n",
        "1. ternyata hasil yang didapat dari dua pengecekan pada keempat kolom yang dimaksud memiliki value yang sangat variatif.\n",
        "2. setelah benar-benar dipastikan, maka untuk menangani missing value pada keempat kolom bisa menggunakan metode **imputation** (Mengisi missing value dengan nilai tertentu, seperti mean, median, modus, atau nilai tetap lainnya)."
      ]
    },
    {
      "cell_type": "code",
      "execution_count": null,
      "id": "1a6a7dd2-b392-420d-ada2-98ca534a9aff",
      "metadata": {
        "id": "1a6a7dd2-b392-420d-ada2-98ca534a9aff"
      },
      "outputs": [],
      "source": [
        "mean_weight = produk_df['product_weight_g'].mean()\n",
        "mean_length = produk_df['product_length_cm'].mean()\n",
        "mean_height = produk_df['product_height_cm'].mean()\n",
        "mean_width = produk_df['product_width_cm'].mean()\n",
        "\n",
        "# Mengganti missing value pada kolom-kolom tersebut dengan nilai rata-rata\n",
        "produk_df['product_weight_g'] = produk_df['product_weight_g'].fillna(mean_weight)\n",
        "produk_df['product_length_cm'] = produk_df['product_length_cm'].fillna(mean_length)\n",
        "produk_df['product_height_cm'] = produk_df['product_height_cm'].fillna(mean_height)\n",
        "produk_df['product_width_cm'] = produk_df['product_width_cm'].fillna(mean_width)"
      ]
    },
    {
      "cell_type": "markdown",
      "id": "bcc7c897-5139-4e24-b45d-6a1e9ca732bf",
      "metadata": {
        "id": "bcc7c897-5139-4e24-b45d-6a1e9ca732bf"
      },
      "source": [
        "Jika proses pembersihan missing value pada keempat kolom tersebut berhasil, maka akan memperoleh hasil seperti berikut."
      ]
    },
    {
      "cell_type": "code",
      "execution_count": null,
      "id": "d529b3a6-eb42-4e5c-9c63-52db723c38d0",
      "metadata": {
        "id": "d529b3a6-eb42-4e5c-9c63-52db723c38d0"
      },
      "outputs": [],
      "source": [
        "produk_df.isna().sum()"
      ]
    },
    {
      "cell_type": "markdown",
      "id": "3af84d9f-d9e4-4b46-ab3d-4720fbde63d2",
      "metadata": {
        "id": "3af84d9f-d9e4-4b46-ab3d-4720fbde63d2"
      },
      "source": [
        "### Exploratory Data Analysis (EDA)"
      ]
    },
    {
      "cell_type": "markdown",
      "id": "1a553feb-729c-41c9-8bc7-dc179ca51ddd",
      "metadata": {
        "id": "1a553feb-729c-41c9-8bc7-dc179ca51ddd"
      },
      "source": [
        "**Eksplorasi Data customer_df**"
      ]
    },
    {
      "cell_type": "code",
      "execution_count": null,
      "id": "f0a9f752-23ab-473b-8156-912eb7b3d8c0",
      "metadata": {
        "id": "f0a9f752-23ab-473b-8156-912eb7b3d8c0"
      },
      "outputs": [],
      "source": [
        "customer_df.describe(include=\"all\")"
      ]
    },
    {
      "cell_type": "markdown",
      "id": "3cd38457-0ff4-43ce-8a23-55a462c4e7bc",
      "metadata": {
        "id": "3cd38457-0ff4-43ce-8a23-55a462c4e7bc"
      },
      "source": [
        "**Insight :**\n",
        "\n",
        "1. Dataset ini memiliki total 99,441 pelanggan unik.\n",
        "2. Pelanggan tersebar di berbagai kota dan negara bagian. Kolom customer_city dan customer_state memberikan informasi tentang lokasi geografis pelanggan.\n",
        "3. Kolom customer_zip_code_prefix menunjukkan kode pos pelanggan, yang bisa digunakan untuk analisis lebih lanjut tentang distribusi geografis dan logistik pengiriman.\n",
        "4. Kolom customer_unique_id menunjukkan bahwa setiap pelanggan memiliki ID unik, yang bisa digunakan untuk melacak pembelian berulang dan analisis loyalitas pelanggan."
      ]
    },
    {
      "cell_type": "markdown",
      "id": "3fbaeae1-c86f-412e-b102-8e7669201ff9",
      "metadata": {
        "id": "3fbaeae1-c86f-412e-b102-8e7669201ff9"
      },
      "source": [
        "**Berikut informasi yang bisa didapat dari data di atas :**"
      ]
    },
    {
      "cell_type": "markdown",
      "id": "1ab34060-c274-4d3c-9ffc-8543aa07d5ca",
      "metadata": {
        "id": "1ab34060-c274-4d3c-9ffc-8543aa07d5ca"
      },
      "source": [
        "- **Kota dengan jumlah customer terbanyak**"
      ]
    },
    {
      "cell_type": "code",
      "execution_count": null,
      "id": "6b757ee7-902f-4019-930b-8e719f1a80f6",
      "metadata": {
        "id": "6b757ee7-902f-4019-930b-8e719f1a80f6"
      },
      "outputs": [],
      "source": [
        "customer_df.groupby(by=\"customer_city\").customer_id.nunique().sort_values(ascending=False).reset_index().head()"
      ]
    },
    {
      "cell_type": "markdown",
      "id": "a2eeee54-3f48-4cf3-87b1-e74b74ce3347",
      "metadata": {
        "id": "a2eeee54-3f48-4cf3-87b1-e74b74ce3347"
      },
      "source": [
        "**Insight :**\n",
        "\n",
        "1. Pelanggan yang dimiliki terbanyak berasal dari kota sao paulo. Ini menunjukkan kota tersebut memiliki basis pelanggan yang besar dan potensial untuk pemasaran lebih lanjut.\n",
        "2. Kota-kota dengan jumlah pelanggan yang tinggi menunjukkan potensi pasar yang besar. Ini bisa menjadi fokus untuk ekspansi bisnis dan peningkatan layanan."
      ]
    },
    {
      "cell_type": "markdown",
      "id": "35e6fdbe-33ff-4639-9901-0883e31df67a",
      "metadata": {
        "id": "35e6fdbe-33ff-4639-9901-0883e31df67a"
      },
      "source": [
        "- **Negara dengan jumlah customer terbanyak**"
      ]
    },
    {
      "cell_type": "code",
      "execution_count": null,
      "id": "081652c9-ab38-4bba-9ada-cfa139c5fc1f",
      "metadata": {
        "id": "081652c9-ab38-4bba-9ada-cfa139c5fc1f"
      },
      "outputs": [],
      "source": [
        "customer_df.groupby(by=\"customer_state\").customer_id.nunique().sort_values(ascending=False).reset_index().head()"
      ]
    },
    {
      "cell_type": "markdown",
      "id": "b67105c7-e502-4d70-830d-ac66da5ebd37",
      "metadata": {
        "id": "b67105c7-e502-4d70-830d-ac66da5ebd37"
      },
      "source": [
        "**Insight :**\n",
        "\n",
        "1. Negara dengan jumlah pelanggan terbanyak berada di negara SP. Ini menunjukkan kota tersebut memiliki basis pelanggan yang besar dan potensial untuk pemasaran lebih lanjut.\n",
        "2. Negara dengan jumlah pelanggan yang tinggi menunjukkan potensi pasar yang besar. Ini bisa menjadi fokus untuk ekspansi bisnis dan peningkatan layanan."
      ]
    },
    {
      "cell_type": "markdown",
      "id": "417e8066-caea-4c80-b3cb-3b4297705910",
      "metadata": {
        "id": "417e8066-caea-4c80-b3cb-3b4297705910"
      },
      "source": [
        "**Eksplorasi Data geolokasi_df**"
      ]
    },
    {
      "cell_type": "code",
      "execution_count": null,
      "id": "1d53088a-8b85-44ec-a3b5-962bc715f5c3",
      "metadata": {
        "id": "1d53088a-8b85-44ec-a3b5-962bc715f5c3"
      },
      "outputs": [],
      "source": [
        "geolokasi_df.describe(include=\"all\")"
      ]
    },
    {
      "cell_type": "markdown",
      "id": "65381b42-b3a7-448e-b6db-d575fda00653",
      "metadata": {
        "id": "65381b42-b3a7-448e-b6db-d575fda00653"
      },
      "source": [
        "**Insight :**\n",
        "\n",
        "1. Kolom geolocation_zip_code_prefix menunjukkan distribusi kode pos yang luas, dengan nilai minimum 1001 dan maksimum 99990.\n",
        "2. Kolom geolocation_lat dan geolocation_lng memberikan informasi tentang koordinat geografis (latitude dan longitude) dari setiap kode pos. Nilai latitude berkisar dari -36.60537 hingga 45.06593, sedangkan nilai longitude berkisar dari -101.4668 hingga 121.1054.\n",
        "3. Kolom geolocation_city dan geolocation_state memberikan informasi tentang kota dan negara bagian yang terkait dengan setiap kode pos."
      ]
    },
    {
      "cell_type": "markdown",
      "id": "1b9e84c5-b2a3-4b22-aafd-84a56eeac26e",
      "metadata": {
        "id": "1b9e84c5-b2a3-4b22-aafd-84a56eeac26e"
      },
      "source": [
        "**Berikut informasi yang bisa didapat dari data di atas :**"
      ]
    },
    {
      "cell_type": "markdown",
      "id": "5e975342-1575-43a1-ba30-a714be74520c",
      "metadata": {
        "id": "5e975342-1575-43a1-ba30-a714be74520c"
      },
      "source": [
        "- **Kota dengan jumlah kode pos terbanyak**"
      ]
    },
    {
      "cell_type": "code",
      "execution_count": null,
      "id": "9f2aa45f-d718-426a-863d-19a157483baa",
      "metadata": {
        "id": "9f2aa45f-d718-426a-863d-19a157483baa"
      },
      "outputs": [],
      "source": [
        "geolokasi_df.groupby(by=\"geolocation_city\").geolocation_zip_code_prefix.nunique().sort_values(ascending=False).reset_index().head()"
      ]
    },
    {
      "cell_type": "markdown",
      "id": "916e9aad-5b8a-4614-b94f-9db4194e3fca",
      "metadata": {
        "id": "916e9aad-5b8a-4614-b94f-9db4194e3fca"
      },
      "source": [
        "**Insight :**\n",
        "\n",
        "1. Kota dengan jumlah kode pos unik terbanyak berada di sao paulo. Ini menunjukkan kota tersebut memiliki distribusi geografis yang luas dan beragam.\n",
        "2. Kota dengan jumlah kode pos yang tinggi menunjukkan potensi pasar yang besar."
      ]
    },
    {
      "cell_type": "markdown",
      "id": "6df70e58-9346-4c06-bcaf-8a66f248556d",
      "metadata": {
        "id": "6df70e58-9346-4c06-bcaf-8a66f248556d"
      },
      "source": [
        "- **Negara dengan jumlah kode pos terbanyak**"
      ]
    },
    {
      "cell_type": "code",
      "execution_count": null,
      "id": "b698e34d-c860-4a75-a9fb-978914d97c43",
      "metadata": {
        "id": "b698e34d-c860-4a75-a9fb-978914d97c43"
      },
      "outputs": [],
      "source": [
        "geolokasi_df.groupby(by=\"geolocation_state\").geolocation_zip_code_prefix.nunique().sort_values(ascending=False).reset_index().head()"
      ]
    },
    {
      "cell_type": "markdown",
      "id": "9f4da6d0-a236-4d57-8369-6b632ae2d791",
      "metadata": {
        "id": "9f4da6d0-a236-4d57-8369-6b632ae2d791"
      },
      "source": [
        "**Insight :**\n",
        "\n",
        "1. Negara dengan jumlah kode pos unik terbanyak berada di SP. Ini menunjukkan kota tersebut memiliki distribusi geografis yang luas dan beragam.\n",
        "2. Negara dengan jumlah kode pos yang banyak menunjukkan potensi pasar yang besar."
      ]
    },
    {
      "cell_type": "markdown",
      "id": "8eb4cfdd-f37e-485a-a6f3-8467383f9403",
      "metadata": {
        "id": "8eb4cfdd-f37e-485a-a6f3-8467383f9403"
      },
      "source": [
        "**Eksplorasi Data seller_df**"
      ]
    },
    {
      "cell_type": "code",
      "execution_count": null,
      "id": "3b9a759c-2aae-4aa0-8ded-e208c556f8e6",
      "metadata": {
        "id": "3b9a759c-2aae-4aa0-8ded-e208c556f8e6"
      },
      "outputs": [],
      "source": [
        "seller_df.describe(include=\"all\")"
      ]
    },
    {
      "cell_type": "markdown",
      "id": "9a570df5-d1f8-4521-a528-d82d8c79a614",
      "metadata": {
        "id": "9a570df5-d1f8-4521-a528-d82d8c79a614"
      },
      "source": [
        "**Insight :**\n",
        "\n",
        "1. Dataset ini memiliki total 3,095 penjual.\n",
        "2. Kolom seller_zip_code_prefix menunjukkan distribusi kode pos yang luas, dengan nilai minimum 1001 dan maksimum 99730.\n",
        "3. Kolom seller_city dan seller_state memberikan informasi tentang kota dan negara bagian yang terkait dengan setiap penjual."
      ]
    },
    {
      "cell_type": "markdown",
      "id": "db36edbc-97e5-4c8d-b277-61d007e53937",
      "metadata": {
        "id": "db36edbc-97e5-4c8d-b277-61d007e53937"
      },
      "source": [
        "**Berikut informasi yang bisa didapat dari data di atas :**"
      ]
    },
    {
      "cell_type": "markdown",
      "id": "202128d5-4a4d-4ba4-bb5a-aebd45c3e64c",
      "metadata": {
        "id": "202128d5-4a4d-4ba4-bb5a-aebd45c3e64c"
      },
      "source": [
        "- **Kota dengan jumlah penjual terbanyak**"
      ]
    },
    {
      "cell_type": "code",
      "execution_count": null,
      "id": "b29f8bc5-5ebd-4e14-9a9a-83a4952591fb",
      "metadata": {
        "id": "b29f8bc5-5ebd-4e14-9a9a-83a4952591fb"
      },
      "outputs": [],
      "source": [
        "seller_df.groupby(by=\"seller_city\").seller_id.nunique().sort_values(ascending=False).reset_index().head()"
      ]
    },
    {
      "cell_type": "markdown",
      "id": "e55233a9-3b20-419d-98c2-05ecf2435c1d",
      "metadata": {
        "id": "e55233a9-3b20-419d-98c2-05ecf2435c1d"
      },
      "source": [
        "**Insight :**\n",
        "\n",
        "1. Kota dengan jumlah penjual terbanyak berada di sao paulo. Ini menunjukkan kota tersebut memiliki basis penjual yang besar dan beragam.\n",
        "2. Kota-kota dengan jumlah penjual yang tinggi menunjukkan potensi pasar yang besar."
      ]
    },
    {
      "cell_type": "markdown",
      "id": "18b15582-f682-495c-8906-49e4fa715ca2",
      "metadata": {
        "id": "18b15582-f682-495c-8906-49e4fa715ca2"
      },
      "source": [
        "- **Negara dengan jumlah penjual terbanyak**"
      ]
    },
    {
      "cell_type": "code",
      "execution_count": null,
      "id": "c9774687-7996-4622-8035-9481d3d2c0b3",
      "metadata": {
        "id": "c9774687-7996-4622-8035-9481d3d2c0b3"
      },
      "outputs": [],
      "source": [
        "seller_df.groupby(by=\"seller_state\").seller_id.nunique().sort_values(ascending=False).reset_index().head()"
      ]
    },
    {
      "cell_type": "markdown",
      "id": "f16b9ce0-1723-4a88-9312-7b11bc112576",
      "metadata": {
        "id": "f16b9ce0-1723-4a88-9312-7b11bc112576"
      },
      "source": [
        "**Insight :**\n",
        "\n",
        "1. Negara dengan jumlah penjual terbanyak berada di SP. Ini menunjukkan negara tersebut memiliki basis penjual yang besar dan beragam.\n",
        "2. Negara dengan jumlah penjual yang tinggi menunjukkan potensi pasar yang besar."
      ]
    },
    {
      "cell_type": "markdown",
      "id": "2e7be430-56a5-435e-bf2f-1b6ecfca0d7e",
      "metadata": {
        "id": "2e7be430-56a5-435e-bf2f-1b6ecfca0d7e"
      },
      "source": [
        "**Eksplorasi Data produk_df**"
      ]
    },
    {
      "cell_type": "code",
      "execution_count": null,
      "id": "9a8a0711-238a-499a-a7ac-3ec077e91713",
      "metadata": {
        "id": "9a8a0711-238a-499a-a7ac-3ec077e91713"
      },
      "outputs": [],
      "source": [
        "produk_df.describe(include=\"all\")"
      ]
    },
    {
      "cell_type": "markdown",
      "id": "7a3eec5d-9700-4e8b-b524-3d7d35fa7d04",
      "metadata": {
        "id": "7a3eec5d-9700-4e8b-b524-3d7d35fa7d04"
      },
      "source": [
        "**Insight :**\n",
        "\n",
        "1. Dataset ini memiliki total 32,951 produk unik.\n",
        "2. Kolom product_weight_g menunjukkan berat produk yang bervariasi, dengan rata-rata sekitar 2,276 gram. Berat produk teringan adalah 0 gram, sedangkan yang terberat adalah 40,425 gram.\n",
        "3. Kolom product_length_cm, product_height_cm, dan product_width_cm menunjukkan dimensi produk yang bervariasi. Rata-rata panjang produk adalah sekitar 30 cm, tinggi produk sekitar 17 cm, dan lebar produk sekitar 23 cm."
      ]
    },
    {
      "cell_type": "markdown",
      "id": "03c5335e-f962-4136-888c-fcd484d0e9d5",
      "metadata": {
        "id": "03c5335e-f962-4136-888c-fcd484d0e9d5"
      },
      "source": [
        "**Eksplorasi Data kategori_produk_df**"
      ]
    },
    {
      "cell_type": "code",
      "execution_count": null,
      "id": "edc94e21-300d-41cb-bf8b-f44010a9afb2",
      "metadata": {
        "id": "edc94e21-300d-41cb-bf8b-f44010a9afb2"
      },
      "outputs": [],
      "source": [
        "kategori_produk_df.describe(include=\"all\")"
      ]
    },
    {
      "cell_type": "markdown",
      "id": "3fe5e4f2-587d-4312-8bab-983e5b76c99e",
      "metadata": {
        "id": "3fe5e4f2-587d-4312-8bab-983e5b76c99e"
      },
      "source": [
        "**Insight :**\n",
        "\n",
        "1. Dataset ini memiliki total 71 kategori produk unik\n",
        "2. Kolom product_category_name dan product_category_name_english menunjukkan bahwa setiap kategori produk memiliki nama dalam bahasa asli dan terjemahannya dalam bahasa Inggris. Ini memudahkan analisis lebih lanjut dan pemahaman tentang kategori produk yang berbeda.\n",
        "3. Kategori produk yang paling sering muncul adalah beleza_saude (health_beauty), yang menunjukkan bahwa produk kecantikan dan kesehatan mungkin menjadi salah satu kategori yang paling populer di dataset ini."
      ]
    },
    {
      "cell_type": "markdown",
      "id": "5e21d13b-2fb5-4d5c-8dc7-71fb19d7b9de",
      "metadata": {
        "id": "5e21d13b-2fb5-4d5c-8dc7-71fb19d7b9de"
      },
      "source": [
        "**Menggabungkan Dataset produk_df dan kategori_produk_df**"
      ]
    },
    {
      "cell_type": "markdown",
      "id": "dfcfe77d-a199-4121-b80d-c94a49883f91",
      "metadata": {
        "id": "dfcfe77d-a199-4121-b80d-c94a49883f91"
      },
      "source": [
        "Jika diperhatikan, antara dataset produk_df dan kategori_produk_df memiliki hubungan. kedua dataset ini dapat digabungkan berdasarkan kolom yang sama yaitu \"product_category_name\". Dengan menggabungkan kedua dataset ini, maka bisa menambahkan informasi tambahan dari kategori_produk_df ke produk_df, seperti nama kategori produk dalam bahasa Inggris."
      ]
    },
    {
      "cell_type": "code",
      "execution_count": null,
      "id": "72a9083a-d8f3-44a3-8497-b4dff12a5717",
      "metadata": {
        "id": "72a9083a-d8f3-44a3-8497-b4dff12a5717"
      },
      "outputs": [],
      "source": [
        "produk_baru_df = pd.merge(produk_df, kategori_produk_df, on='product_category_name')"
      ]
    },
    {
      "cell_type": "markdown",
      "id": "38936325-6ae2-4fa5-b29d-64abdd61d751",
      "metadata": {
        "id": "38936325-6ae2-4fa5-b29d-64abdd61d751"
      },
      "source": [
        "rangkuman parameter statistik dari produk_baru_df :"
      ]
    },
    {
      "cell_type": "code",
      "execution_count": null,
      "id": "2e6b845d-fc31-4c78-b9cd-83b331f9c463",
      "metadata": {
        "id": "2e6b845d-fc31-4c78-b9cd-83b331f9c463"
      },
      "outputs": [],
      "source": [
        "produk_baru_df.describe(include=\"all\")"
      ]
    },
    {
      "cell_type": "markdown",
      "id": "221d70eb-52a3-4c51-87dc-fd9fb86b5166",
      "metadata": {
        "id": "221d70eb-52a3-4c51-87dc-fd9fb86b5166"
      },
      "source": [
        "**Insight :**\n",
        "\n",
        "1. Dataset ini memiliki total 32,938 produk unik..\n",
        "2. Terdapat 71 kategori produk unik. Kategori dengan jumlah produk terbanyak adalah bed_bath_table dengan 3,639 produk.\n",
        "3. Kolom product_weight_g menunjukkan berat produk yang bervariasi, dengan rata-rata sekitar 2,276 gram. Berat produk teringan adalah 0 gram, sedangkan yang terberat adalah 40,425 gram.\n",
        "4. Kolom product_length_cm, product_height_cm, dan product_width_cm menunjukkan dimensi produk yang bervariasi. Rata-rata panjang produk adalah sekitar 30.82 cm, tinggi produk sekitar 16.93 cm, dan lebar produk sekitar 23.20 cm. Dimensi produk terpendek adalah 7 cm (panjang), 2 cm (tinggi), dan 6 cm (lebar), sedangkan dimensi produk terpanjang adalah 105 cm (panjang), 105 cm (tinggi), dan 118 cm (lebar)."
      ]
    },
    {
      "cell_type": "markdown",
      "id": "169665eb-f29a-4867-9a02-f5be68d05ff2",
      "metadata": {
        "id": "169665eb-f29a-4867-9a02-f5be68d05ff2"
      },
      "source": [
        "**Berikut informasi yang bisa didapat dari data di atas :**"
      ]
    },
    {
      "cell_type": "markdown",
      "id": "abf6791e-b6f8-468c-a903-5e39339a6d32",
      "metadata": {
        "id": "abf6791e-b6f8-468c-a903-5e39339a6d32"
      },
      "source": [
        "- **Kategori produk dengan jumlah produk terbanyak.**"
      ]
    },
    {
      "cell_type": "code",
      "execution_count": null,
      "id": "1b1d2eee-bd48-4251-ada0-f83cfdd73735",
      "metadata": {
        "id": "1b1d2eee-bd48-4251-ada0-f83cfdd73735"
      },
      "outputs": [],
      "source": [
        "produk_baru_df.groupby(by=\"product_category_name_english\").product_id.nunique().sort_values(ascending=False).reset_index().head()"
      ]
    },
    {
      "cell_type": "markdown",
      "id": "b17e265c-5b44-447f-af10-4e4f6d24f999",
      "metadata": {
        "id": "b17e265c-5b44-447f-af10-4e4f6d24f999"
      },
      "source": [
        "**Insight :**\n",
        "\n",
        "1. Kategori produk dengan jumlah produk terbanyak didonimasi oleh bed_bath_table sebanyak 3639.\n",
        "2. Kategori dengan jumlah produk yang tinggi menunjukkan potensi pasar yang besar."
      ]
    },
    {
      "cell_type": "markdown",
      "id": "798c97f5-5d87-4d66-be90-d231435c7291",
      "metadata": {
        "id": "798c97f5-5d87-4d66-be90-d231435c7291"
      },
      "source": [
        "**Eksplorasi Data order_item_df**"
      ]
    },
    {
      "cell_type": "code",
      "execution_count": null,
      "id": "6488eb8b-cbef-49d9-82fc-2a18521a74a0",
      "metadata": {
        "id": "6488eb8b-cbef-49d9-82fc-2a18521a74a0"
      },
      "outputs": [],
      "source": [
        "order_item_df.describe(include=\"all\")"
      ]
    },
    {
      "cell_type": "markdown",
      "id": "65a80683-2295-4feb-afbe-6a33351411d4",
      "metadata": {
        "id": "65a80683-2295-4feb-afbe-6a33351411d4"
      },
      "source": [
        "**Insight :**\n",
        "\n",
        "1. Dataset ini memiliki total 112,650 item pesanan unik\n",
        "2. Kolom price menunjukkan harga produk yang bervariasi, dengan rata-rata sekitar 120.65. Harga produk terendah adalah 0.85, sedangkan yang tertinggi adalah 6,735.\n",
        "3. Kolom freight_value menunjukkan biaya pengiriman yang bervariasi, dengan rata-rata sekitar 19.99. Biaya pengiriman terendah adalah 0, sedangkan yang tertinggi adalah 409.68.\n",
        "4. Kolom order_item_id menunjukkan bahwa sebagian besar pesanan hanya memiliki satu item, dengan nilai rata-rata sekitar 1.2"
      ]
    },
    {
      "cell_type": "markdown",
      "id": "f6a0187e-0873-4d9f-93b9-ce484ad660ac",
      "metadata": {
        "id": "f6a0187e-0873-4d9f-93b9-ce484ad660ac"
      },
      "source": [
        "**Eksplorasi Data orders_df**"
      ]
    },
    {
      "cell_type": "code",
      "execution_count": null,
      "id": "5b4fd471-bb2f-41af-80e9-5b512b686cfa",
      "metadata": {
        "id": "5b4fd471-bb2f-41af-80e9-5b512b686cfa"
      },
      "outputs": [],
      "source": [
        "orders_df.describe(include=\"all\")"
      ]
    },
    {
      "cell_type": "markdown",
      "id": "8e70c539-ab75-435a-a54b-e1197a61004f",
      "metadata": {
        "id": "8e70c539-ab75-435a-a54b-e1197a61004f"
      },
      "source": [
        "**Insight :**\n",
        "\n",
        "1. Dataset ini memiliki total 99,441 pesanan unik.\n",
        "2. Kolom order_status menunjukkan bahwa sebagian besar pesanan memiliki status \"delivered\", yang menunjukkan tingkat penyelesaian pesanan yang tinggi.\n",
        "3. Kolom order_purchase_timestamp menunjukkan distribusi waktu pembelian pesanan. Ini bisa digunakan untuk analisis tren pembelian berdasarkan waktu."
      ]
    },
    {
      "cell_type": "markdown",
      "id": "78159fb6-cb7e-4f53-94c5-887dfeaf8267",
      "metadata": {
        "id": "78159fb6-cb7e-4f53-94c5-887dfeaf8267"
      },
      "source": [
        "**Menggabungkan Dataset orders_df dan order_item_df**"
      ]
    },
    {
      "cell_type": "markdown",
      "id": "22598a17-d81e-4eb6-9fe3-1f3eb232dfd4",
      "metadata": {
        "id": "22598a17-d81e-4eb6-9fe3-1f3eb232dfd4"
      },
      "source": [
        "Sama seperti hal nya dataset produk_df dan kategori_produk_df, maka dataset orders_df dan order_item_df juga bisa digabungkan berdasarkan kolom yang sama yaitu \"order_id\" dan menjadi dataset baru bernama dataset \"order_baru_df\"."
      ]
    },
    {
      "cell_type": "code",
      "execution_count": null,
      "id": "2168db41-e15a-4cc8-8e9e-2301884e1a9f",
      "metadata": {
        "id": "2168db41-e15a-4cc8-8e9e-2301884e1a9f"
      },
      "outputs": [],
      "source": [
        "order_baru_df = pd.merge(orders_df, order_item_df, on='order_id')"
      ]
    },
    {
      "cell_type": "markdown",
      "id": "57ab0dd3-07ca-4844-a846-e24efc4f8d24",
      "metadata": {
        "id": "57ab0dd3-07ca-4844-a846-e24efc4f8d24"
      },
      "source": [
        "rangkuman parameter statistik dari order_baru_df :"
      ]
    },
    {
      "cell_type": "code",
      "execution_count": null,
      "id": "b8c63393-6f48-405d-a999-e4209c2bbf8e",
      "metadata": {
        "id": "b8c63393-6f48-405d-a999-e4209c2bbf8e"
      },
      "outputs": [],
      "source": [
        "order_baru_df.describe(include=\"all\")"
      ]
    },
    {
      "cell_type": "markdown",
      "id": "2c53ed4a-894a-4753-a997-11cbd3b230a6",
      "metadata": {
        "id": "2c53ed4a-894a-4753-a997-11cbd3b230a6"
      },
      "source": [
        "**Insight :**\n",
        "\n",
        "1. Dataset ini memiliki total 112,650 pesanan.\n",
        "2. Kolom order_status menunjukkan bahwa sebagian besar pesanan memiliki status \"delivered\", yang menunjukkan tingkat penyelesaian pesanan yang tinggi.\n",
        "3. Kolom order_purchase_timestamp menunjukkan distribusi waktu pembelian pesanan. Ini bisa digunakan untuk analisis tren pembelian berdasarkan waktu.\n",
        "4. Kolom price menunjukkan harga produk yang bervariasi, dengan rata-rata sekitar 120.65. Harga produk terendah adalah 0.85, sedangkan yang tertinggi adalah 6,735.\n",
        "5. Kolom freight_value menunjukkan biaya pengiriman yang bervariasi, dengan rata-rata sekitar 19.99. Biaya pengiriman terendah adalah 0, sedangkan yang tertinggi adalah 409.68."
      ]
    },
    {
      "cell_type": "markdown",
      "id": "197eeee2-ce0f-47ad-9bb0-e350c4f921dd",
      "metadata": {
        "id": "197eeee2-ce0f-47ad-9bb0-e350c4f921dd"
      },
      "source": [
        "**Berikut informasi yang bisa didapat dari data di atas :**"
      ]
    },
    {
      "cell_type": "markdown",
      "id": "7f99691e-4ea6-4163-b962-aa6ccf66ad3c",
      "metadata": {
        "id": "7f99691e-4ea6-4163-b962-aa6ccf66ad3c"
      },
      "source": [
        "- **Jumlah unik untuk setiap status pesanan**"
      ]
    },
    {
      "cell_type": "code",
      "execution_count": null,
      "id": "08d2824e-9335-44f3-b939-3d7547f434ad",
      "metadata": {
        "id": "08d2824e-9335-44f3-b939-3d7547f434ad"
      },
      "outputs": [],
      "source": [
        "order_baru_df.groupby(by=\"order_status\").agg({\n",
        "    \"customer_id\": \"nunique\",\n",
        "    \"order_id\": \"nunique\",\n",
        "    \"product_id\": \"nunique\",\n",
        "    \"seller_id\": \"nunique\"\n",
        "})"
      ]
    },
    {
      "cell_type": "markdown",
      "id": "e76b3ac3-dbe9-4a47-9226-2fc264fcf82a",
      "metadata": {
        "id": "e76b3ac3-dbe9-4a47-9226-2fc264fcf82a"
      },
      "source": [
        "**Insight :**\n",
        "\n",
        "1. Status \"delivered\" memiliki jumlah pelanggan, pesanan, produk, dan penjual terbanyak. Ini menunjukkan bahwa sebagian besar pesanan berhasil dikirimkan dan diterima oleh pelanggan.\n",
        "2. Status \"canceled\" memiliki jumlah yang cukup signifikan, dengan 461 pesanan dibatalkan. Ini bisa menjadi area yang perlu dianalisis lebih lanjut untuk memahami alasan pembatalan dan mencari cara untuk menguranginya.\n",
        "3. Status \"shipped\" menunjukkan bahwa ada 1,106 pesanan yang sedang dalam proses pengiriman. Ini menunjukkan efisiensi logistik dan pengiriman yang baik.\n",
        "4. Status \"unavailable\" memiliki jumlah yang sangat kecil, menunjukkan bahwa hanya sedikit pesanan yang tidak tersedia."
      ]
    },
    {
      "cell_type": "markdown",
      "id": "c1159038-8eae-4621-91b1-9622139fb3b3",
      "metadata": {
        "id": "c1159038-8eae-4621-91b1-9622139fb3b3"
      },
      "source": [
        "- **Distribusi pesanan, harga produk, dan biaya pengiriman berdasarkan status pesanan.**"
      ]
    },
    {
      "cell_type": "code",
      "execution_count": null,
      "id": "03c7443b-854b-4481-843f-89f8d3d4eb77",
      "metadata": {
        "id": "03c7443b-854b-4481-843f-89f8d3d4eb77"
      },
      "outputs": [],
      "source": [
        "order_baru_df.groupby(by=\"order_status\").agg({\n",
        "    \"order_id\": \"nunique\",\n",
        "    \"price\": [\"max\", \"min\", \"mean\", \"std\"],\n",
        "    \"freight_value\": [\"max\", \"min\", \"mean\", \"std\"]\n",
        "})"
      ]
    },
    {
      "cell_type": "markdown",
      "id": "01ce6a1a-3862-471f-b25d-239a20aad784",
      "metadata": {
        "id": "01ce6a1a-3862-471f-b25d-239a20aad784"
      },
      "source": [
        "**Insight :**\n",
        "\n",
        "1. Status \"delivered\" memiliki jumlah pesanan terbanyak (96,478 pesanan) dengan harga produk bervariasi dari 0.85 hingga 6,735, dan biaya pengiriman bervariasi dari 0 hingga 409.68. Rata-rata harga produk adalah 119.98 dengan standar deviasi 182.30, sedangkan rata-rata biaya pengiriman adalah 19.95 dengan standar deviasi 15.70.\n",
        "2. Status \"approved\" memiliki 2 pesanan dengan harga produk bervariasi dari 19.85 hingga 169.90, dan biaya pengiriman bervariasi dari 9.56 hingga 10.96. Rata-rata harga produk adalah 69.87 dengan standar deviasi 86.63, sedangkan rata-rata biaya pengiriman adalah 10.49 dengan standar deviasi 0.81.\n",
        "3. Status \"canceled\" memiliki 461 pesanan dengan harga produk bervariasi dari 5.53 hingga 2,649, dan biaya pengiriman bervariasi dari 0.03 hingga 171.88. Rata-rata harga produk adalah 175.71 dengan standar deviasi 323.31, sedangkan rata-rata biaya pengiriman adalah 19.65 dengan standar deviasi 17.58.\n",
        "   \n",
        "dst."
      ]
    },
    {
      "cell_type": "markdown",
      "id": "e1e4da83-ab03-47bb-ad94-d863bbdb713d",
      "metadata": {
        "id": "e1e4da83-ab03-47bb-ad94-d863bbdb713d"
      },
      "source": [
        "**Menggabungkan Dataset order_baru_df dan produk_baru_df**"
      ]
    },
    {
      "cell_type": "markdown",
      "id": "c662f26e-8e32-441f-832c-3db35318d7f4",
      "metadata": {
        "id": "c662f26e-8e32-441f-832c-3db35318d7f4"
      },
      "source": [
        "Dataset order_baru_df dan produk_baru_df bisa digabungkan menggunakan kolom yang sama yaitu \"produk_id\" dan menjadi satu dataset baru bernama \" order_produk_baru_df\" untuk mendapatkan informasi detail produk yang dipesan."
      ]
    },
    {
      "cell_type": "code",
      "execution_count": null,
      "id": "1f52a7e4-d819-401d-ad7b-1d9e870a2c58",
      "metadata": {
        "id": "1f52a7e4-d819-401d-ad7b-1d9e870a2c58"
      },
      "outputs": [],
      "source": [
        "order_produk_baru_df = pd.merge(order_baru_df, produk_baru_df, on='product_id')"
      ]
    },
    {
      "cell_type": "markdown",
      "id": "29e9cdeb-2c7b-4087-be3f-3055397c5ff8",
      "metadata": {
        "id": "29e9cdeb-2c7b-4087-be3f-3055397c5ff8"
      },
      "source": [
        "rangkuman parameter statistik dari order_baru_df :"
      ]
    },
    {
      "cell_type": "code",
      "execution_count": null,
      "id": "5ea24a91-f40b-46ce-812b-be4a25586330",
      "metadata": {
        "id": "5ea24a91-f40b-46ce-812b-be4a25586330"
      },
      "outputs": [],
      "source": [
        "order_produk_baru_df.describe(include=\"all\")"
      ]
    },
    {
      "cell_type": "markdown",
      "id": "d390353d-f31a-42bd-8f77-6d5cf9eb4800",
      "metadata": {
        "id": "d390353d-f31a-42bd-8f77-6d5cf9eb4800"
      },
      "source": [
        "**Insight :**\n",
        "\n",
        "1. Dataset ini memiliki total 112,626 pesanan.\n",
        "2. order_status menunjukkan bahwa sebagian besar pesanan memiliki status \"delivered\", yang menunjukkan tingkat penyelesaian pesanan yang tinggi.\n",
        "3. Terdapat 71 kategori produk unik. Kategori dengan jumlah produk terbanyak adalah bed_bath_table dengan 12,718 produk.\n",
        "4. olom product_weight_g menunjukkan berat produk yang bervariasi, dengan rata-rata sekitar 2,093.62 gram. Berat produk teringan adalah 0 gram, sedangkan yang terberat adalah 40,425 gram.\n",
        "5. Kolom price menunjukkan harga produk yang bervariasi, dengan rata-rata sekitar 120.63. Harga produk terendah adalah 0.85, sedangkan yang tertinggi adalah 6,735.\n",
        "6. Kolom freight_value menunjukkan biaya pengiriman yang bervariasi, dengan rata-rata sekitar 19.99. Biaya pengiriman terendah adalah 0, sedangkan yang tertinggi adalah 409.68."
      ]
    },
    {
      "cell_type": "markdown",
      "id": "7ce57f0d-05d8-4d7a-8813-f64de8aa09dd",
      "metadata": {
        "id": "7ce57f0d-05d8-4d7a-8813-f64de8aa09dd"
      },
      "source": [
        "**Berikut informasi yang bisa didapat dari data di atas :**"
      ]
    },
    {
      "cell_type": "markdown",
      "id": "bfe1f3b3-51c7-4d05-83f8-f58f960eb774",
      "metadata": {
        "id": "bfe1f3b3-51c7-4d05-83f8-f58f960eb774"
      },
      "source": [
        "- **Kategori produk yang paling banyak di order.**"
      ]
    },
    {
      "cell_type": "code",
      "execution_count": null,
      "id": "68cb8fba-dbfc-4611-9ff8-beb58b4d306f",
      "metadata": {
        "id": "68cb8fba-dbfc-4611-9ff8-beb58b4d306f"
      },
      "outputs": [],
      "source": [
        "order_produk_baru_df.groupby(by=\"product_category_name_english\").order_id.count().sort_values(ascending=False).reset_index().head(5)"
      ]
    },
    {
      "cell_type": "markdown",
      "id": "c4a9dded-168e-47c4-9f91-5141537f34e2",
      "metadata": {
        "id": "c4a9dded-168e-47c4-9f91-5141537f34e2"
      },
      "source": [
        "**Insight :**\n",
        "\n",
        "1. Kategori produk dengan jumlah produk terbanyak adalah bed_bath_table sebanyak 12.718.\n",
        "2. Kategori dengan jumlah produk yang tinggi menunjukkan potensi pasar yang besar"
      ]
    },
    {
      "cell_type": "markdown",
      "id": "f1c8ec58-10a0-4ca0-983d-646708fd0978",
      "metadata": {
        "id": "f1c8ec58-10a0-4ca0-983d-646708fd0978"
      },
      "source": [
        "- **Jumlah produk, dan penjual untuk setiap kategori produk**"
      ]
    },
    {
      "cell_type": "code",
      "execution_count": null,
      "id": "441e9ac8-577d-418e-9b62-faec1c39826e",
      "metadata": {
        "id": "441e9ac8-577d-418e-9b62-faec1c39826e"
      },
      "outputs": [],
      "source": [
        "order_produk_baru_df.groupby(by=\"product_category_name_english\").agg({\n",
        "    \"product_id\": \"nunique\",\n",
        "    \"seller_id\": \"nunique\"\n",
        "})"
      ]
    },
    {
      "cell_type": "markdown",
      "id": "84c660bc-1b0b-438a-b5fc-74aa08ecb1b0",
      "metadata": {
        "id": "84c660bc-1b0b-438a-b5fc-74aa08ecb1b0"
      },
      "source": [
        "**Insight :**\n",
        "\n",
        "Masing-masing kategori ini memiliki jumlah produk dan penjual yang sangat variatif, menunjukkan adanya variasi produk yang sangat luas yang ditawarkan oleh banyak penjual."
      ]
    },
    {
      "cell_type": "markdown",
      "id": "b1080f34-4b73-49a8-9492-6cbda47d32b4",
      "metadata": {
        "id": "b1080f34-4b73-49a8-9492-6cbda47d32b4"
      },
      "source": [
        "- **Kategori produk berdasarkan jumlah pesanan, harga produk, dan biaya pengiriman**"
      ]
    },
    {
      "cell_type": "code",
      "execution_count": null,
      "id": "90ea5f11-e418-4cb9-b02f-7299debeed99",
      "metadata": {
        "id": "90ea5f11-e418-4cb9-b02f-7299debeed99"
      },
      "outputs": [],
      "source": [
        "order_produk_baru_df.groupby(by=\"product_category_name_english\").agg({\n",
        "    \"order_id\": \"nunique\",\n",
        "    \"price\": [\"sum\", \"max\", \"min\", \"mean\", \"std\"],\n",
        "    \"freight_value\": [\"sum\", \"max\", \"min\", \"mean\", \"std\"]\n",
        "})"
      ]
    },
    {
      "cell_type": "markdown",
      "id": "cb778e4d-790a-433c-86f9-2f027253f180",
      "metadata": {
        "id": "cb778e4d-790a-433c-86f9-2f027253f180"
      },
      "source": [
        "**Insight :**\n",
        "\n",
        "1. Kategori \"Watches Gifts\" memiliki total penjualan tertinggi dengan nilai penjualan mencapai 1,205,005.68 dan harga produk tertinggi sebesar 3,999.90. Rata-rata harga produk dalam kategori ini adalah 201.14 dengan standar deviasi 256.74. Biaya pengiriman total untuk kategori ini adalah 100,535.93 dengan biaya pengiriman tertinggi sebesar 209.63.\n",
        "2. Kategori \"Telephony\" memiliki total penjualan sebesar 323,667.53 dan harga produk tertinggi sebesar 2,428. Rata-rata harga produk dalam kategori ini adalah 71.21 dengan standar deviasi 135.77. Biaya pengiriman total untuk kategori ini adalah 71,215.79 dengan biaya pengiriman tertinggi sebesar 121.22.\n",
        "\n",
        "dst."
      ]
    },
    {
      "cell_type": "markdown",
      "id": "5061bc68-0fe1-483d-b465-8354b504f146",
      "metadata": {
        "id": "5061bc68-0fe1-483d-b465-8354b504f146"
      },
      "source": [
        "- **Distribusi dan variasi pesanan berdasarkan kategori produk dan status pesanan nya.**"
      ]
    },
    {
      "cell_type": "code",
      "execution_count": null,
      "id": "a42fa928-9a09-4684-8c2e-8d1f26695e2a",
      "metadata": {
        "scrolled": true,
        "id": "a42fa928-9a09-4684-8c2e-8d1f26695e2a"
      },
      "outputs": [],
      "source": [
        "order_produk_baru_df.groupby(by=[\"product_category_name_english\", \"order_status\"]).agg({\n",
        "    \"order_id\": \"nunique\",\n",
        "    \"product_id\": \"nunique\",\n",
        "    \"seller_id\": \"nunique\"\n",
        "})"
      ]
    },
    {
      "cell_type": "markdown",
      "id": "67b4055a-47ff-499e-8cd5-290ff3a68319",
      "metadata": {
        "id": "67b4055a-47ff-499e-8cd5-290ff3a68319"
      },
      "source": [
        "**Insight :**\n",
        "\n",
        "Pivot table di atas memberikan gambaran terkait detail jumlah pesanan, jumlah produk yang dipesan serta jumlah penjual yang variatif untuk setiap status pesanan berdasarkan kategori produknya.  "
      ]
    },
    {
      "cell_type": "markdown",
      "id": "d9fa9d2c-00ba-4313-b9b4-ac7789618ebd",
      "metadata": {
        "id": "d9fa9d2c-00ba-4313-b9b4-ac7789618ebd"
      },
      "source": [
        "**Menggabungkan Dataset order_produk_baru_df dan customer_df**"
      ]
    },
    {
      "cell_type": "markdown",
      "id": "69d7fa31-b0b7-482b-8e00-a5a394f86a76",
      "metadata": {
        "id": "69d7fa31-b0b7-482b-8e00-a5a394f86a76"
      },
      "source": [
        "Pada tahap ini, kita akan mengeksplorasi data order_produk_baru_df dan customer_df. Dengan menggabungkan 2 dataset tersebut, memungkinkan untuk melakukan segmentasi pelanggan berdasarkan berbagai kriteria seperti lokasi geografis, nilai pesanan, dan kategori produk yang dibeli. Hal ini juga bisa membantu dalam memahami area dengan permintaan tertinggi."
      ]
    },
    {
      "cell_type": "code",
      "execution_count": null,
      "id": "e69da96a-943d-4d28-95e2-c28c57b86c3f",
      "metadata": {
        "id": "e69da96a-943d-4d28-95e2-c28c57b86c3f"
      },
      "outputs": [],
      "source": [
        "order_produk_baru_cust_df = pd.merge(customer_df, order_produk_baru_df, on='customer_id')"
      ]
    },
    {
      "cell_type": "markdown",
      "id": "a4759e4a-c6a1-4e42-bc87-90d37e44c13f",
      "metadata": {
        "id": "a4759e4a-c6a1-4e42-bc87-90d37e44c13f"
      },
      "source": [
        "rangkuman parameter statistik dari order_produk_baru_cust_df :"
      ]
    },
    {
      "cell_type": "code",
      "execution_count": null,
      "id": "5dfd9ef7-c0aa-443c-b091-70d2ed5aa020",
      "metadata": {
        "id": "5dfd9ef7-c0aa-443c-b091-70d2ed5aa020"
      },
      "outputs": [],
      "source": [
        "order_produk_baru_cust_df.describe(include=\"all\")"
      ]
    },
    {
      "cell_type": "markdown",
      "id": "9db40f99-c275-49f4-bc46-e5a2a27c1d95",
      "metadata": {
        "id": "9db40f99-c275-49f4-bc46-e5a2a27c1d95"
      },
      "source": [
        "**Insight :**\n",
        "\n",
        "1. Dataset ini memiliki total 112,626 pesanan.\n",
        "2. Terdapat 98,645 pelanggan dan 95,400 pelanggan unik berdasarkan customer_unique_id.\n",
        "3. Pelanggan berasal dari 4,110 kota yang berbeda dan 27 negara bagian yang berbeda. Kota dengan jumlah pelanggan terbanyak adalah Sao Paulo (17,807 pelanggan) dan negara bagian dengan jumlah pelanggan terbanyak adalah SP (47,437 pelanggan).\n",
        "4. Sebagian besar pesanan memiliki status \"delivered\" (110,175 pesanan), menunjukkan tingkat penyelesaian pesanan yang tinggi.\n",
        "5. Kolom order_purchase_timestamp menunjukkan distribusi waktu pembelian pesanan, dengan rata-rata waktu pembelian pada 2017-12-31.\n",
        "6. Terdapat 71 kategori produk unik. Kategori dengan jumlah produk terbanyak adalah bed_bath_table dengan 12,718 produk."
      ]
    },
    {
      "cell_type": "markdown",
      "id": "c7ffd885-9e0f-4ee8-9f5a-fc31a309bc8f",
      "metadata": {
        "id": "c7ffd885-9e0f-4ee8-9f5a-fc31a309bc8f"
      },
      "source": [
        "**Berikut informasi yang bisa didapat dari data di atas :**"
      ]
    },
    {
      "cell_type": "markdown",
      "id": "4f63bba2-fdfd-4092-85aa-de78c824f102",
      "metadata": {
        "id": "4f63bba2-fdfd-4092-85aa-de78c824f102"
      },
      "source": [
        "- **Jumlah pelanggan berdasarkan kategori produk**"
      ]
    },
    {
      "cell_type": "code",
      "execution_count": null,
      "id": "f9f5b853-5f0a-42b7-bfce-55795a43394f",
      "metadata": {
        "id": "f9f5b853-5f0a-42b7-bfce-55795a43394f"
      },
      "outputs": [],
      "source": [
        "order_produk_baru_cust_df.groupby(by=\"product_category_name_english\").customer_id.nunique().sort_values(ascending=False).reset_index().head(5)"
      ]
    },
    {
      "cell_type": "markdown",
      "id": "eb3cedb2-19d7-4727-856d-7e11842013ac",
      "metadata": {
        "id": "eb3cedb2-19d7-4727-856d-7e11842013ac"
      },
      "source": [
        "**Insight :**\n",
        "\n",
        "Berdasarkan hasil tersebut diketahui bahwa bed_bath_table yang paling banyak diminati."
      ]
    },
    {
      "cell_type": "markdown",
      "id": "1aa3e7f0-346a-42c4-813a-37ca32b89994",
      "metadata": {
        "id": "1aa3e7f0-346a-42c4-813a-37ca32b89994"
      },
      "source": [
        "- **Distribusi dan variasi pesanan berdasarkan kategori produk dan lokasi geografis pelanggan.**"
      ]
    },
    {
      "cell_type": "code",
      "execution_count": null,
      "id": "1b4fa8d1-c161-4739-816e-8a49491a1ff3",
      "metadata": {
        "id": "1b4fa8d1-c161-4739-816e-8a49491a1ff3"
      },
      "outputs": [],
      "source": [
        "order_produk_baru_cust_df.groupby(by=[\"product_category_name_english\", \"customer_city\"]).agg({\n",
        "    \"customer_id\": \"nunique\",\n",
        "    \"order_id\": \"nunique\",\n",
        "    \"seller_id\": \"nunique\"\n",
        "})"
      ]
    },
    {
      "cell_type": "markdown",
      "id": "26583686-3a2b-4196-8357-79c64e3956e5",
      "metadata": {
        "id": "26583686-3a2b-4196-8357-79c64e3956e5"
      },
      "source": [
        "**Insight :**\n",
        "\n",
        "1. Data ini menunjukkan bahwa beberapa kota memiliki jumlah pelanggan, pesanan, dan penjual yang sama untuk kategori produk tertentu. Misalnya, kota seperti Alto Piquiri, Americana, Amparo, Andradas, dan Andradina masing-masing memiliki 1 pelanggan, 1 pesanan, dan 1 penjual untuk kategori \"Agro Industry and Commerce\".\n",
        "2. Beberapa kota seperti Xavantina, Xaxim, dan Xinguara memiliki 1 pelanggan, 1 pesanan, dan 1 penjual untuk kategori produk tertentu, menunjukkan bahwa ada beberapa kota dengan aktivitas pembelian yang rendah"
      ]
    },
    {
      "cell_type": "markdown",
      "id": "104dc655-ff17-4b54-b186-ba4ebe195541",
      "metadata": {
        "id": "104dc655-ff17-4b54-b186-ba4ebe195541"
      },
      "source": [
        "- **distribusi pelanggan berdasarkan kategori produk.**"
      ]
    },
    {
      "cell_type": "code",
      "execution_count": null,
      "id": "300aecfd-0a18-4410-a3d7-9a06fc4aafa1",
      "metadata": {
        "id": "300aecfd-0a18-4410-a3d7-9a06fc4aafa1"
      },
      "outputs": [],
      "source": [
        "order_produk_baru_cust_df.groupby(by=[\"product_category_name_english\"]).agg({\n",
        "    \"customer_id\": \"nunique\",\n",
        "    \"customer_unique_id\": \"nunique\"\n",
        "})"
      ]
    },
    {
      "cell_type": "markdown",
      "id": "ad7fdf3b-9cb5-45d6-80a6-e5e20182fb55",
      "metadata": {
        "id": "ad7fdf3b-9cb5-45d6-80a6-e5e20182fb55"
      },
      "source": [
        "**Insight :**\n",
        "\n",
        "Data ini juga menunjukkan jumlah pelanggan unik berdasarkan ID unik pelanggan (customer_unique_id) untuk setiap kategori produk. Ini membantu dalam mengidentifikasi pelanggan yang melakukan pembelian berulang dalam kategori produk yang sama."
      ]
    },
    {
      "cell_type": "markdown",
      "id": "10d9fe17-8a07-44a6-ab98-5f3c7ba232fb",
      "metadata": {
        "id": "10d9fe17-8a07-44a6-ab98-5f3c7ba232fb"
      },
      "source": [
        "**Menggabungkan Dataset order_produk_baru_df dan seller_df**"
      ]
    },
    {
      "cell_type": "markdown",
      "id": "3708ddfb-8bf5-4896-8524-ea5420c8edda",
      "metadata": {
        "id": "3708ddfb-8bf5-4896-8524-ea5420c8edda"
      },
      "source": [
        "Pada tahap ini, kita akan mengeksplorasi data order_produk_baru_df dan seller_df. Dengan menggabungkan 2 dataset tersebut, memungkinkan untuk melakukan segmentasi penjual berdasarkan berbagai kriteria seperti lokasi geografis, nilai pesanan, dan kategori produk yang dibeli. Hal ini juga bisa membantu dalam memahami area dengan penjualan tertinggi."
      ]
    },
    {
      "cell_type": "code",
      "execution_count": null,
      "id": "170fb4c6-6629-4dce-a561-7f9e8efa8c82",
      "metadata": {
        "id": "170fb4c6-6629-4dce-a561-7f9e8efa8c82"
      },
      "outputs": [],
      "source": [
        "order_produk_baru_seller_df = pd.merge(order_produk_baru_df, seller_df, on='seller_id')"
      ]
    },
    {
      "cell_type": "markdown",
      "id": "599e8222-8d5a-4bf4-a7d5-733a7539850f",
      "metadata": {
        "id": "599e8222-8d5a-4bf4-a7d5-733a7539850f"
      },
      "source": [
        "rangkuman parameter statistik dari order_produk_baru_seller_df :"
      ]
    },
    {
      "cell_type": "code",
      "execution_count": null,
      "id": "157d6280-c3d2-4976-9eba-4629fee2d53c",
      "metadata": {
        "id": "157d6280-c3d2-4976-9eba-4629fee2d53c"
      },
      "outputs": [],
      "source": [
        "order_produk_baru_seller_df.describe(include=\"all\")"
      ]
    },
    {
      "cell_type": "markdown",
      "id": "3959584c-4c96-4fbf-918f-c420eb362b6a",
      "metadata": {
        "id": "3959584c-4c96-4fbf-918f-c420eb362b6a"
      },
      "source": [
        "**Insight :**\n",
        "\n",
        "1. Dataset ini memiliki total 112,650 pesanan.\n",
        "2. Mencakup 611 kota penjual unik dan 23 negara bagian penjual unik. Kota dengan jumlah penjual terbanyak adalah Sao Paulo (27,976 penjual), dan negara bagian dengan jumlah penjual terbanyak adalah SP (80,318 penjual)."
      ]
    },
    {
      "cell_type": "markdown",
      "id": "0b4c7a13-6f05-4631-b292-7c20681c5864",
      "metadata": {
        "id": "0b4c7a13-6f05-4631-b292-7c20681c5864"
      },
      "source": [
        "**Berikut informasi yang bisa didapat dari data di atas :**"
      ]
    },
    {
      "cell_type": "markdown",
      "id": "1ac63433-b133-40bf-b439-c3eb44248ae4",
      "metadata": {
        "id": "1ac63433-b133-40bf-b439-c3eb44248ae4"
      },
      "source": [
        "- **Jumlah penjual berdasarkan kategori produk**"
      ]
    },
    {
      "cell_type": "code",
      "execution_count": null,
      "id": "621cce88-9d60-4869-b178-5f3a7743ba17",
      "metadata": {
        "id": "621cce88-9d60-4869-b178-5f3a7743ba17"
      },
      "outputs": [],
      "source": [
        "order_produk_baru_seller_df.groupby(by=\"product_category_name_english\").seller_id.nunique().sort_values(ascending=False).reset_index().head(5)"
      ]
    },
    {
      "cell_type": "markdown",
      "id": "61304298-9a7a-4174-acf7-fcbfb99953f8",
      "metadata": {
        "id": "61304298-9a7a-4174-acf7-fcbfb99953f8"
      },
      "source": [
        "**Insight :**\n",
        "\n",
        "Berdasarkan hasil tersebut diketahui bahwa health_beauty memiliki 492 penjual. Ini menunjukkan bahwa produk-produk dalam kategori kesehatan dan kecantikan sangat populer."
      ]
    },
    {
      "cell_type": "markdown",
      "id": "2d8cd933-6f04-471c-b46f-4dedb8998750",
      "metadata": {
        "id": "2d8cd933-6f04-471c-b46f-4dedb8998750"
      },
      "source": [
        "- **Distribusi pelanggan dan penjual berdasarkan kategori produk dan lokasi geografis penjual.**"
      ]
    },
    {
      "cell_type": "code",
      "execution_count": null,
      "id": "2112d167-d6aa-4c89-a7e9-8a65b3cfdbb1",
      "metadata": {
        "id": "2112d167-d6aa-4c89-a7e9-8a65b3cfdbb1"
      },
      "outputs": [],
      "source": [
        "order_produk_baru_seller_df.groupby(by=[\"product_category_name_english\", \"seller_city\"]).agg({\n",
        "    \"customer_id\": \"nunique\",\n",
        "    \"seller_id\": \"nunique\"\n",
        "})"
      ]
    },
    {
      "cell_type": "markdown",
      "id": "2a4ca343-211b-48fd-be7d-e3713b535f86",
      "metadata": {
        "id": "2a4ca343-211b-48fd-be7d-e3713b535f86"
      },
      "source": [
        "**Insight :**\n",
        "\n",
        "1. Pada kategori \"Watches Gifts\", Kota Sumare memiliki jumlah pelanggan yang sangat tinggi, yaitu 579 pelanggan unik, namun hanya 1 penjual unik. Ini menunjukkan bahwa satu penjual melayani banyak pelanggan di kota ini, yang bisa menjadi peluang untuk meningkatkan jumlah penjual.\n",
        "2. Pada kategori \"Watches Gifts\", Kota Sorocaba memiliki 8 pelanggan unik dan 1 penjual unik. Ini menunjukkan bahwa satu penjual melayani beberapa pelanggan di kota ini.\n",
        "3. Rata-rata di setiap kota, menunjukkan bahwa satu penjual melayani beberapa pelanggan."
      ]
    },
    {
      "cell_type": "markdown",
      "id": "b34a9a55-921c-43ed-8269-a026856d2140",
      "metadata": {
        "id": "b34a9a55-921c-43ed-8269-a026856d2140"
      },
      "source": [
        "**Eksplorasi Data review_df**"
      ]
    },
    {
      "cell_type": "code",
      "execution_count": null,
      "id": "b4e661a3-e960-432d-9437-3d831d88c425",
      "metadata": {
        "id": "b4e661a3-e960-432d-9437-3d831d88c425"
      },
      "outputs": [],
      "source": [
        "review_df.describe(include=\"all\")"
      ]
    },
    {
      "cell_type": "markdown",
      "id": "12bc44bf-1a87-4bd5-8f33-da0de102073b",
      "metadata": {
        "id": "12bc44bf-1a87-4bd5-8f33-da0de102073b"
      },
      "source": [
        "**Insight :**\n",
        "\n",
        "1. Dataset ini memiliki total 99,224 ulasan.\n",
        "2. Skor ulasan bervariasi dari 1 hingga 5, dengan rata-rata skor ulasan sekitar 4.09. Ini menunjukkan bahwa sebagian besar ulasan cenderung positif\n",
        "3. 25% ulasan memiliki skor 4. 50% ulasan memiliki skor 5. 75% ulasan memiliki skor 5. Skor ulasan terendah adalah 1, dan skor ulasan tertinggi adalah 5.\n",
        "4. Tanggal pembuatan ulasan bervariasi dari 2016-10-02 hingga 2018-08-31, dengan rata-rata tanggal pembuatan ulasan pada 2018-01-12\n",
        "5. Tanggal jawaban ulasan bervariasi dari 2016-10-07 hingga 2018-10-29, dengan rata-rata tanggal jawaban ulasan pada 2018-01-16\n",
        "6. Ulasan dengan review_id dan order_id tertentu muncul lebih dari sekali, dengan frekuensi tertinggi adalah 3 kali."
      ]
    },
    {
      "cell_type": "markdown",
      "id": "1eb56b53-10a4-42b7-93b2-ce3d12b376e9",
      "metadata": {
        "id": "1eb56b53-10a4-42b7-93b2-ce3d12b376e9"
      },
      "source": [
        "**Berikut informasi yang bisa didapat dari data di atas :**"
      ]
    },
    {
      "cell_type": "markdown",
      "id": "8782a7e3-702a-43d6-908f-7e5bd4b27a8e",
      "metadata": {
        "id": "8782a7e3-702a-43d6-908f-7e5bd4b27a8e"
      },
      "source": [
        "- **Jumlah order berdasarkan review score**"
      ]
    },
    {
      "cell_type": "code",
      "execution_count": null,
      "id": "02b819aa-03d3-48b1-acf0-5b4a1f649ac2",
      "metadata": {
        "id": "02b819aa-03d3-48b1-acf0-5b4a1f649ac2"
      },
      "outputs": [],
      "source": [
        "review_df.groupby(by=\"review_score\").order_id.nunique().sort_values(ascending=False).reset_index()"
      ]
    },
    {
      "cell_type": "markdown",
      "id": "e8bbb7e9-a4f4-4c25-8f7e-3b1fe81a9882",
      "metadata": {
        "id": "e8bbb7e9-a4f4-4c25-8f7e-3b1fe81a9882"
      },
      "source": [
        "**Insight :**\n",
        "\n",
        "1. Terdapat 57,076 ulasan dengan skor 5, menunjukkan bahwa sebagian besar pelanggan sangat puas dengan pesanan mereka.\n",
        "2. Sebagian besar ulasan memiliki skor tinggi (4 dan 5), menunjukkan tingkat kepuasan pelanggan yang tinggi secara keseluruhan.\n",
        "3. Namun, ada juga sejumlah ulasan dengan skor rendah (1 dan 2), yang menunjukkan adanya masalah atau ketidakpuasan pelanggan yang perlu diperhatikan."
      ]
    },
    {
      "cell_type": "markdown",
      "id": "8b21fa24-0cc0-4bc8-b45f-24d79ab6e9d3",
      "metadata": {
        "id": "8b21fa24-0cc0-4bc8-b45f-24d79ab6e9d3"
      },
      "source": [
        "**Menggabungkan Dataset review_df dan order_produk_baru_df**"
      ]
    },
    {
      "cell_type": "markdown",
      "id": "99273240-7f48-47f7-b853-37a1afa31227",
      "metadata": {
        "id": "99273240-7f48-47f7-b853-37a1afa31227"
      },
      "source": [
        "Pada tahap ini, kita akan mengeksplorasi data order_produk_baru_df dan review_df.\n",
        "1. Dengan menggabungkan 2 dataset tersebut, bisa mendapatkan wawasan yang lebih mendalam tentang kepuasan pelanggan. Ini termasuk analisis skor ulasan berdasarkan kategori produk, penjual, dan lokasi geografis.\n",
        "2. Data gabungan juga memungkinkan untuk melakukan segmentasi pelanggan berdasarkan skor ulasan dan riwayat pembelian mereka. Ini membantu dalam mengidentifikasi pelanggan yang paling puas dan yang paling tidak puas.\n",
        "3. Bisa juga menganalisis hubungan antara waktu pengiriman dan skor ulasan. Ini membantu dalam memahami apakah keterlambatan pengiriman mempengaruhi kepuasan pelanggan."
      ]
    },
    {
      "cell_type": "code",
      "execution_count": null,
      "id": "811b7670-fc7a-4472-aa0d-5e9ccea73ca7",
      "metadata": {
        "id": "811b7670-fc7a-4472-aa0d-5e9ccea73ca7"
      },
      "outputs": [],
      "source": [
        "review_produk_df = pd.merge(review_df, order_produk_baru_df, on='order_id')"
      ]
    },
    {
      "cell_type": "markdown",
      "id": "007bbe10-ed6a-4aaa-b6a1-414b4cd9390a",
      "metadata": {
        "id": "007bbe10-ed6a-4aaa-b6a1-414b4cd9390a"
      },
      "source": [
        "rangkuman parameter statistik dari review_produk_df :"
      ]
    },
    {
      "cell_type": "code",
      "execution_count": null,
      "id": "44eea64b-57e9-484c-8efd-e139c35ae62d",
      "metadata": {
        "id": "44eea64b-57e9-484c-8efd-e139c35ae62d"
      },
      "outputs": [],
      "source": [
        "review_produk_df.describe(include=\"all\")"
      ]
    },
    {
      "cell_type": "markdown",
      "id": "d7c5d94a-2a8b-4b55-ab3e-07c227580437",
      "metadata": {
        "id": "d7c5d94a-2a8b-4b55-ab3e-07c227580437"
      },
      "source": [
        "**Insight :**\n",
        "\n",
        "1. Dataset ini memiliki total 112,348 ulasan dan pesanan.\n",
        "2. Skor ulasan bervariasi dari 1 hingga 5, dengan rata-rata skor ulasan sekitar 4.03. Ini menunjukkan bahwa sebagian besar ulasan cenderung positif.\n",
        "3. 25% ulasan memiliki skor 4. 50% ulasan memiliki skor 5. 75% ulasan memiliki skor 5. Skor ulasan terendah adalah 1, dan skor ulasan tertinggi adalah 5.\n",
        "4. rata-rata tanggal pembuatan ulasan pada 2018-01-13\n",
        "5. rata-rata tanggal jawaban ulasan pada 2018-01-16\n",
        "6. rata-rata waktu pembelian pada 2017-12-31 dan rata-rata waktu persetujuan pada 2018-01-01\n",
        "7. jumlah produk terbanyak adalah bed_bath_table dengan 12,735 produk\n",
        "8. Sebagian besar pesanan memiliki status \"delivered\" (109,991 pesanan), menunjukkan tingkat penyelesaian pesanan yang tinggi."
      ]
    },
    {
      "cell_type": "markdown",
      "id": "10d5b7d5-2cfb-410d-8e56-8fcdb847de29",
      "metadata": {
        "id": "10d5b7d5-2cfb-410d-8e56-8fcdb847de29"
      },
      "source": [
        "**Berikut informasi yang bisa didapat dari data di atas :**"
      ]
    },
    {
      "cell_type": "markdown",
      "id": "86326ef1-d1ef-4941-8062-dd224934b3bf",
      "metadata": {
        "id": "86326ef1-d1ef-4941-8062-dd224934b3bf"
      },
      "source": [
        "- **Distribusi ulasan berdasarkan skor ulasan**"
      ]
    },
    {
      "cell_type": "code",
      "execution_count": null,
      "id": "09f3f38b-fc41-494f-bb42-a79b070db489",
      "metadata": {
        "id": "09f3f38b-fc41-494f-bb42-a79b070db489"
      },
      "outputs": [],
      "source": [
        "review_produk_df.groupby(by=\"review_score\").review_id.nunique().sort_values(ascending=False).reset_index()"
      ]
    },
    {
      "cell_type": "markdown",
      "id": "09d0dad7-ac97-4b9c-a550-7c4f38094fdd",
      "metadata": {
        "id": "09d0dad7-ac97-4b9c-a550-7c4f38094fdd"
      },
      "source": [
        "**Insight :**\n",
        "\n",
        "1. Terdapat 56,847 ulasan dengan skor 5, menunjukkan bahwa sebagian besar pelanggan sangat puas dengan pesanan mereka.\n",
        "2. Sebagian besar ulasan memiliki skor tinggi (4 dan 5), menunjukkan tingkat kepuasan pelanggan yang tinggi secara keseluruhan.\n",
        "3. ada juga sejumlah ulasan dengan skor rendah (1 dan 2), yang menunjukkan adanya masalah atau ketidakpuasan pelanggan."
      ]
    },
    {
      "cell_type": "markdown",
      "id": "bee998f0-701d-4f54-9bb0-2aa6b336d76e",
      "metadata": {
        "id": "bee998f0-701d-4f54-9bb0-2aa6b336d76e"
      },
      "source": [
        "- **Distribusi pelanggan berdasarkan skor ulasan**"
      ]
    },
    {
      "cell_type": "code",
      "execution_count": null,
      "id": "6e8bcd5c-7fe3-462b-a8a0-5d89bbbdac2c",
      "metadata": {
        "id": "6e8bcd5c-7fe3-462b-a8a0-5d89bbbdac2c"
      },
      "outputs": [],
      "source": [
        "review_produk_df.groupby(by=\"review_score\").customer_id.nunique().sort_values(ascending=False).reset_index()"
      ]
    },
    {
      "cell_type": "markdown",
      "id": "8540ccca-84f1-432b-8b74-f82c3f5d00b7",
      "metadata": {
        "id": "8540ccca-84f1-432b-8b74-f82c3f5d00b7"
      },
      "source": [
        "**Insight :**\n",
        "\n",
        "1. Terdapat 56,999 pelanggan unik yang memberikan ulasan dengan skor 5. Ini menunjukkan bahwa sebagian besar pelanggan sangat puas dengan pesanan mereka.\n",
        "2. Terdapat 10,850 pelanggan unik yang memberikan ulasan dengan skor 1. Ini menunjukkan bahwa ada sejumlah pelanggan yang sangat tidak puas dengan pesanan mereka.\n",
        "3. Sebagian besar ulasan memiliki skor tinggi (4 dan 5), ada juga sejumlah ulasan dengan skor rendah (1 dan 2)."
      ]
    },
    {
      "cell_type": "markdown",
      "id": "86c7ee3f-e30b-46e5-bc81-c1303d08f237",
      "metadata": {
        "id": "86c7ee3f-e30b-46e5-bc81-c1303d08f237"
      },
      "source": [
        "- **Berapa banyak penjual dan produk yang menerima ulasan dengan skor tertentu**"
      ]
    },
    {
      "cell_type": "code",
      "execution_count": null,
      "id": "ae20a7be-8fb3-4e0d-a400-946a9f2f704b",
      "metadata": {
        "id": "ae20a7be-8fb3-4e0d-a400-946a9f2f704b"
      },
      "outputs": [],
      "source": [
        "review_produk_df.groupby(by=[\"review_score\"]).agg({\n",
        "    \"seller_id\": \"nunique\",\n",
        "    \"product_id\": \"nunique\"\n",
        "})"
      ]
    },
    {
      "cell_type": "markdown",
      "id": "066ef742-c19f-4add-a1f4-33e9ebd85e03",
      "metadata": {
        "id": "066ef742-c19f-4add-a1f4-33e9ebd85e03"
      },
      "source": [
        "**Insight :**\n",
        "\n",
        "1. Skor ulasan 1 menunjukkan ketidakpuasan pelanggan yang signifikan. Banyak penjual dan produk yang menerima ulasan negatif ini, yang menunjukkan adanya masalah yang perlu diperbaiki.\n",
        "2. Skor ulasan 5 menunjukkan kepuasan pelanggan yang sangat tinggi. Penjual dan produk yang menerima ulasan ini sudah sangat baik dan berhasil memenuhi atau bahkan melebihi ekspektasi pelanggan"
      ]
    },
    {
      "cell_type": "markdown",
      "id": "522af345-8967-496b-908b-2f6c1e32d301",
      "metadata": {
        "id": "522af345-8967-496b-908b-2f6c1e32d301"
      },
      "source": [
        "- **Identifikasi kategori produk yang paling populer/memuaskan dan yang tidak**"
      ]
    },
    {
      "cell_type": "code",
      "execution_count": null,
      "id": "d4210fc8-832c-4c7b-88c0-bda22a29904b",
      "metadata": {
        "id": "d4210fc8-832c-4c7b-88c0-bda22a29904b"
      },
      "outputs": [],
      "source": [
        "review_produk_df.groupby(by=[\"product_category_name_english\"]).agg({\n",
        "    \"review_id\": \"nunique\",\n",
        "    \"review_score\": [\"max\", \"min\", \"mean\", \"std\"]\n",
        "})"
      ]
    },
    {
      "cell_type": "markdown",
      "id": "77432405-2723-4e49-ac01-195a43b6982f",
      "metadata": {
        "id": "77432405-2723-4e49-ac01-195a43b6982f"
      },
      "source": [
        "**Insight :**\n",
        "\n",
        "terlihat dari data di atas, yang banyak menerima review adalah kategori produk \"\"Watches Gifts\" dengan jumlah ulasan sebanyak 5.582. rata-rata kategori produk mendapat skor ulasan 5."
      ]
    },
    {
      "cell_type": "markdown",
      "id": "07de1d8e-b49a-4ba6-9eae-c8a8da7941af",
      "metadata": {
        "id": "07de1d8e-b49a-4ba6-9eae-c8a8da7941af"
      },
      "source": [
        "**Menggabungkan Dataset customer_df dan review_produk_df**"
      ]
    },
    {
      "cell_type": "markdown",
      "id": "dc010115-a2c1-4126-b501-d2c9341db8dc",
      "metadata": {
        "id": "dc010115-a2c1-4126-b501-d2c9341db8dc"
      },
      "source": [
        "Pada tahap ini, kita akan mengeksplorasi data review_produk_df dan customer_df. Dengan menggabungkan data pelanggan dan ulasan, maka bisa mendapatkan wawasan yang lebih mendalam tentang kepuasan pelanggan. Ini termasuk analisis skor ulasan berdasarkan lokasi geografis pelanggan."
      ]
    },
    {
      "cell_type": "code",
      "execution_count": null,
      "id": "e2ae9a1a-92b5-4c1f-9137-8a30b2b80164",
      "metadata": {
        "id": "e2ae9a1a-92b5-4c1f-9137-8a30b2b80164"
      },
      "outputs": [],
      "source": [
        "review_produk_cust_df = pd.merge(customer_df, review_produk_df, on='customer_id')"
      ]
    },
    {
      "cell_type": "markdown",
      "id": "8efc6caf-41e1-4b91-9df6-950a6b220765",
      "metadata": {
        "id": "8efc6caf-41e1-4b91-9df6-950a6b220765"
      },
      "source": [
        "rangkuman parameter statistik dari review_produk_cust_df :"
      ]
    },
    {
      "cell_type": "code",
      "execution_count": null,
      "id": "514b9d3e-96f7-4a2d-85df-df9e375c9a87",
      "metadata": {
        "id": "514b9d3e-96f7-4a2d-85df-df9e375c9a87"
      },
      "outputs": [],
      "source": [
        "review_produk_cust_df.describe(include=\"all\")"
      ]
    },
    {
      "cell_type": "markdown",
      "id": "44208e4d-e16c-44a9-9293-73d3d20fd7a6",
      "metadata": {
        "id": "44208e4d-e16c-44a9-9293-73d3d20fd7a6"
      },
      "source": [
        "**Insight :**\n",
        "\n",
        "1. Pelanggan tersebar di berbagai kota dan negara bagian. Kota dengan jumlah pelanggan terbanyak adalah Sao Paulo, dengan 17,793 pelanggan, dan negara bagian dengan jumlah pelanggan terbanyak adalah SP, dengan 47,387 pelanggan.\n",
        "2. Skor ulasan bervariasi dari 1 hingga 5, dengan rata-rata skor ulasan sekitar 4.03. Sebagian besar ulasan cenderung positif, yang mencerminkan kepuasan pelanggan yang tinggi.\n",
        "3. Kategori dengan jumlah produk terbanyak adalah bed_bath_table dengan 12,735 produk.\n",
        "4. Terdapat 3,088 penjual. Kota dengan jumlah penjual terbanyak adalah Sao Paulo (20,020 penjual) dan negara bagian dengan jumlah penjual terbanyak adalah SP (80,318 penjual)"
      ]
    },
    {
      "cell_type": "markdown",
      "id": "aaec366a-190e-4825-a1fe-22b171b90de5",
      "metadata": {
        "id": "aaec366a-190e-4825-a1fe-22b171b90de5"
      },
      "source": [
        "**Berikut informasi yang bisa didapat dari data di atas :**"
      ]
    },
    {
      "cell_type": "markdown",
      "id": "26641bbc-5583-40a8-9a50-4c0463b5f225",
      "metadata": {
        "id": "26641bbc-5583-40a8-9a50-4c0463b5f225"
      },
      "source": [
        "- **Distribusi Ulasan Berdasarkan Kota Pelanggan dan Skor Ulasan.**"
      ]
    },
    {
      "cell_type": "code",
      "execution_count": null,
      "id": "ff342ea4-702b-4cba-aaf0-f0baf35cf3b4",
      "metadata": {
        "id": "ff342ea4-702b-4cba-aaf0-f0baf35cf3b4"
      },
      "outputs": [],
      "source": [
        "review_produk_cust_df.groupby(by=[\"review_score\", \"customer_city\"]).agg({\n",
        "    \"review_id\": \"nunique\",\n",
        "    \"customer_id\": \"nunique\",\n",
        "    \"product_id\": \"nunique\",\n",
        "})"
      ]
    },
    {
      "cell_type": "markdown",
      "id": "1f6fea8e-548e-46b8-9a57-f99b2f7c44f8",
      "metadata": {
        "id": "1f6fea8e-548e-46b8-9a57-f99b2f7c44f8"
      },
      "source": [
        "**Insight :**\n",
        "\n",
        "1. Setiap produk hanya memiliki satu ulasan. Dalam hal ini, setiap review_id untuk setiap product_id, sehingga jumlahnya sama.\n",
        "2. Ini juga menunjukkan bahwa beberapa kota memiliki jumlah ulasan yang lebih tinggi dengan skor tertentu, yang bisa menjadi indikasi kepuasan atau ketidakpuasan pelanggan di kota tersebut."
      ]
    },
    {
      "cell_type": "markdown",
      "id": "dca2a759-1616-47f3-96d3-10dbaf4ae595",
      "metadata": {
        "id": "dca2a759-1616-47f3-96d3-10dbaf4ae595"
      },
      "source": [
        "**Menggabungkan Dataset seller_df dan review_produk_df**"
      ]
    },
    {
      "cell_type": "markdown",
      "id": "ddf58456-40d9-47a0-b5ca-db0174bba314",
      "metadata": {
        "id": "ddf58456-40d9-47a0-b5ca-db0174bba314"
      },
      "source": [
        "Pada tahap ini, kita akan mengeksplorasi data review_produk_df dan seller_df. Dengan menggabungkan data penjual dan ulasan, maka memungkinkan untuk melakukan segmentasi penjual berdasarkan skor ulasan dan lokasi geografis mereka. Ini membantu dalam mengidentifikasi penjual yang paling sukses dan yang memerlukan dukungan tambahan."
      ]
    },
    {
      "cell_type": "code",
      "execution_count": null,
      "id": "499902b7-c248-4dec-92d7-f2049226ed2d",
      "metadata": {
        "id": "499902b7-c248-4dec-92d7-f2049226ed2d"
      },
      "outputs": [],
      "source": [
        "review_produk_seller_df = pd.merge(seller_df, review_produk_df, on='seller_id')"
      ]
    },
    {
      "cell_type": "markdown",
      "id": "6c39e05a-9ae3-4034-8f41-503f141d643c",
      "metadata": {
        "id": "6c39e05a-9ae3-4034-8f41-503f141d643c"
      },
      "source": [
        "rangkuman parameter statistik dari review_produk_seller_df :"
      ]
    },
    {
      "cell_type": "code",
      "execution_count": null,
      "id": "c40a070f-9bce-43e2-a501-b1ae63b5d861",
      "metadata": {
        "id": "c40a070f-9bce-43e2-a501-b1ae63b5d861"
      },
      "outputs": [],
      "source": [
        "review_produk_seller_df.describe(include=\"all\")"
      ]
    },
    {
      "cell_type": "markdown",
      "id": "d2958b15-8327-42f5-9c51-fceb23e3cb14",
      "metadata": {
        "id": "d2958b15-8327-42f5-9c51-fceb23e3cb14"
      },
      "source": [
        "**Insight :**\n",
        "\n",
        "1. Dataset ini mencakup 3,088 penjual.\n",
        "2. Penjual tersebar di berbagai kota dan negara bagian. Kota dengan jumlah penjual terbanyak adalah Sao Paulo, dengan 27,855 penjual, dan negara bagian dengan jumlah penjual terbanyak adalah SP, dengan 80,129 penjual.\n",
        "3. Skor ulasan bervariasi dari 1 hingga 5, dengan rata-rata skor ulasan sekitar 4.03. Sebagian besar ulasan cenderung positif, yang mencerminkan kepuasan pelanggan yang tinggi."
      ]
    },
    {
      "cell_type": "markdown",
      "id": "d16cc065-90f6-4cc3-8ae6-32cde1810828",
      "metadata": {
        "id": "d16cc065-90f6-4cc3-8ae6-32cde1810828"
      },
      "source": [
        "**Berikut informasi yang bisa didapat dari data di atas :**"
      ]
    },
    {
      "cell_type": "markdown",
      "id": "5fc0034b-6fad-4254-bb72-0ce44e179e84",
      "metadata": {
        "id": "5fc0034b-6fad-4254-bb72-0ce44e179e84"
      },
      "source": [
        "- **Distribusi Ulasan Berdasarkan Kota Penjual dan Skor Ulasan.**"
      ]
    },
    {
      "cell_type": "code",
      "execution_count": null,
      "id": "efbd4834-be1d-4117-bac8-094cbc14d1d3",
      "metadata": {
        "id": "efbd4834-be1d-4117-bac8-094cbc14d1d3"
      },
      "outputs": [],
      "source": [
        "review_produk_seller_df.groupby(by=[\"review_score\", \"seller_city\"]).agg({\n",
        "    \"review_id\": \"nunique\",\n",
        "    \"seller_id\": \"nunique\",\n",
        "    \"customer_id\": \"nunique\",\n",
        "    \"product_id\": \"nunique\"\n",
        "})"
      ]
    },
    {
      "cell_type": "markdown",
      "id": "b9e41d65-78b3-4ce0-8c1e-5e5df424adf8",
      "metadata": {
        "id": "b9e41d65-78b3-4ce0-8c1e-5e5df424adf8"
      },
      "source": [
        "**Insight :**\n",
        "\n",
        "1. Penjual yang mendapat skor ulasan 1 samapi 5 tersebar di beberapa kota.\n",
        "2. Perbedaan jumlah ini mencerminkan variasi dalam data ulasan, penjual, pelanggan, dan produk yang diulas.\n",
        "3. Jumlah review_id menunjukkan jumlah total ulasan yang diberikan oleh pelanggan.\n",
        "4. Satu produk bisa menerima beberapa ulasan dari pelanggan yang berbeda. Oleh karena itu, jumlah product_id bisa lebih kecil dibandingkan jumlah review_id jika satu produk menerima banyak ulasan.\n",
        "5. Satu penjual bisa menjual beberapa produk dan menerima beberapa ulasan dari pelanggan yang berbeda. Oleh karena itu, jumlah seller_id bisa lebih kecil dibandingkan jumlah review_id jika satu penjual menerima banyak ulasan\n",
        "6. Seorang pelanggan bisa memberikan beberapa ulasan untuk produk yang berbeda atau bahkan untuk produk yang sama. Oleh karena itu, jumlah customer_id bisa lebih kecil dibandingkan jumlah review_id jika satu pelanggan memberikan banyak ulasan.\n",
        "7. Contoh misalkan pada penjual yang berasal dari kota volta redonda ada 78 ulasan (review_id) untuk 22 produk (product_id) yang dijual oleh 2 penjual (seller_id) dan diberikan ulasan oleh 78 pelanggan (customer_id)."
      ]
    },
    {
      "cell_type": "markdown",
      "id": "d396bf86-e326-4f28-be61-f975098019fa",
      "metadata": {
        "id": "d396bf86-e326-4f28-be61-f975098019fa"
      },
      "source": [
        "**Eksplorasi Data payment_df**"
      ]
    },
    {
      "cell_type": "code",
      "execution_count": null,
      "id": "57096c10-7039-417f-9759-34d147ef1d01",
      "metadata": {
        "id": "57096c10-7039-417f-9759-34d147ef1d01"
      },
      "outputs": [],
      "source": [
        "payment_df.describe(include=\"all\")"
      ]
    },
    {
      "cell_type": "markdown",
      "id": "9f59f943-6ac6-4f54-953d-35cbd5df5959",
      "metadata": {
        "id": "9f59f943-6ac6-4f54-953d-35cbd5df5959"
      },
      "source": [
        "**Insight :**\n",
        "\n",
        "1. Dataset ini mencakup 103,886 pesanan\n",
        "2. Metode pembayaran yang paling sering digunakan adalah kartu kredit, dengan 76,795 transaksi menggunakan kartu kredit.\n",
        "3. Ada 5 metode pembayaran yang digunakan dalam dataset ini.\n",
        "4. Rata-rata urutan pembayaran adalah sekitar 1.09, dengan standar deviasi 0.71. Ini menunjukkan bahwa sebagian besar pesanan dilakukan dalam satu kali pembayaran.\n",
        "5. Rata-rata jumlah cicilan adalah sekitar 2.85, dengan standar deviasi 2.69. Ini menunjukkan bahwa sebagian besar pesanan dilakukan dalam beberapa cicilan.\n",
        "6. Jumlah cicilan maksimum adalah 24, menunjukkan bahwa ada pesanan yang dilakukan dalam banyak cicilan.\n",
        "7. Rata-rata nilai pembayaran adalah sekitar 154.10, dengan standar deviasi 217.49. Ini menunjukkan bahwa nilai pembayaran bervariasi secara signifikan.\n",
        "8. Nilai pembayaran maksimum adalah 13,664.08, menunjukkan bahwa ada pesanan dengan nilai pembayaran yang sangat tinggi.\n",
        "9. Nilai pembayaran minimum adalah 0, menunjukkan bahwa ada pesanan dengan nilai pembayaran yang sangat rendah atau bahkan gratis."
      ]
    },
    {
      "cell_type": "markdown",
      "id": "b4e73199-e13b-49e6-a5aa-2633526210ac",
      "metadata": {
        "id": "b4e73199-e13b-49e6-a5aa-2633526210ac"
      },
      "source": [
        "**Berikut informasi yang bisa didapat dari data di atas :**"
      ]
    },
    {
      "cell_type": "markdown",
      "id": "d1fab8c3-f001-4004-b33c-135afc332486",
      "metadata": {
        "id": "d1fab8c3-f001-4004-b33c-135afc332486"
      },
      "source": [
        "- **Metode pembayaran yang paling populer di kalangan pelanggan.**"
      ]
    },
    {
      "cell_type": "code",
      "execution_count": null,
      "id": "41c2f75b-d3ea-4c2c-8d05-ee733931d21a",
      "metadata": {
        "id": "41c2f75b-d3ea-4c2c-8d05-ee733931d21a"
      },
      "outputs": [],
      "source": [
        "payment_df.groupby(by=\"payment_type\").order_id.nunique().sort_values(ascending=False).reset_index()"
      ]
    },
    {
      "cell_type": "markdown",
      "id": "c7fbb968-9c74-449a-b1d6-2d0b6b74243e",
      "metadata": {
        "id": "c7fbb968-9c74-449a-b1d6-2d0b6b74243e"
      },
      "source": [
        "**Insight :**\n",
        "\n",
        "Kartu kredit adalah metode pembayaran yang paling populer di kalangan pelanggan, dengan jumlah pesanan yang jauh lebih tinggi dibandingkan metode pembayaran lainnya."
      ]
    },
    {
      "cell_type": "markdown",
      "id": "3ee1e6d9-5170-4e9f-b5a1-7d99cc8ad3ad",
      "metadata": {
        "id": "3ee1e6d9-5170-4e9f-b5a1-7d99cc8ad3ad"
      },
      "source": [
        "- **Metode pembayaran yang paling signifikan dalam hal nilai transaksi.**"
      ]
    },
    {
      "cell_type": "code",
      "execution_count": null,
      "id": "d90b1343-feb2-4560-83d3-ea7a134f6e7c",
      "metadata": {
        "id": "d90b1343-feb2-4560-83d3-ea7a134f6e7c"
      },
      "outputs": [],
      "source": [
        "payment_df.groupby(by=\"payment_type\").payment_value.sum().sort_values(ascending=False).reset_index()"
      ]
    },
    {
      "cell_type": "markdown",
      "id": "1b404aac-a9f6-40e3-bd50-80be849ecdd9",
      "metadata": {
        "id": "1b404aac-a9f6-40e3-bd50-80be849ecdd9"
      },
      "source": [
        "**Insight :**\n",
        "\n",
        "Kartu kredit adalah metode pembayaran yang memberikan kontribusi terbesar terhadap total nilai pembayaran. Ini menunjukkan bahwa pelanggan cenderung menggunakan kartu kredit untuk transaksi dengan nilai yang lebih tinggi."
      ]
    },
    {
      "cell_type": "markdown",
      "id": "9eebaa32-31a2-45e8-9706-a6196a590578",
      "metadata": {
        "id": "9eebaa32-31a2-45e8-9706-a6196a590578"
      },
      "source": [
        "**Menggabungkan Dataset payment_df dan order_produk_baru_df**"
      ]
    },
    {
      "cell_type": "markdown",
      "id": "6805cf25-030f-4a24-8e32-40253d21a15c",
      "metadata": {
        "id": "6805cf25-030f-4a24-8e32-40253d21a15c"
      },
      "source": [
        "Pada tahap ini, kita akan mengeksplorasi data payment_df dan order_produk_baru_df. Kita bisa menganalisis hubungan antara produk yang dipesan dan metode pembayaran yang digunakan."
      ]
    },
    {
      "cell_type": "code",
      "execution_count": null,
      "id": "1e1d953c-04b7-4300-bf16-f8588316b4f2",
      "metadata": {
        "id": "1e1d953c-04b7-4300-bf16-f8588316b4f2"
      },
      "outputs": [],
      "source": [
        "payment_produk_df = pd.merge(payment_df, order_produk_baru_df, on='order_id')"
      ]
    },
    {
      "cell_type": "markdown",
      "id": "dfe008b8-67a9-4bdb-9209-4c847927a90c",
      "metadata": {
        "id": "dfe008b8-67a9-4bdb-9209-4c847927a90c"
      },
      "source": [
        "rangkuman parameter statistik dari payment_produk_df :"
      ]
    },
    {
      "cell_type": "code",
      "execution_count": null,
      "id": "6b6e6fb0-d5d5-4d5f-8a83-6c8d3d382cd9",
      "metadata": {
        "id": "6b6e6fb0-d5d5-4d5f-8a83-6c8d3d382cd9"
      },
      "outputs": [],
      "source": [
        "payment_produk_df.describe(include=\"all\")"
      ]
    },
    {
      "cell_type": "markdown",
      "id": "aef14eae-dd7a-443b-afb1-1a82b2a567a3",
      "metadata": {
        "id": "aef14eae-dd7a-443b-afb1-1a82b2a567a3"
      },
      "source": [
        "**Insight :**\n",
        "\n",
        "1. Dataset ini mencakup 98,644 pesanan\n",
        "2. Terdapat 4 metode pembayaran yang digunakan oleh pelanggan. Metode pembayaran yang paling sering digunakan adalah kartu kredit, dengan 86,756 transaksi.\n",
        "3. Rata-rata nilai pembayaran adalah sekitar 172.67, dengan standar deviasi 267.58. Nilai pembayaran bervariasi secara signifikan, dengan nilai pembayaran maksimum mencapai 13,664.08."
      ]
    },
    {
      "cell_type": "markdown",
      "id": "f1bac7d2-b81b-4050-a96c-aa2ffcce5d59",
      "metadata": {
        "id": "f1bac7d2-b81b-4050-a96c-aa2ffcce5d59"
      },
      "source": [
        "**Berikut informasi yang bisa didapat dari data di atas :**"
      ]
    },
    {
      "cell_type": "markdown",
      "id": "4bd4c4b4-31d6-4751-bf19-72fa82ebaa2b",
      "metadata": {
        "id": "4bd4c4b4-31d6-4751-bf19-72fa82ebaa2b"
      },
      "source": [
        "- **Metode pembayaran yang paling populer di kalangan pelanggan.**"
      ]
    },
    {
      "cell_type": "code",
      "execution_count": null,
      "id": "bdee9638-78c9-41d0-9395-32dbe44e12af",
      "metadata": {
        "id": "bdee9638-78c9-41d0-9395-32dbe44e12af"
      },
      "outputs": [],
      "source": [
        "payment_produk_df.groupby(by=\"payment_type\").customer_id.nunique().sort_values(ascending=False).reset_index()"
      ]
    },
    {
      "cell_type": "markdown",
      "id": "1165ac49-d6c6-4698-92bc-b41a34526330",
      "metadata": {
        "id": "1165ac49-d6c6-4698-92bc-b41a34526330"
      },
      "source": [
        "**Insight :**\n",
        "\n",
        "Kartu kredit adalah metode pembayaran yang paling populer di kalangan pelanggan, dengan jumlah pelanggan yang jauh lebih tinggi dibandingkan metode pembayaran lainnya."
      ]
    },
    {
      "cell_type": "markdown",
      "id": "8bdb548d-b1ac-4fd9-9a5b-a9d981ba527c",
      "metadata": {
        "id": "8bdb548d-b1ac-4fd9-9a5b-a9d981ba527c"
      },
      "source": [
        "- **Metode pembayaran yang paling populer untuk produk.**"
      ]
    },
    {
      "cell_type": "code",
      "execution_count": null,
      "id": "72105b92-992a-42ee-8e5e-4fb73cc6729f",
      "metadata": {
        "id": "72105b92-992a-42ee-8e5e-4fb73cc6729f"
      },
      "outputs": [],
      "source": [
        "payment_produk_df.groupby(by=\"payment_type\").product_id.nunique().sort_values(ascending=False).reset_index()"
      ]
    },
    {
      "cell_type": "markdown",
      "id": "00c8808c-8752-4e81-adf1-f50d2067495b",
      "metadata": {
        "id": "00c8808c-8752-4e81-adf1-f50d2067495b"
      },
      "source": [
        "**Insight :**\n",
        "\n",
        "Kartu kredit adalah metode pembayaran yang paling sering digunakan oleh pelanggan untuk membeli produk, dengan jumlah produk yang jauh lebih tinggi dibandingkan metode pembayaran lainnya."
      ]
    },
    {
      "cell_type": "markdown",
      "id": "ac387f2b-6f4a-4435-a0ac-7628838b517c",
      "metadata": {
        "id": "ac387f2b-6f4a-4435-a0ac-7628838b517c"
      },
      "source": [
        "- **Distribusi Pesanan Berdasarkan Jenis Pembayaran dan Kategori Produk.**"
      ]
    },
    {
      "cell_type": "code",
      "execution_count": null,
      "id": "9ba5d2e3-5a7c-4f4b-9814-a4c9b8bee265",
      "metadata": {
        "id": "9ba5d2e3-5a7c-4f4b-9814-a4c9b8bee265"
      },
      "outputs": [],
      "source": [
        "payment_produk_df.groupby(by=[\"payment_type\", \"product_category_name_english\"]).agg({\n",
        "    \"order_id\": \"nunique\",\n",
        "    \"payment_value\": [\"max\", \"min\", \"mean\", \"std\"]\n",
        "})"
      ]
    },
    {
      "cell_type": "markdown",
      "id": "376b5264-0717-4970-a5f2-66a4a89e4ed1",
      "metadata": {
        "id": "376b5264-0717-4970-a5f2-66a4a89e4ed1"
      },
      "source": [
        "**Insight :**\n",
        "\n",
        "Berdasarkan jenis pembayaran dan kategori produk, nilai pembayaran cukup variatif"
      ]
    },
    {
      "cell_type": "markdown",
      "id": "be8f93c3-960b-4a97-aeb8-b1d5afd5ac2a",
      "metadata": {
        "id": "be8f93c3-960b-4a97-aeb8-b1d5afd5ac2a"
      },
      "source": [
        "- **Kategori produk dengan total nilai pembayaran tertinggi.**"
      ]
    },
    {
      "cell_type": "code",
      "execution_count": null,
      "id": "8df4e702-e8f1-4683-b1d0-818cf6c563a8",
      "metadata": {
        "id": "8df4e702-e8f1-4683-b1d0-818cf6c563a8"
      },
      "outputs": [],
      "source": [
        "payment_produk_df.groupby(by=\"product_category_name_english\").payment_value.sum().sort_values(ascending=False).reset_index().head()"
      ]
    },
    {
      "cell_type": "markdown",
      "id": "b4e09421-0fa3-449f-84ad-0e8d1f6e78bd",
      "metadata": {
        "id": "b4e09421-0fa3-449f-84ad-0e8d1f6e78bd"
      },
      "source": [
        "**Insight :**\n",
        "\n",
        "Kategori bed_bath_table memiliki total nilai pembayaran tertinggi."
      ]
    },
    {
      "cell_type": "markdown",
      "id": "8c26b7c9-07d2-409e-9819-3224f60e2593",
      "metadata": {
        "id": "8c26b7c9-07d2-409e-9819-3224f60e2593"
      },
      "source": [
        "**Menggabungkan Dataset customer_df dan payment_produk_df**"
      ]
    },
    {
      "cell_type": "markdown",
      "id": "79c0a7e7-c969-4bd7-a399-dcf36cd41485",
      "metadata": {
        "id": "79c0a7e7-c969-4bd7-a399-dcf36cd41485"
      },
      "source": [
        "Pada tahap ini, kita akan mengeksplorasi data customer_df dan payment_produk_df. Ini membantu dalam memahami profil pelanggan yang menggunakan metode pembayaran tertentu."
      ]
    },
    {
      "cell_type": "code",
      "execution_count": null,
      "id": "c6d3c614-0782-4c25-be48-906ab564c5cf",
      "metadata": {
        "id": "c6d3c614-0782-4c25-be48-906ab564c5cf"
      },
      "outputs": [],
      "source": [
        "payment_produk_cust_df = pd.merge(payment_produk_df, customer_df, on='customer_id')"
      ]
    },
    {
      "cell_type": "markdown",
      "id": "3c8c83dd-0f61-4cbd-822a-8c92244f4495",
      "metadata": {
        "id": "3c8c83dd-0f61-4cbd-822a-8c92244f4495"
      },
      "source": [
        "rangkuman parameter statistik dari payment_produk_cust_df :"
      ]
    },
    {
      "cell_type": "code",
      "execution_count": null,
      "id": "c9c220b3-abc3-4004-85bd-ec88f8de3d77",
      "metadata": {
        "id": "c9c220b3-abc3-4004-85bd-ec88f8de3d77"
      },
      "outputs": [],
      "source": [
        "payment_produk_cust_df.describe(include=\"all\")"
      ]
    },
    {
      "cell_type": "markdown",
      "id": "aee95e8a-64e7-4693-894c-912ef0f1922a",
      "metadata": {
        "id": "aee95e8a-64e7-4693-894c-912ef0f1922a"
      },
      "source": [
        "**Insight :**\n",
        "\n",
        "1. Kartu kredit adalah metode pembayaran yang paling sering digunakan oleh pelanggan, dengan 86,756 transaksi.\n",
        "2. Pelanggan tersebar di berbagai kota dan negara bagian. Kota dengan jumlah pelanggan terbanyak adalah Sao Paulo, dengan 18,589 pelanggan, dan negara bagian dengan jumlah pelanggan terbanyak adalah SP, dengan 49,554 pelanggan."
      ]
    },
    {
      "cell_type": "markdown",
      "id": "addf798e-1249-41aa-8336-8c8524a1b29c",
      "metadata": {
        "id": "addf798e-1249-41aa-8336-8c8524a1b29c"
      },
      "source": [
        "**Berikut informasi yang bisa didapat dari data di atas :**"
      ]
    },
    {
      "cell_type": "markdown",
      "id": "4c5ad1d7-aa36-4d2a-be90-bdf22c3b8df8",
      "metadata": {
        "id": "4c5ad1d7-aa36-4d2a-be90-bdf22c3b8df8"
      },
      "source": [
        "- **Distribusi Pesanan Berdasarkan Jenis Pembayaran dan Kota Pelanggan.**"
      ]
    },
    {
      "cell_type": "code",
      "execution_count": null,
      "id": "76754c19-fdd5-4d12-870d-2b7b371411ee",
      "metadata": {
        "id": "76754c19-fdd5-4d12-870d-2b7b371411ee"
      },
      "outputs": [],
      "source": [
        "payment_produk_cust_df.groupby(by=[\"payment_type\", \"customer_city\"]).agg({\n",
        "    \"order_id\": \"nunique\",\n",
        "})"
      ]
    },
    {
      "cell_type": "markdown",
      "id": "b910c337-f346-424b-b871-afc93d603452",
      "metadata": {
        "id": "b910c337-f346-424b-b871-afc93d603452"
      },
      "source": [
        "**Insight :**\n",
        "\n",
        "Pesanan yang menggunakan berbagai metode pembayaran (seperti kartu kredit, boleto, voucher, dan kartu debit) didistribusikan secara relatif seimbang di berbagai kota. Ini menunjukkan bahwa tidak ada satu metode pembayaran yang mendominasi di kota tertentu, melainkan semua metode pembayaran digunakan oleh pelanggan di berbagai lokasi geografis."
      ]
    },
    {
      "cell_type": "markdown",
      "id": "9635eaa9-2a51-43d7-aeaa-a2a736b84973",
      "metadata": {
        "id": "9635eaa9-2a51-43d7-aeaa-a2a736b84973"
      },
      "source": [
        "- **Distribusi Pesanan Berdasarkan Jenis Pembayaran dan Negara Pelanggan.**"
      ]
    },
    {
      "cell_type": "code",
      "execution_count": null,
      "id": "e82a92cc-4fa4-470a-8f9d-6b97f8ec66ca",
      "metadata": {
        "id": "e82a92cc-4fa4-470a-8f9d-6b97f8ec66ca"
      },
      "outputs": [],
      "source": [
        "payment_produk_cust_df.groupby(by=[\"payment_type\", \"customer_state\"]).agg({\n",
        "    \"order_id\": \"nunique\",\n",
        "})"
      ]
    },
    {
      "cell_type": "markdown",
      "id": "f9ae0c43-9415-4e1c-b364-82d2bb90e988",
      "metadata": {
        "id": "f9ae0c43-9415-4e1c-b364-82d2bb90e988"
      },
      "source": [
        "**Insight :**\n",
        "\n",
        "Pesanan yang menggunakan berbagai metode pembayaran (seperti kartu kredit, boleto, voucher, dan kartu debit) didistribusikan secara merata di berbagai negara. Namun ada tipe pembayaran yang mendominasi di beberapa negara. Metode Pembayaran Boleto, Terdapat 608 pesanan menggunakan boleto, menunjukkan bahwa metode ini cukup populer di negara bagian BA. Metode Pembayaran Voucher, Terdapat 1,551 pesanan unik menggunakan voucher, menunjukkan bahwa metode ini cukup populer di negara bagian SP."
      ]
    },
    {
      "cell_type": "markdown",
      "id": "ab6e5f96-3bb8-4440-bdab-258ff350860d",
      "metadata": {
        "id": "ab6e5f96-3bb8-4440-bdab-258ff350860d"
      },
      "source": [
        "- **Negara bagian dengan total nilai pembayaran tertinggi.**"
      ]
    },
    {
      "cell_type": "code",
      "execution_count": null,
      "id": "5f3101e8-e655-40ca-bcc9-5b2e30110af6",
      "metadata": {
        "id": "5f3101e8-e655-40ca-bcc9-5b2e30110af6"
      },
      "outputs": [],
      "source": [
        "payment_produk_cust_df.groupby(by=\"customer_state\").payment_value.sum().sort_values(ascending=False).reset_index().head()"
      ]
    },
    {
      "cell_type": "markdown",
      "id": "9ca4fc56-5321-427f-a431-e242b248d209",
      "metadata": {
        "id": "9ca4fc56-5321-427f-a431-e242b248d209"
      },
      "source": [
        "**Insight :**\n",
        "\n",
        "Negara SP memiliki total nilai pembayaran tertinggi."
      ]
    },
    {
      "cell_type": "markdown",
      "id": "9e99138e-01dc-419c-9e70-b51680fba11a",
      "metadata": {
        "id": "9e99138e-01dc-419c-9e70-b51680fba11a"
      },
      "source": [
        "- **Kota pelanggan dengan total nilai pembayaran tertinggi.**"
      ]
    },
    {
      "cell_type": "code",
      "execution_count": null,
      "id": "a1b05b63-7a23-4c54-802f-19199fde9f80",
      "metadata": {
        "id": "a1b05b63-7a23-4c54-802f-19199fde9f80"
      },
      "outputs": [],
      "source": [
        "payment_produk_cust_df.groupby(by=\"customer_city\").payment_value.sum().sort_values(ascending=False).reset_index().head()"
      ]
    },
    {
      "cell_type": "markdown",
      "id": "717a7f5a-f3b8-4465-893c-e6950b5a4e35",
      "metadata": {
        "id": "717a7f5a-f3b8-4465-893c-e6950b5a4e35"
      },
      "source": [
        "**Insight :**\n",
        "\n",
        "Kota sao paulo ini memiliki total nilai pembayaran tertinggi."
      ]
    },
    {
      "cell_type": "markdown",
      "id": "db7e95fc-a6cc-4783-b8cf-665914532283",
      "metadata": {
        "id": "db7e95fc-a6cc-4783-b8cf-665914532283"
      },
      "source": [
        "**Menggabungkan Dataset seller_df dan payment_produk_df**"
      ]
    },
    {
      "cell_type": "markdown",
      "id": "d54c06ed-b142-4ce8-b86e-916e6c877e7e",
      "metadata": {
        "id": "d54c06ed-b142-4ce8-b86e-916e6c877e7e"
      },
      "source": [
        "Pada tahap ini, kita akan mengeksplorasi data seller_df dan payment_produk_df. Ini membantu dalam memahami profil penjual dengan metode pembayaran tertentu."
      ]
    },
    {
      "cell_type": "code",
      "execution_count": null,
      "id": "b55d971d-0840-4659-a4ce-5a9ce69fb6e7",
      "metadata": {
        "id": "b55d971d-0840-4659-a4ce-5a9ce69fb6e7"
      },
      "outputs": [],
      "source": [
        "payment_produk_seller_df = pd.merge(payment_produk_df, seller_df, on='seller_id')"
      ]
    },
    {
      "cell_type": "markdown",
      "id": "8f877425-fcb3-4d9e-9bef-882b411ba29e",
      "metadata": {
        "id": "8f877425-fcb3-4d9e-9bef-882b411ba29e"
      },
      "source": [
        "rangkuman parameter statistik dari payment_produk_seller_df :"
      ]
    },
    {
      "cell_type": "code",
      "execution_count": null,
      "id": "253faf66-30a6-4b09-82d8-d3327c2e71bc",
      "metadata": {
        "id": "253faf66-30a6-4b09-82d8-d3327c2e71bc"
      },
      "outputs": [],
      "source": [
        "payment_produk_seller_df.describe(include=\"all\")"
      ]
    },
    {
      "cell_type": "markdown",
      "id": "3302021e-01ce-45a6-847d-a8673317a8da",
      "metadata": {
        "id": "3302021e-01ce-45a6-847d-a8673317a8da"
      },
      "source": [
        "**Insight :**\n",
        "\n",
        "1. Kartu kredit adalah metode pembayaran yang paling sering digunakan, dengan 86,756 transaksi.\n",
        "2. Penjual tersebar di berbagai kota dan negara bagian. Kota dengan jumlah penjual terbanyak adalah Sao Paulo, dengan 29,149 penjual, dan negara bagian dengan jumlah penjual terbanyak adalah SP, dengan 83,829 penjual."
      ]
    },
    {
      "cell_type": "markdown",
      "id": "ac462061-80d9-49da-933a-924b3f7d87cd",
      "metadata": {
        "id": "ac462061-80d9-49da-933a-924b3f7d87cd"
      },
      "source": [
        "**Berikut informasi yang bisa didapat dari data di atas :**"
      ]
    },
    {
      "cell_type": "markdown",
      "id": "6161398f-6464-4d19-9945-8555478e3583",
      "metadata": {
        "id": "6161398f-6464-4d19-9945-8555478e3583"
      },
      "source": [
        "- **Distribusi Pesanan Berdasarkan Jenis Pembayaran dan Kota Penjual.**"
      ]
    },
    {
      "cell_type": "code",
      "execution_count": null,
      "id": "bc9ec2ba-4f77-454c-84da-fa7990fffa32",
      "metadata": {
        "id": "bc9ec2ba-4f77-454c-84da-fa7990fffa32"
      },
      "outputs": [],
      "source": [
        "payment_produk_seller_df.groupby(by=[\"payment_type\", \"seller_city\"]).agg({\n",
        "    \"order_id\": \"nunique\",\n",
        "})"
      ]
    },
    {
      "cell_type": "markdown",
      "id": "c87fd179-342d-4954-9d5b-13d088bb44ea",
      "metadata": {
        "id": "c87fd179-342d-4954-9d5b-13d088bb44ea"
      },
      "source": [
        "**Insight :**\n",
        "\n",
        "Pesanan yang menggunakan berbagai metode pembayaran (seperti kartu kredit, boleto, voucher, dan kartu debit) didistribusikan secara merata di berbagai kota penjual. Namun ada tipe pembayaran yang mendominasi di beberapa kota. Metode Pembayaran Boleto, Terdapat 22 pesanan menggunakan boleto, menunjukkan bahwa metode ini cukup populer di kota tersebut."
      ]
    },
    {
      "cell_type": "markdown",
      "id": "4dc008cf-a7e4-4b41-baf3-f4a03277db6a",
      "metadata": {
        "id": "4dc008cf-a7e4-4b41-baf3-f4a03277db6a"
      },
      "source": [
        "- **Distribusi Pesanan Berdasarkan Jenis Pembayaran dan Negara Penjual.**"
      ]
    },
    {
      "cell_type": "code",
      "execution_count": null,
      "id": "91be1e40-19e8-4d38-b3c9-87dc604e9eee",
      "metadata": {
        "id": "91be1e40-19e8-4d38-b3c9-87dc604e9eee"
      },
      "outputs": [],
      "source": [
        "payment_produk_seller_df.groupby(by=[\"payment_type\", \"seller_state\"]).agg({\n",
        "    \"order_id\": \"nunique\",\n",
        "})"
      ]
    },
    {
      "cell_type": "markdown",
      "id": "141afc73-d976-43b1-b9c3-d2bfa58617c3",
      "metadata": {
        "id": "141afc73-d976-43b1-b9c3-d2bfa58617c3"
      },
      "source": [
        "**Insight :**\n",
        "\n",
        "Pesanan yang menggunakan berbagai metode pembayaran (seperti kartu kredit, boleto, voucher, dan kartu debit) didistribusikan secara merata di berbagai negara penjual. Namun ada tipe pembayaran yang mendominasi di beberapa kota. Metode Pembayaran voucher, Terdapat 2769 pesanan menggunakan pembayaran voucher, menunjukkan bahwa metode ini cukup populer di kota tersebut."
      ]
    },
    {
      "cell_type": "markdown",
      "id": "8eb0b4b3-1666-42b4-8f2c-4a98a9d4178f",
      "metadata": {
        "id": "8eb0b4b3-1666-42b4-8f2c-4a98a9d4178f"
      },
      "source": [
        "- **Kota penjual dengan total nilai pembayaran tertinggi.**"
      ]
    },
    {
      "cell_type": "code",
      "execution_count": null,
      "id": "38f477b7-fd78-4bda-adf5-e0f91e45b35a",
      "metadata": {
        "id": "38f477b7-fd78-4bda-adf5-e0f91e45b35a"
      },
      "outputs": [],
      "source": [
        "payment_produk_seller_df.groupby(by=\"seller_city\").payment_value.sum().sort_values(ascending=False).reset_index().head()"
      ]
    },
    {
      "cell_type": "markdown",
      "id": "b1c92791-8b0c-4225-9845-8e8512f9fc74",
      "metadata": {
        "id": "b1c92791-8b0c-4225-9845-8e8512f9fc74"
      },
      "source": [
        "**Insight :**\n",
        "\n",
        "São Paulo memiliki total nilai pembayaran tertinggi, menunjukkan bahwa kota ini merupakan pusat aktivitas penjualan yang signifikan."
      ]
    },
    {
      "cell_type": "markdown",
      "id": "6d92fa96-9802-4471-9880-1886c394901c",
      "metadata": {
        "id": "6d92fa96-9802-4471-9880-1886c394901c"
      },
      "source": [
        "- **Negara penjual dengan total nilai pembayaran tertinggi.**"
      ]
    },
    {
      "cell_type": "code",
      "execution_count": null,
      "id": "8e33c70b-32ea-4b37-8e79-422e379046c6",
      "metadata": {
        "id": "8e33c70b-32ea-4b37-8e79-422e379046c6"
      },
      "outputs": [],
      "source": [
        "payment_produk_seller_df.groupby(by=\"seller_state\").payment_value.sum().sort_values(ascending=False).reset_index().head()"
      ]
    },
    {
      "cell_type": "markdown",
      "id": "ae4df4d2-b74f-4423-9261-e6767abd90cc",
      "metadata": {
        "id": "ae4df4d2-b74f-4423-9261-e6767abd90cc"
      },
      "source": [
        "**Insight :**\n",
        "\n",
        "SP memiliki total nilai pembayaran tertinggi, menunjukkan bahwa negara bagian ini merupakan pusat aktivitas penjualan yang sangat signifikan."
      ]
    },
    {
      "cell_type": "markdown",
      "id": "09ef054d-734f-4896-802e-27578980cb04",
      "metadata": {
        "id": "09ef054d-734f-4896-802e-27578980cb04"
      },
      "source": [
        "**Eksplorasi Data all_df**"
      ]
    },
    {
      "cell_type": "markdown",
      "id": "19ddb0e6-f541-4ae7-8295-b0a731dc9ec9",
      "metadata": {
        "id": "19ddb0e6-f541-4ae7-8295-b0a731dc9ec9"
      },
      "source": [
        "Pada tahap ini, kita akan menggabungkan dataset-dataset yang kita punya untuk membuat dataFrame baru bernama **all_df** dimana menampung informasi dari tabel-tabel yang kita miliki. Selain itu dataframe yang dibuat ini akan digunakan nantinya untuk membuat dashboard di streamlit.\n",
        "\n",
        "Proses penggabungan dataset ini akan melalui beberapa tahap dikarenakan jumlah dataset yang banyak. Namun untuk menghemat tahapan, kita akan mulai dari menggabungkan dataset **order_produk_baru_cust_df** dengan dataset **review_df** dimana dataset **order_produk_baru_cust_df** sendiri merupakan gabungan dari 5 dataset sebelumnya yaitu orders_df, order_item_df, produk_df, kategori_produk_df dan customer_df.\n",
        "\n",
        "Berikut tahapan dalam proses penggabungan dataset ini."
      ]
    },
    {
      "cell_type": "markdown",
      "id": "309bdd74-f4f1-4ea1-8af0-70746b46bc30",
      "metadata": {
        "id": "309bdd74-f4f1-4ea1-8af0-70746b46bc30"
      },
      "source": [
        "**Tahap 1 : Menggabungkan dataset order_produk_baru_cust_df dan review_df**"
      ]
    },
    {
      "cell_type": "code",
      "execution_count": null,
      "id": "43d1cbe8-182c-422d-88eb-9360d4bfe628",
      "metadata": {
        "id": "43d1cbe8-182c-422d-88eb-9360d4bfe628"
      },
      "outputs": [],
      "source": [
        "merged_1_df = pd.merge(\n",
        "    left=order_produk_baru_cust_df,\n",
        "    right=review_df,\n",
        "    how=\"left\",\n",
        "    left_on=\"order_id\",\n",
        "    right_on=\"order_id\"\n",
        ")"
      ]
    },
    {
      "cell_type": "markdown",
      "id": "8e583565-d79c-4f05-b9c9-0fff19616d2a",
      "metadata": {
        "id": "8e583565-d79c-4f05-b9c9-0fff19616d2a"
      },
      "source": [
        "**Tahap 2 : Menggabungkan dataset merged_1_df dan payment_df**"
      ]
    },
    {
      "cell_type": "code",
      "execution_count": null,
      "id": "94327bda-33cc-4e13-a8f8-fde9ba3bce2d",
      "metadata": {
        "id": "94327bda-33cc-4e13-a8f8-fde9ba3bce2d"
      },
      "outputs": [],
      "source": [
        "merged_2_df = pd.merge(\n",
        "    left=merged_1_df,\n",
        "    right=payment_df,\n",
        "    how=\"left\",\n",
        "    left_on=\"order_id\",\n",
        "    right_on=\"order_id\"\n",
        ")"
      ]
    },
    {
      "cell_type": "markdown",
      "id": "9d69f4be-0b99-4ab6-ad70-02b04a75a613",
      "metadata": {
        "id": "9d69f4be-0b99-4ab6-ad70-02b04a75a613"
      },
      "source": [
        "**Tahap 3 : Menggabungkan dataset merged_2_df dan seller_df**"
      ]
    },
    {
      "cell_type": "code",
      "execution_count": null,
      "id": "66297083-541a-4488-b6d9-a8cf6e5fd96d",
      "metadata": {
        "id": "66297083-541a-4488-b6d9-a8cf6e5fd96d"
      },
      "outputs": [],
      "source": [
        "all_df = pd.merge(\n",
        "    left=merged_2_df,\n",
        "    right=seller_df,\n",
        "    how=\"left\",\n",
        "    left_on=\"seller_id\",\n",
        "    right_on=\"seller_id\"\n",
        ")"
      ]
    },
    {
      "cell_type": "markdown",
      "id": "0747c00e-4a8a-4f4c-ac7f-d936d03b6172",
      "metadata": {
        "id": "0747c00e-4a8a-4f4c-ac7f-d936d03b6172"
      },
      "source": [
        "**Menyiapkan DataFrame yang akan digunakan untuk membuat dashboard dengan Streamlit**"
      ]
    },
    {
      "cell_type": "code",
      "execution_count": null,
      "id": "985e3321-8282-4afb-9e26-654cc8e58d68",
      "metadata": {
        "id": "985e3321-8282-4afb-9e26-654cc8e58d68"
      },
      "outputs": [],
      "source": [
        "import os\n",
        "\n",
        "# Menentukan path untuk menyimpan file\n",
        "subdir = 'dashboard'\n",
        "filename = 'all_data_ecommerce.csv'\n",
        "file_path = os.path.join(subdir, filename)\n",
        "\n",
        "# Menyimpan DataFrame ke file .csv\n",
        "all_df.to_csv(file_path, index=False)"
      ]
    },
    {
      "cell_type": "markdown",
      "id": "9324766a-0abf-4930-bfe2-d0294b4ed103",
      "metadata": {
        "id": "9324766a-0abf-4930-bfe2-d0294b4ed103"
      },
      "source": [
        "### Visualization & Explanatory Analysis"
      ]
    },
    {
      "cell_type": "markdown",
      "id": "ca5f0ee5-2aac-4c87-a80a-a8fe5a40c621",
      "metadata": {
        "id": "ca5f0ee5-2aac-4c87-a80a-a8fe5a40c621"
      },
      "source": [
        "**Pertanyaan 1 : Produk apa yang paling banyak dan paling sedikit terjual ?**"
      ]
    },
    {
      "cell_type": "code",
      "execution_count": null,
      "id": "326b28e2-e7f1-401e-8cf7-fe8ed1576bf7",
      "metadata": {
        "id": "326b28e2-e7f1-401e-8cf7-fe8ed1576bf7"
      },
      "outputs": [],
      "source": [
        "# Membuat dua buah visualisasi dalam satu gambar\n",
        "fig, axes = plt.subplots(1, 2, figsize=(7, 6))\n",
        "\n",
        "# Hitung jumlah penjualan untuk setiap produk\n",
        "produk_terjual = all_df.groupby('product_category_name_english').size().reset_index(name='count')\n",
        "\n",
        "# Urutkan berdasarkan jumlah penjualan\n",
        "produk_terjual = produk_terjual.sort_values(by='count', ascending=False)\n",
        "\n",
        "# Visualisasi produk yang paling banyak terjual\n",
        "sns.barplot(x='product_category_name_english', y='count', data=produk_terjual.head(), ax=axes[0], palette='viridis')\n",
        "axes[0].set_title('Produk yang Paling Banyak Terjual')\n",
        "axes[0].set_xlabel('Kategori Produk')\n",
        "axes[0].tick_params(axis='x', rotation=90)\n",
        "axes[0].set_ylabel('Jumlah Penjualan')\n",
        "\n",
        "# Visualisasi produk yang paling sedikit terjual\n",
        "sns.barplot(x='product_category_name_english', y='count', data=produk_terjual.tail(), ax=axes[1], palette='viridis')\n",
        "axes[1].set_title('Produk yang Paling Sedikit Terjual')\n",
        "axes[1].set_xlabel('Kategori Produk')\n",
        "axes[1].tick_params(axis='x', rotation=90)\n",
        "axes[1].set_ylabel('Jumlah Penjualan')\n",
        "\n",
        "plt.tight_layout()\n",
        "plt.show()\n",
        "\n",
        "# Menampilkan data\n",
        "print(produk_terjual.head())\n",
        "print(produk_terjual.tail())\n"
      ]
    },
    {
      "cell_type": "markdown",
      "id": "ff5cc3fa-9591-461c-bb4e-2e165b482475",
      "metadata": {
        "id": "ff5cc3fa-9591-461c-bb4e-2e165b482475"
      },
      "source": [
        "**Insight :**\n",
        "\n",
        "1. Visualisasi ini menunjukkan kategori produk **bed_bath_table muncul sebagai kategori dengan penjualan tertinggi**, ini menunjukkan bahwa produk-produk dalam kategori ini sangat populer dan memiliki permintaan yang tinggi.\n",
        "2. Sedangkan kategori **security_and_services muncul sebagai kategori dengan penjualan terendah**, ini menunjukkan bahwa produk-produk dalam kategori ini kurang populer dan memiliki permintaan yang rendah."
      ]
    },
    {
      "cell_type": "markdown",
      "id": "e864f7de-efd0-4a9c-ac88-1174f56a00aa",
      "metadata": {
        "id": "e864f7de-efd0-4a9c-ac88-1174f56a00aa"
      },
      "source": [
        "**Pertanyaan 2 : Berapa banyak revenue yang didapat dalam 6 bulan terakhir dan sepanjang periode ?**"
      ]
    },
    {
      "cell_type": "markdown",
      "id": "30137d25-cd86-4482-945a-65f1e3a22ea4",
      "metadata": {
        "id": "30137d25-cd86-4482-945a-65f1e3a22ea4"
      },
      "source": [
        "**2.1. Revenue yang didapat dalam 6 bulan terakhir**"
      ]
    },
    {
      "cell_type": "code",
      "execution_count": null,
      "id": "463e3eed-888e-47eb-b398-3cbd0eb07e87",
      "metadata": {
        "id": "463e3eed-888e-47eb-b398-3cbd0eb07e87"
      },
      "outputs": [],
      "source": [
        "# Tentukan tanggal maksimal dan hitung tanggal 6 bulan sebelumnya\n",
        "tanggal_maksimal = all_df['order_purchase_timestamp'].max()\n",
        "tanggal_6_bulan_sebelumnya = tanggal_maksimal - pd.DateOffset(months=6)\n",
        "\n",
        "# Filter data untuk 6 bulan terakhir\n",
        "recent_payments = all_df[all_df['order_purchase_timestamp'] >= tanggal_6_bulan_sebelumnya]\n",
        "\n",
        "# Hitung total uang yang dihabiskan pelanggan berdasarkan bulan\n",
        "total_spent_per_month = recent_payments.groupby(recent_payments['order_purchase_timestamp'].dt.to_period('M'))['payment_value'].sum().reset_index()\n",
        "print(total_spent_per_month)\n",
        "\n",
        "# Buat visualisasi\n",
        "plt.figure(figsize=(8, 4))\n",
        "sns.barplot(x='order_purchase_timestamp', y='payment_value', data=total_spent_per_month, palette='viridis')\n",
        "plt.title('Revenue yang didapat dalam 6 bulan terakhir')\n",
        "plt.xlabel('Periode (Bulan dan Tahun)')\n",
        "plt.ylabel('Total Payment')\n",
        "plt.xticks(rotation=0)\n",
        "plt.show()\n"
      ]
    },
    {
      "cell_type": "markdown",
      "id": "ab83e254-dfdd-4e0e-9bac-a820f8c07a6b",
      "metadata": {
        "id": "ab83e254-dfdd-4e0e-9bac-a820f8c07a6b"
      },
      "source": [
        "**Insight :**\n",
        "\n",
        "Dari visualisasi tersebut, kita bisa menyimpulkan bahwa pada bulan **Mei 2018**, total uang yang dihabiskan oleh pelanggan mencapai puncaknya dibandingkan dengan bulan-bulan lainnya dalam periode 6 bulan terakhir. Kemungkinan alasan untuk peningkatan ini bisa dikeranakan adanya promosi/diskon, musim liburan, atau adanya peluncuran produk baru."
      ]
    },
    {
      "cell_type": "markdown",
      "id": "6043c054-9d72-484e-9c99-412f501e2402",
      "metadata": {
        "id": "6043c054-9d72-484e-9c99-412f501e2402"
      },
      "source": [
        "**2.2. Revenue yang didapat sepanjang periode**"
      ]
    },
    {
      "cell_type": "code",
      "execution_count": null,
      "id": "4c2076e3-c776-4add-8330-b2061d8f9087",
      "metadata": {
        "id": "4c2076e3-c776-4add-8330-b2061d8f9087"
      },
      "outputs": [],
      "source": [
        "# Pastikan kolom tanggal dalam format datetime\n",
        "all_df['order_purchase_timestamp'] = pd.to_datetime(all_df['order_purchase_timestamp'])\n",
        "\n",
        "# Konversi menjadi periode bulan dan tahun\n",
        "all_df['order_purchase_period'] = all_df['order_purchase_timestamp'].dt.to_period('M')\n",
        "\n",
        "# Hitung total uang yang dihabiskan pelanggan berdasarkan periode\n",
        "total_spent_per_period = all_df.groupby('order_purchase_period')['payment_value'].sum().reset_index()\n",
        "print(total_spent_per_period)\n",
        "\n",
        "# Buat visualisasi barplot\n",
        "plt.figure(figsize=(8, 6))\n",
        "sns.barplot(x='payment_value', y='order_purchase_period', data=total_spent_per_period, palette='viridis')\n",
        "plt.title('Revenue yang didapat sepanjang periode')\n",
        "plt.xlabel('Total Payment')\n",
        "plt.ylabel('Periode (Bulan dan Tahun')\n",
        "plt.xticks(rotation=0)\n",
        "plt.show()\n"
      ]
    },
    {
      "cell_type": "markdown",
      "id": "304d09be-a2f3-484d-b955-011fd2882a64",
      "metadata": {
        "id": "304d09be-a2f3-484d-b955-011fd2882a64"
      },
      "source": [
        "**Insight :**\n",
        "\n",
        "1. Terdapat fluktuasi pendapatan yang signifikan sepanjang periode. Misalnya, pengeluaran pada **bulan November 2017 adalah 1,595,006.04**, yang kemudian **menurun pada bulan Desember 2017 menjadi 1,046,223.15**. Fluktuasi ini bisa disebabkan oleh berbagai faktor, termasuk musim liburan atau perubahan dalam strategi pemasaran.\n",
        "2. Bulan dengan **pendapatan tertinggi adalah November 2017, dengan total pendapatan 1,595,006.04**. Ini menunjukkan bahwa ada faktor-faktor tertentu yang mendorong peningkatan belanja pada bulan tersebut, seperti promosi, diskon, atau acara khusus.\n",
        "3. Bulan dengan **pendapatan terendah adalah Desember 2016, dengan total pendapatan hanya 19.62**. Ini mungkin menunjukkan bahwa ada faktor lain yang menyebabkan rendahnya pendapatan pada bulan tersebut."
      ]
    },
    {
      "cell_type": "markdown",
      "id": "9fc3361a-17c7-418d-9572-3069114ee6a1",
      "metadata": {
        "id": "9fc3361a-17c7-418d-9572-3069114ee6a1"
      },
      "source": [
        "### Teknik Analisis Lanjutan"
      ]
    },
    {
      "cell_type": "markdown",
      "id": "2b27387d-f9e9-4674-b76b-b809d354052d",
      "metadata": {
        "id": "2b27387d-f9e9-4674-b76b-b809d354052d"
      },
      "source": [
        "**RFM Analysis (Recency, Frequency, Monetary)**"
      ]
    },
    {
      "cell_type": "markdown",
      "id": "54b5eb53-9f50-41e3-94a0-fbd48f45c4b6",
      "metadata": {
        "id": "54b5eb53-9f50-41e3-94a0-fbd48f45c4b6"
      },
      "source": [
        "- **Distribution of Recency, Frequency, Monetary**"
      ]
    },
    {
      "cell_type": "code",
      "execution_count": null,
      "id": "2e2fd24a-5fb1-49be-924a-0d7da078eafa",
      "metadata": {
        "id": "2e2fd24a-5fb1-49be-924a-0d7da078eafa"
      },
      "outputs": [],
      "source": [
        "# Pastikan kolom tanggal dalam format datetime\n",
        "all_df['order_purchase_timestamp'] = pd.to_datetime(all_df['order_purchase_timestamp'])\n",
        "\n",
        "# Hitung nilai Recency, Frequency, dan Monetary\n",
        "current_date = all_df['order_purchase_timestamp'].max()\n",
        "all_df['order_purchase_timestamp'] = pd.to_datetime(all_df['order_purchase_timestamp'])\n",
        "\n",
        "rfm_df = all_df.groupby('customer_id').agg({\n",
        "    'order_purchase_timestamp': lambda x: (current_date - x.max()).days,\n",
        "    'order_id': 'count',\n",
        "    'payment_value': 'sum'\n",
        "}).reset_index()\n",
        "\n",
        "rfm_df.columns = ['customer_id', 'Recency', 'Frequency', 'Monetary']"
      ]
    },
    {
      "cell_type": "code",
      "execution_count": null,
      "id": "44299403-d9db-4f73-847d-db650951f5a2",
      "metadata": {
        "id": "44299403-d9db-4f73-847d-db650951f5a2"
      },
      "outputs": [],
      "source": [
        "# Visualisasi Recency, Frequency, dan Monetary\n",
        "fig, axes = plt.subplots(1, 3, figsize=(16, 5))\n",
        "\n",
        "# Visualisasi Recency\n",
        "sns.histplot(rfm_df['Recency'], bins=20, kde=True, ax=axes[0])\n",
        "axes[0].set_title('Distribution of Recency')\n",
        "axes[0].set_xlabel('Recency (days)')\n",
        "axes[0].set_ylabel('Frequency')\n",
        "\n",
        "# Visualisasi Frequency\n",
        "sns.histplot(rfm_df['Frequency'], bins=20, kde=True, ax=axes[1])\n",
        "axes[1].set_title('Distribution of Frequency')\n",
        "axes[1].set_xlabel('Frequency (orders)')\n",
        "axes[1].set_ylabel('Frequency')\n",
        "\n",
        "# Visualisasi Monetary\n",
        "sns.histplot(rfm_df['Monetary'], bins=20, kde=True, ax=axes[2])\n",
        "axes[2].set_title('Distribution of Monetary')\n",
        "axes[2].set_xlabel('Monetary ($)')\n",
        "axes[2].set_ylabel('Frequency')\n",
        "\n",
        "plt.tight_layout()\n",
        "plt.show()"
      ]
    },
    {
      "cell_type": "markdown",
      "id": "7e10749f-74d2-415d-bc99-41fffeff1ce8",
      "metadata": {
        "id": "7e10749f-74d2-415d-bc99-41fffeff1ce8"
      },
      "source": [
        "- **Average Recency, Frequency, and Monetary Values**"
      ]
    },
    {
      "cell_type": "code",
      "execution_count": null,
      "id": "f89760b0-779e-4721-bccc-fe9ee8928711",
      "metadata": {
        "id": "f89760b0-779e-4721-bccc-fe9ee8928711"
      },
      "outputs": [],
      "source": [
        "# Hitung rata-rata Recency, Frequency, dan Monetary\n",
        "average_recency = round(rfm_df['Recency'].mean(), 2)\n",
        "average_frequency = round(rfm_df['Frequency'].mean(), 2)\n",
        "average_monetary = round(rfm_df['Monetary'].mean(), 2)\n",
        "\n",
        "# Tampilkan hasil\n",
        "print(f\"Average Recency: {average_recency} days\")\n",
        "print(f\"Average Frequency: {average_frequency} orders\")\n",
        "print(f\"Average Monetary: ${average_monetary:,.2f}\")\n",
        "\n",
        "# Visualisasi nilai rata-rata Recency, Frequency, dan Monetary\n",
        "average_values = pd.DataFrame({\n",
        "    'Metric': ['Recency', 'Frequency', 'Monetary'],\n",
        "    'Average Value': [average_recency, average_frequency, average_monetary]\n",
        "})\n",
        "\n",
        "plt.figure(figsize=(5, 4))\n",
        "sns.barplot(x='Metric', y='Average Value', data=average_values, palette='viridis')\n",
        "plt.title('Average Recency, Frequency, and Monetary Values')\n",
        "plt.xlabel('Metric')\n",
        "plt.ylabel('Average Value')\n",
        "plt.show()\n"
      ]
    },
    {
      "cell_type": "markdown",
      "id": "b3f23fec-d097-4942-b4af-6aad69ab1777",
      "metadata": {
        "id": "b3f23fec-d097-4942-b4af-6aad69ab1777"
      },
      "source": [
        "**Clustering**"
      ]
    },
    {
      "cell_type": "markdown",
      "id": "0088aec0-5318-42ab-9148-388e066ddbbb",
      "metadata": {
        "id": "0088aec0-5318-42ab-9148-388e066ddbbb"
      },
      "source": [
        "- **Metode Manual Grouping : kategori pelanggan berdasarkan rentang nilai Monetary**"
      ]
    },
    {
      "cell_type": "code",
      "execution_count": null,
      "id": "acc1416b-5c18-48e6-b250-bbb7fa4aa819",
      "metadata": {
        "id": "acc1416b-5c18-48e6-b250-bbb7fa4aa819"
      },
      "outputs": [],
      "source": [
        "# Contoh data RFM\n",
        "data = {\n",
        "    'customer_id': range(1, 101),\n",
        "    'Recency': [i % 30 for i in range(1, 101)],\n",
        "    'Frequency': [i % 10 for i in range(1, 101)],\n",
        "    'Monetary': [i * 100 for i in range(1, 101)]\n",
        "}\n",
        "\n",
        "rfm_df = pd.DataFrame(data)\n",
        "\n",
        "# Manual Grouping berdasarkan nilai Monetary\n",
        "def manual_grouping(monetary):\n",
        "    if monetary < 1000:\n",
        "        return 'Low'\n",
        "    elif 1000 <= monetary < 5000:\n",
        "        return 'Medium'\n",
        "    else:\n",
        "        return 'High'\n",
        "\n",
        "rfm_df['Monetary_Group'] = rfm_df['Monetary'].apply(manual_grouping)\n",
        "\n",
        "# Visualisasi Manual Grouping\n",
        "plt.figure(figsize=(5, 3))\n",
        "sns.countplot(x='Monetary_Group', data=rfm_df, palette='viridis')\n",
        "plt.title('Kategori pelanggan berdasarkan nilai Monetary')\n",
        "plt.xlabel('Monetary Group')\n",
        "plt.ylabel('Jumlah Customers')\n",
        "plt.show()\n"
      ]
    },
    {
      "cell_type": "markdown",
      "id": "b084be2f-b75c-4fe0-a286-3172c941fa56",
      "metadata": {
        "id": "b084be2f-b75c-4fe0-a286-3172c941fa56"
      },
      "source": [
        "- **Metode Binning : membagi nilai Recency ke dalam beberapa interval/kategori.**"
      ]
    },
    {
      "cell_type": "code",
      "execution_count": null,
      "id": "e08400ed-7724-40f8-a37a-f1a2cf4f5106",
      "metadata": {
        "id": "e08400ed-7724-40f8-a37a-f1a2cf4f5106"
      },
      "outputs": [],
      "source": [
        "# Binning berdasarkan nilai Recency\n",
        "bins = [0, 10, 20, 30]\n",
        "labels = ['0-10 days', '11-20 days', '21-30 days']\n",
        "rfm_df['Recency_Bin'] = pd.cut(rfm_df['Recency'], bins=bins, labels=labels, right=False)\n",
        "\n",
        "# Visualisasi Binning\n",
        "plt.figure(figsize=(5, 3))\n",
        "sns.countplot(x='Recency_Bin', data=rfm_df, palette='viridis')\n",
        "plt.title('Kategori pelanggan base on waktu interval pembelian')\n",
        "plt.xlabel('Interval pembelian')\n",
        "plt.ylabel('Jumlah Customers')\n",
        "plt.show()\n"
      ]
    },
    {
      "cell_type": "markdown",
      "source": [],
      "metadata": {
        "id": "Flzbw9gPr0vK"
      },
      "id": "Flzbw9gPr0vK"
    },
    {
      "cell_type": "markdown",
      "id": "f02d5093-a882-4f9b-b713-9f1935db5161",
      "metadata": {
        "id": "f02d5093-a882-4f9b-b713-9f1935db5161"
      },
      "source": [
        "### Conclusion"
      ]
    },
    {
      "cell_type": "markdown",
      "id": "69f9b0d2-79ff-4b38-8851-4d691b1d08f0",
      "metadata": {
        "id": "69f9b0d2-79ff-4b38-8851-4d691b1d08f0"
      },
      "source": [
        "**Conclution pertanyaan 1 : Produk apa yang paling banyak dan paling sedikit terjual ?**"
      ]
    },
    {
      "cell_type": "markdown",
      "id": "9232f143-adf9-4fe3-a007-a4d2e78ce37b",
      "metadata": {
        "id": "9232f143-adf9-4fe3-a007-a4d2e78ce37b"
      },
      "source": [
        "**1. Produk dengan Penjualan Tertinggi**\n",
        "\n",
        "\n",
        "a. Kategori Produk: Produk dalam kategori bed_bath_table memiliki jumlah penjualan tertinggi.\n",
        "\n",
        "\n",
        "b. Jumlah Penjualan: Total penjualan dalam kategori ini mencapai 13.521 produk.\n",
        "\n",
        "\n",
        "c. Insight: Tingginya permintaan terhadap produk dalam kategori ini menunjukkan popularitasnya di kalangan pelanggan. Hal ini dapat menjadi fokus utama dalam strategi pemasaran dan manajemen stok untuk memastikan ketersediaan produk yang diminati.\n",
        "\n",
        "\n",
        "\n",
        "**2. Produk dengan Penjualan Terendah**\n",
        "\n",
        "a. Kategori Produk: Produk dalam kategori security_and_services memiliki jumlah penjualan terendah.\n",
        "\n",
        "\n",
        "b. Jumlah Penjualan: Hanya 2 produk dalam kategori ini yang terjual.\n",
        "\n",
        "\n",
        "c. Insight: Rendahnya permintaan terhadap produk dalam kategori ini menunjukkan kurangnya minat pelanggan. Evaluasi lebih lanjut diperlukan untuk menentukan apakah produk ini perlu diperbaiki, dihapus, atau diganti dengan yang lebih diminati. Strategi promosi atau diskon khusus juga bisa dipertimbangkan untuk meningkatkan penjualan."
      ]
    },
    {
      "cell_type": "markdown",
      "id": "ae4f99f0-d90c-477c-b64c-2921e6fb378a",
      "metadata": {
        "id": "ae4f99f0-d90c-477c-b64c-2921e6fb378a"
      },
      "source": [
        "**Conclution pertanyaan 2 : Berapa banyak revenue yang didapat dalam 6 bulan terakhir dan sepanjang periode ?**"
      ]
    },
    {
      "cell_type": "markdown",
      "id": "510db624-510e-4c05-94ed-0f5355062c15",
      "metadata": {
        "id": "510db624-510e-4c05-94ed-0f5355062c15"
      },
      "source": [
        "**1. Revenue yang didapat dalam 6 bulan terakhir :**\n",
        "\n",
        "**Periode :** Maret 2018 hingga September 2018.\n",
        "\n",
        "**Insight :** Pengeluaran pelanggan mencapai puncaknya pada bulan Mei 2018 dengan total pengeluaran sebesar Rp 1,504,928.43. Ini menunjukkan bahwa ada faktor-faktor tertentu yang mendorong peningkatan belanja pada bulan tersebut, seperti promosi, diskon, atau acara khusus. Pengeluaran pelanggan pada bulan September 2018 sangat rendah, hanya sebesar Rp 166.46. Ini mungkin menunjukkan bahwa ada faktor-faktor tertentu yang menyebabkan penurunan drastis dalam pengeluaran.\n",
        "\n",
        "**2. Revenue yang didapat sepanjang periode :**\n",
        "\n",
        "**Periode :** September 2016 hingga September 2018.\n",
        "\n",
        "**Insight :** Pengeluaran pelanggan menunjukkan tren peningkatan yang konsisten dari waktu ke waktu, dengan beberapa fluktuasi. Puncak pengeluaran terjadi pada bulan November 2017 sebesar Rp 1,583,869.01 dan pada bulan Mei 2018 sebesar Rp 1,504,928.43. Fluktuasi ini bisa disebabkan oleh berbagai faktor, termasuk musim liburan, promosi, atau perubahan dalam strategi pemasaran."
      ]
    },
    {
      "cell_type": "code",
      "execution_count": null,
      "id": "536bd977-6bae-45c9-a2c7-79a4eea82605",
      "metadata": {
        "id": "536bd977-6bae-45c9-a2c7-79a4eea82605"
      },
      "outputs": [],
      "source": []
    }
  ],
  "metadata": {
    "kernelspec": {
      "display_name": "Python 3 (ipykernel)",
      "language": "python",
      "name": "python3"
    },
    "language_info": {
      "codemirror_mode": {
        "name": "ipython",
        "version": 3
      },
      "file_extension": ".py",
      "mimetype": "text/x-python",
      "name": "python",
      "nbconvert_exporter": "python",
      "pygments_lexer": "ipython3",
      "version": "3.11.7"
    },
    "colab": {
      "provenance": []
    }
  },
  "nbformat": 4,
  "nbformat_minor": 5
}